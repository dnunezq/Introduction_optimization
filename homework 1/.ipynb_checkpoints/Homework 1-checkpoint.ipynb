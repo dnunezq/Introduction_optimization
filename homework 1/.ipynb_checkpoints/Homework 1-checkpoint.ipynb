{
 "cells": [
  {
   "cell_type": "markdown",
   "id": "7d6def1c",
   "metadata": {},
   "source": [
    "# Trabajo 1"
   ]
  },
  {
   "cell_type": "markdown",
   "id": "210d22aa",
   "metadata": {},
   "source": [
    "En este notebook se mostraran algunos modelos ajustados con mínimos cuadrados para la predicción del precio del bitcoin , y veremos algunas condiciones que tiene que cumplir nuestro modelo para que pueda ser resuelto con mínimos cuadrados\n",
    "\n",
    "---"
   ]
  },
  {
   "cell_type": "markdown",
   "id": "7e3b258c",
   "metadata": {},
   "source": [
    "## 1. Condiciones en el modelo"
   ]
  },
  {
   "cell_type": "markdown",
   "id": "affcd5d7",
   "metadata": {},
   "source": [
    "Relacionado con la naturaleza de los datos, nos interesa saber en un modelo ajustado con mínimos cuadrados que condiciones tiene que cumplir la matriz $A$ y el vector $b$ para que el modelo pueda ser resuelto.\n",
    "\n",
    "Ejecuta el siguiente notebook:\n",
    "[condiciones_del_modelo.ipynb](./Condiciones_del_modelo.ipynb)"
   ]
  },
  {
   "cell_type": "markdown",
   "id": "895bf5fc",
   "metadata": {},
   "source": [
    "## 2. Modelo no lineal para la predicción del precio del bitcoin"
   ]
  },
  {
   "cell_type": "markdown",
   "id": "a5c24244",
   "metadata": {},
   "source": [
    "En el siguiente notebook se plantea un modelo no lineal para la predicción del precio bitcoin, y observaremos su funcionamiento con la predicción de los precios de los siguientes dias.\n",
    "\n",
    "Ejecuta el siguiente notebook:\n",
    "[modelo_no_lineal.ipynb](./Modelo_no_lineal.ipynb)\n",
    "\n",
    "---"
   ]
  },
  {
   "cell_type": "markdown",
   "id": "07441c06",
   "metadata": {},
   "source": [
    "## 3. Bitcoin y su relación con algunas commodities"
   ]
  },
  {
   "cell_type": "markdown",
   "id": "b39fdb35",
   "metadata": {},
   "source": [
    "En el siguiente notebook se plantea un modelo multilineal ajustado con minimos cuadrados,y observaremos en el modelo la relación del precio del bitcoin y el precio del oro,la plata y el petroleo.\n",
    "\n",
    "Ejecuta el siguiente notebook:\n",
    "[commodities.ipynb](./Commodities.ipynb)\n",
    "\n",
    "---"
   ]
  }
 ],
 "metadata": {
  "@webio": {
   "lastCommId": null,
   "lastKernelId": null
  },
  "kernelspec": {
   "display_name": "Julia 1.7.2",
   "language": "julia",
   "name": "julia-1.7"
  },
  "language_info": {
   "file_extension": ".jl",
   "mimetype": "application/julia",
   "name": "julia",
   "version": "1.7.2"
  }
 },
 "nbformat": 4,
 "nbformat_minor": 5
}
