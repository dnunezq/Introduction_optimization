{
 "cells": [
  {
   "cell_type": "markdown",
   "id": "526c281c",
   "metadata": {},
   "source": [
    "## 1. Condiciones en el modelo\n",
    "\n",
    "¿Que condiciones debería tener la matriz $A$ y el vector $b$ para que el modelo sea resuelto con mínimos cuadrados?"
   ]
  },
  {
   "cell_type": "markdown",
   "id": "9bc97cf0",
   "metadata": {},
   "source": [
    "Un modelo resuelto por mínimos cuadrados, se reduce a resolver el sistema \n",
    "\n",
    "$$A^tAx=A^tb$$ para ello la matriz $A^tA$ debe ser invertible, nos preguntamos entonces ¿que condiciones tiene que cumplir A para que $A^tA$ sea invertible?, recordando que esta matriz $A$ depende de nuestro modelo y de los datos iniciales. "
   ]
  },
  {
   "cell_type": "markdown",
   "id": "44424248",
   "metadata": {},
   "source": [
    "La respuesta es que $A$ tiene que ser de rango completo, o dicho de otra manera los vectores columnas de la matriz $A$ tienen que ser linealmente independientes, de hecho se tiene el siguiente teorema:"
   ]
  },
  {
   "cell_type": "markdown",
   "id": "569a950f",
   "metadata": {},
   "source": [
    "### Teorema:\n",
    "Sea $A$ una matriz de $m\\times n$ donde $m\\geq n$, se tiene que $A^tA$ es invertible si y solo si $A$ es de rango completo,(en este caso es full column rank)"
   ]
  },
  {
   "cell_type": "markdown",
   "id": "393d8a4d",
   "metadata": {},
   "source": [
    "##### Demostración\n",
    "$(\\rightarrow)$\n",
    "Es claro que $A^tA$ sería una matriz de $n\\times n$, y si es invertible entonces es de rango completo, es decir $Rang(A^tA)=n$, y como el rango de $A$ tiene que ser igual al rango de $A^tA$, entonces $Rang(A)=n$ es decir $A$ es de rango completo\n",
    "\n",
    "$(\\leftarrow)$\n",
    "Si $A$ es de rango completo, entonces $Rang(A)=n$ , lo que implica que $Rang(A^tA)=n$ es decir es de rango completo entonces $A^tA$ es invertible. \n",
    " \n",
    "--- \n"
   ]
  },
  {
   "cell_type": "markdown",
   "id": "7fb8448c",
   "metadata": {},
   "source": [
    "De esta manera el modelo tiene que ser planteado de tal manera que las columnas de la matriz $A$ sean linealmente independientes, por ejemplo se podrian tomar modelos donde las columnas de la matriz $A$ sean la base de los polinomios de grado $n$, por ejemplo si se tienen m datos y n parametros la matriz $A$ tendría la forma \n",
    "\\begin{matrix}\n",
    "1 & x_1 & x_1^2 & \\dots & x_1^n\\\\\n",
    "1 & x_2 & x_2^2 & \\dots & x_2^n \\\\\n",
    "\\vdots & \\vdots  & \\vdots& \\vdots\\\\\n",
    "1 & x_m & x_m^2 & \\dots & x_m^n \\\\\n",
    "\\end{matrix}\n"
   ]
  }
 ],
 "metadata": {
  "kernelspec": {
   "display_name": "Julia 1.7.2",
   "language": "julia",
   "name": "julia-1.7"
  },
  "language_info": {
   "file_extension": ".jl",
   "mimetype": "application/julia",
   "name": "julia",
   "version": "1.7.2"
  }
 },
 "nbformat": 4,
 "nbformat_minor": 5
}
