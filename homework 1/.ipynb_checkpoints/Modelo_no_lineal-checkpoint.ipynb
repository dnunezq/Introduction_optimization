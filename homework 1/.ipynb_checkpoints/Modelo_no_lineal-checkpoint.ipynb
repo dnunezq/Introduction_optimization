{
 "cells": [
  {
   "cell_type": "markdown",
   "id": "ad19102e",
   "metadata": {},
   "source": [
    "## 2. Modelo no lineal para la predicción del precio del bitcoin\n",
    "\n",
    "Acontinuación se plantea un modelo no lineal para predecir el precio del bitcoin mediante el ajuste con mínimos cuadrados.\n",
    "\n",
    "---"
   ]
  },
  {
   "cell_type": "markdown",
   "id": "8067ec98",
   "metadata": {},
   "source": [
    "#### Creación del data set\n",
    "Acontinuación se crea el data set, tomando los precios del bitcoin durante el último año"
   ]
  },
  {
   "cell_type": "code",
   "execution_count": 1,
   "id": "f98b9b86",
   "metadata": {},
   "outputs": [],
   "source": [
    "using CSV\n",
    "using DataFrames\n",
    "\n",
    "\n",
    "#Data set precio del bitcoin durante el último año\n",
    "dataBitcoin = CSV.read(\"actualBitcoin.csv\",DataFrame);\n",
    "dataBitcoin.date = dataBitcoin.Date;\n",
    "dataBitcoin.Price .= replace.(dataBitcoin.Price, \",\" => \"\");\n",
    "dataBitcoin.PriceFloat = parse.(Float64, dataBitcoin.Price);"
   ]
  },
  {
   "cell_type": "markdown",
   "id": "f5618f36",
   "metadata": {},
   "source": [
    "#### Modelo\n",
    "Utilizaremos distintos modelos basados en polinomios que van a relacionar los dias con el precio del bitcoin.\n",
    "- La función a minimizar es $f_0(x)=\\|Ax-b\\|$ donde $A \\in \\mathbb{R}^{368\\times n+1}$ donde 368 hace referencia al número de datos de entrada, que en este caso son los últimos 368 dias, y $n$ es el grado del polinomio con el que queremos modelar. La $i+1-esima $ columna de $A$ está dada por $ a_1^i,a_2^i,\\dots a_{376}^i$, para $i=0,1,2\\dots n$, es decir $A$ tendría la siguiente forma:\n",
    "$$A=\\begin{matrix}\n",
    "1 & a_1 & a_1^2 & \\dots & a_1^n\\\\\n",
    "1 & a_2 & a_2^2 & \\dots & a_2^n \\\\\n",
    "\\vdots & \\vdots  & \\vdots& \\vdots\\\\\n",
    "1 & a_{368} & a_{368}^2 & \\dots & a_{368}^n \\\\\n",
    "\\end{matrix}$$\n",
    "y x sería un vector que pertenece a $\\mathbb{R}^{n+1\\times 1}$ y sería el vector $x=(\\beta_0,\\beta_1,\\beta_2,\\dots,\\beta_n)$ de variables de optimización, por último $b\\in \\mathbb{R}^{m\\times 1}$ y cada $b_i$ corresponde al precio del bitcoin en el día $i$ para $i=1,\\dots 368$.De esta manera nuestros modelos son de la forma $\\beta_0+\\beta_1x+\\beta_2x^2+\\dots+\\beta_nx^n=b$ oara $n\\geq 2$.\n",
    "Acontinuación probaremos el modelo para $n=2,3,4 \\ y \\ 5$"
   ]
  },
  {
   "cell_type": "markdown",
   "id": "110df7df",
   "metadata": {},
   "source": [
    "Gráfico del precio del bitcoin desde el 11 de marzo de 2021 al 13 de marzo de 2022:"
   ]
  },
  {
   "cell_type": "code",
   "execution_count": 2,
   "id": "a372c0a0",
   "metadata": {},
   "outputs": [
    {
     "data": {
      "application/vnd.webio.node+json": {
       "children": [],
       "instanceArgs": {
        "namespace": "html",
        "tag": "div"
       },
       "nodeType": "DOM",
       "props": {},
       "type": "node"
      },
      "text/html": [
       "<div style=\"padding: 1em; background-color: #f8d6da; border: 1px solid #f5c6cb; font-weight: bold;\">\n",
       "<p>The WebIO Jupyter extension was not detected. See the\n",
       "<a href=\"https://juliagizmos.github.io/WebIO.jl/latest/providers/ijulia/\" target=\"_blank\">\n",
       "    WebIO Jupyter integration documentation\n",
       "</a>\n",
       "for more information.\n",
       "</div>\n"
      ],
      "text/plain": [
       "WebIO._IJuliaInit()"
      ]
     },
     "metadata": {
      "application/vnd.webio.node+json": {
       "kernelId": "eaef9b1f-3e2d-48a9-96fd-d68cbd86d2f1"
      }
     },
     "output_type": "display_data"
    }
   ],
   "source": [
    "using PlotlyJS, DataFrames, Dates\n",
    "#convert string databitcoin.Date to type Date\n",
    "dataBitcoin[!, :Date] = Date.(dataBitcoin.Date, dateformat\"uuu d, yyyy\");"
   ]
  },
  {
   "cell_type": "code",
   "execution_count": 3,
   "id": "a879c25c",
   "metadata": {},
   "outputs": [
    {
     "data": {
      "application/vnd.plotly.v1+json": {
       "config": {
        "editable": false,
        "responsive": true,
        "scrollZoom": true,
        "showLink": false,
        "staticPlot": false
       },
       "data": [
        {
         "type": "scatter",
         "x": [
          "2022-03-13",
          "2022-03-12",
          "2022-03-11",
          "2022-03-10",
          "2022-03-09",
          "2022-03-08",
          "2022-03-07",
          "2022-03-06",
          "2022-03-05",
          "2022-03-04",
          "2022-03-03",
          "2022-03-02",
          "2022-03-01",
          "2022-02-28",
          "2022-02-27",
          "2022-02-26",
          "2022-02-25",
          "2022-02-24",
          "2022-02-23",
          "2022-02-22",
          "2022-02-21",
          "2022-02-20",
          "2022-02-19",
          "2022-02-18",
          "2022-02-17",
          "2022-02-16",
          "2022-02-15",
          "2022-02-14",
          "2022-02-13",
          "2022-02-12",
          "2022-02-11",
          "2022-02-10",
          "2022-02-09",
          "2022-02-08",
          "2022-02-07",
          "2022-02-06",
          "2022-02-05",
          "2022-02-04",
          "2022-02-03",
          "2022-02-02",
          "2022-02-01",
          "2022-01-31",
          "2022-01-30",
          "2022-01-29",
          "2022-01-28",
          "2022-01-27",
          "2022-01-26",
          "2022-01-25",
          "2022-01-24",
          "2022-01-23",
          "2022-01-22",
          "2022-01-21",
          "2022-01-20",
          "2022-01-19",
          "2022-01-18",
          "2022-01-17",
          "2022-01-16",
          "2022-01-15",
          "2022-01-14",
          "2022-01-13",
          "2022-01-12",
          "2022-01-11",
          "2022-01-10",
          "2022-01-09",
          "2022-01-08",
          "2022-01-07",
          "2022-01-06",
          "2022-01-05",
          "2022-01-04",
          "2022-01-03",
          "2022-01-02",
          "2022-01-01",
          "2021-12-31",
          "2021-12-30",
          "2021-12-29",
          "2021-12-28",
          "2021-12-27",
          "2021-12-26",
          "2021-12-25",
          "2021-12-24",
          "2021-12-23",
          "2021-12-22",
          "2021-12-21",
          "2021-12-20",
          "2021-12-19",
          "2021-12-18",
          "2021-12-17",
          "2021-12-16",
          "2021-12-15",
          "2021-12-14",
          "2021-12-13",
          "2021-12-12",
          "2021-12-11",
          "2021-12-10",
          "2021-12-09",
          "2021-12-08",
          "2021-12-07",
          "2021-12-06",
          "2021-12-05",
          "2021-12-04",
          "2021-12-03",
          "2021-12-02",
          "2021-12-01",
          "2021-11-30",
          "2021-11-29",
          "2021-11-28",
          "2021-11-27",
          "2021-11-26",
          "2021-11-25",
          "2021-11-24",
          "2021-11-23",
          "2021-11-22",
          "2021-11-21",
          "2021-11-20",
          "2021-11-19",
          "2021-11-18",
          "2021-11-17",
          "2021-11-16",
          "2021-11-15",
          "2021-11-14",
          "2021-11-13",
          "2021-11-12",
          "2021-11-11",
          "2021-11-10",
          "2021-11-09",
          "2021-11-08",
          "2021-11-07",
          "2021-11-06",
          "2021-11-05",
          "2021-11-04",
          "2021-11-03",
          "2021-11-02",
          "2021-11-01",
          "2021-10-31",
          "2021-10-30",
          "2021-10-29",
          "2021-10-28",
          "2021-10-27",
          "2021-10-26",
          "2021-10-25",
          "2021-10-24",
          "2021-10-23",
          "2021-10-22",
          "2021-10-21",
          "2021-10-20",
          "2021-10-19",
          "2021-10-18",
          "2021-10-17",
          "2021-10-16",
          "2021-10-15",
          "2021-10-14",
          "2021-10-13",
          "2021-10-12",
          "2021-10-11",
          "2021-10-10",
          "2021-10-09",
          "2021-10-08",
          "2021-10-07",
          "2021-10-06",
          "2021-10-05",
          "2021-10-04",
          "2021-10-03",
          "2021-10-02",
          "2021-10-01",
          "2021-09-30",
          "2021-09-29",
          "2021-09-28",
          "2021-09-27",
          "2021-09-26",
          "2021-09-25",
          "2021-09-24",
          "2021-09-23",
          "2021-09-22",
          "2021-09-21",
          "2021-09-20",
          "2021-09-19",
          "2021-09-18",
          "2021-09-17",
          "2021-09-16",
          "2021-09-15",
          "2021-09-14",
          "2021-09-13",
          "2021-09-12",
          "2021-09-11",
          "2021-09-10",
          "2021-09-09",
          "2021-09-08",
          "2021-09-07",
          "2021-09-06",
          "2021-09-05",
          "2021-09-04",
          "2021-09-03",
          "2021-09-02",
          "2021-09-01",
          "2021-08-31",
          "2021-08-30",
          "2021-08-29",
          "2021-08-28",
          "2021-08-27",
          "2021-08-26",
          "2021-08-25",
          "2021-08-24",
          "2021-08-23",
          "2021-08-22",
          "2021-08-21",
          "2021-08-20",
          "2021-08-19",
          "2021-08-18",
          "2021-08-17",
          "2021-08-16",
          "2021-08-15",
          "2021-08-14",
          "2021-08-13",
          "2021-08-12",
          "2021-08-11",
          "2021-08-10",
          "2021-08-09",
          "2021-08-08",
          "2021-08-07",
          "2021-08-06",
          "2021-08-05",
          "2021-08-04",
          "2021-08-03",
          "2021-08-02",
          "2021-08-01",
          "2021-07-31",
          "2021-07-30",
          "2021-07-29",
          "2021-07-28",
          "2021-07-27",
          "2021-07-26",
          "2021-07-25",
          "2021-07-24",
          "2021-07-23",
          "2021-07-22",
          "2021-07-21",
          "2021-07-20",
          "2021-07-19",
          "2021-07-18",
          "2021-07-17",
          "2021-07-16",
          "2021-07-15",
          "2021-07-14",
          "2021-07-13",
          "2021-07-12",
          "2021-07-11",
          "2021-07-10",
          "2021-07-09",
          "2021-07-08",
          "2021-07-07",
          "2021-07-06",
          "2021-07-05",
          "2021-07-04",
          "2021-07-03",
          "2021-07-02",
          "2021-07-01",
          "2021-06-30",
          "2021-06-29",
          "2021-06-28",
          "2021-06-27",
          "2021-06-26",
          "2021-06-25",
          "2021-06-24",
          "2021-06-23",
          "2021-06-22",
          "2021-06-21",
          "2021-06-20",
          "2021-06-19",
          "2021-06-18",
          "2021-06-17",
          "2021-06-16",
          "2021-06-15",
          "2021-06-14",
          "2021-06-13",
          "2021-06-12",
          "2021-06-11",
          "2021-06-10",
          "2021-06-09",
          "2021-06-08",
          "2021-06-07",
          "2021-06-06",
          "2021-06-05",
          "2021-06-04",
          "2021-06-03",
          "2021-06-02",
          "2021-06-01",
          "2021-05-31",
          "2021-05-30",
          "2021-05-29",
          "2021-05-28",
          "2021-05-27",
          "2021-05-26",
          "2021-05-25",
          "2021-05-24",
          "2021-05-23",
          "2021-05-22",
          "2021-05-21",
          "2021-05-20",
          "2021-05-19",
          "2021-05-18",
          "2021-05-17",
          "2021-05-16",
          "2021-05-15",
          "2021-05-14",
          "2021-05-13",
          "2021-05-12",
          "2021-05-11",
          "2021-05-10",
          "2021-05-09",
          "2021-05-08",
          "2021-05-07",
          "2021-05-06",
          "2021-05-05",
          "2021-05-04",
          "2021-05-03",
          "2021-05-02",
          "2021-05-01",
          "2021-04-30",
          "2021-04-29",
          "2021-04-28",
          "2021-04-27",
          "2021-04-26",
          "2021-04-25",
          "2021-04-24",
          "2021-04-23",
          "2021-04-22",
          "2021-04-21",
          "2021-04-20",
          "2021-04-19",
          "2021-04-18",
          "2021-04-17",
          "2021-04-16",
          "2021-04-15",
          "2021-04-14",
          "2021-04-13",
          "2021-04-12",
          "2021-04-11",
          "2021-04-10",
          "2021-04-09",
          "2021-04-08",
          "2021-04-07",
          "2021-04-06",
          "2021-04-05",
          "2021-04-04",
          "2021-04-03",
          "2021-04-02",
          "2021-04-01",
          "2021-03-31",
          "2021-03-30",
          "2021-03-29",
          "2021-03-28",
          "2021-03-27",
          "2021-03-26",
          "2021-03-25",
          "2021-03-24",
          "2021-03-23",
          "2021-03-22",
          "2021-03-21",
          "2021-03-20",
          "2021-03-19",
          "2021-03-18",
          "2021-03-17",
          "2021-03-16",
          "2021-03-15",
          "2021-03-14",
          "2021-03-13",
          "2021-03-12",
          "2021-03-11"
         ],
         "y": [
          37792.4,
          38814.3,
          38730.2,
          39416.3,
          41929,
          38744.8,
          38024.8,
          38403.1,
          39395.8,
          39142.7,
          42463,
          43912.8,
          44420.3,
          43188.2,
          37689.1,
          39115.5,
          39209.6,
          38339.2,
          37224.6,
          38248.2,
          37017.7,
          38355,
          40090.3,
          40000.1,
          40552.8,
          43883.6,
          44544.4,
          42550.3,
          42061.1,
          42205.2,
          42388.4,
          43521,
          44388.9,
          44038.2,
          43833.9,
          42392.2,
          41412.1,
          41567.6,
          37287.8,
          36890.2,
          38709.7,
          38498.6,
          37917.7,
          38170.8,
          37745.1,
          37164.3,
          36800.4,
          36950.6,
          36686.3,
          36269.5,
          35075.2,
          36475.5,
          40715.9,
          41677.8,
          42364.6,
          42209.3,
          43079.1,
          43097,
          43073.3,
          42560,
          43901,
          42733.2,
          41832.2,
          41848.3,
          41672,
          41546.7,
          43097.5,
          43425.9,
          45837.3,
          46430.2,
          47311.8,
          47738,
          46219.5,
          47123.3,
          46461.7,
          47545.2,
          50678.2,
          50779.9,
          50406.4,
          50786.1,
          50801,
          48599.7,
          48902,
          46895.2,
          46704.5,
          46856.2,
          46172.2,
          47628.2,
          48871.5,
          48366.5,
          46703.6,
          50081,
          49314.5,
          47137.2,
          47596.6,
          50473.9,
          50595.2,
          50562.1,
          49405.5,
          49195.2,
          53631.5,
          56496,
          57210.3,
          56882.9,
          57794.8,
          57291.5,
          54765.9,
          53730.9,
          58935.1,
          57171.7,
          57573.2,
          56308.8,
          58714.3,
          59717.6,
          58083.4,
          56955.3,
          60367.8,
          60089.1,
          63597.9,
          65508.2,
          64398.6,
          64134.5,
          64806.7,
          64932.6,
          66904.4,
          67527.9,
          63273.2,
          61483.9,
          60974.3,
          61412.6,
          62918.5,
          63221.7,
          60915.3,
          61309.6,
          61840.1,
          62242.8,
          60582.5,
          58438.1,
          60310.8,
          63067,
          60866.5,
          61312.5,
          60690.3,
          62210.2,
          65979.1,
          64278.5,
          62056.3,
          61527.5,
          60861.1,
          61672.5,
          57345.8,
          57380.1,
          56015.9,
          57477.3,
          54687.7,
          54942.5,
          53914.7,
          53783.9,
          55323.2,
          51469.3,
          49227.3,
          48200.1,
          47666.9,
          48146,
          43823.3,
          41536.8,
          41022.3,
          42172.6,
          43203.4,
          42686.8,
          42819.9,
          44869.2,
          43551.6,
          40651.3,
          42870.6,
          47238.7,
          48306.7,
          47282.8,
          47748,
          48130.6,
          47077.5,
          44949.5,
          46062.3,
          45161.9,
          44842.8,
          46385.6,
          46061.4,
          46779.6,
          52672.1,
          51768.6,
          49918.4,
          49999,
          49274.3,
          48819.4,
          47130.4,
          46992.7,
          48777.4,
          48897.1,
          49064.3,
          46831.6,
          48994.5,
          47714.7,
          49539.7,
          49254.5,
          48875.8,
          49324,
          46755.9,
          44723.8,
          44691.6,
          45996.3,
          46991.3,
          47081.5,
          47809.1,
          44403.4,
          45564.3,
          45593.8,
          46284.3,
          43792.8,
          44614.2,
          42795.4,
          40867.2,
          39736.9,
          38130.3,
          39168.4,
          39878.3,
          41553.7,
          42203.4,
          40001.4,
          40003.2,
          39452,
          37276.6,
          35391.1,
          33824.8,
          33603.3,
          32298.9,
          32131.4,
          29793.8,
          30837.2,
          31785.4,
          31518.6,
          31394,
          31840.5,
          32820.7,
          32728.1,
          33113,
          34227.7,
          33510.6,
          33797.4,
          32866.3,
          33867.8,
          34225.6,
          33687.8,
          35298.2,
          34742.8,
          33813.4,
          33543.6,
          35026.9,
          35834.7,
          34475.9,
          34678.5,
          32243.4,
          31594,
          34665.8,
          33674.3,
          32496.4,
          31692,
          35595.8,
          35513.4,
          35749.4,
          38052,
          38336,
          40156.1,
          40529.4,
          39022.9,
          35467.5,
          37314.6,
          36649.4,
          37332.2,
          33382.9,
          33578,
          35815.4,
          35520,
          36851.3,
          39187.3,
          37555.8,
          36687.6,
          37298.6,
          35652.8,
          34584.6,
          35662.5,
          38417.3,
          39249.2,
          38378.3,
          38750.6,
          34679.7,
          37448.3,
          37297.4,
          40717.2,
          36720.5,
          42897.3,
          43541.3,
          46426.4,
          46708.8,
          49839.8,
          49704.6,
          49384.2,
          56695.7,
          55848.9,
          58238.3,
          58840.1,
          57337.2,
          56405.4,
          57441.3,
          53741.5,
          57169.8,
          56603.8,
          57807.1,
          57720.3,
          53560.8,
          54841.4,
          55036.5,
          54020.5,
          48963.6,
          50088.9,
          51143.6,
          51729.5,
          53820.2,
          56483.2,
          55646.1,
          56207.1,
          60041.9,
          61379.7,
          63216,
          62980.4,
          63540.9,
          59863.8,
          59978.7,
          59748.4,
          58118.7,
          58077.4,
          55948.7,
          57996.3,
          58993.4,
          58199.9,
          57059.9,
          58977.3,
          58718.3,
          58763.7,
          58771.3,
          57616.2,
          55765.2,
          55862.9,
          55036.1,
          51322.3,
          52325.4,
          54452.5,
          54158.3,
          57383.8,
          58093.4,
          58088,
          57656,
          58913.5,
          56889.7,
          55791.3,
          59113.7,
          61195.3,
          57265.1,
          57799.5
         ]
        }
       ],
       "frames": [],
       "layout": {
        "layout": [
         2,
         2
        ],
        "margin": {
         "b": 50,
         "l": 50,
         "r": 50,
         "t": 60
        },
        "template": {
         "data": {
          "bar": [
           {
            "error_x": {
             "color": "#2a3f5f"
            },
            "error_y": {
             "color": "#2a3f5f"
            },
            "marker": {
             "line": {
              "color": "#E5ECF6",
              "width": 0.5
             }
            },
            "type": "bar"
           }
          ],
          "barpolar": [
           {
            "marker": {
             "line": {
              "color": "#E5ECF6",
              "width": 0.5
             }
            },
            "type": "barpolar"
           }
          ],
          "carpet": [
           {
            "aaxis": {
             "endlinecolor": "#2a3f5f",
             "gridcolor": "white",
             "linecolor": "white",
             "minorgridcolor": "white",
             "startlinecolor": "#2a3f5f"
            },
            "baxis": {
             "endlinecolor": "#2a3f5f",
             "gridcolor": "white",
             "linecolor": "white",
             "minorgridcolor": "white",
             "startlinecolor": "#2a3f5f"
            },
            "type": "carpet"
           }
          ],
          "choropleth": [
           {
            "colorbar": {
             "outlinewidth": 0,
             "ticks": ""
            },
            "type": "choropleth"
           }
          ],
          "contour": [
           {
            "colorbar": {
             "outlinewidth": 0,
             "ticks": ""
            },
            "colorscale": [
             [
              0,
              "#0d0887"
             ],
             [
              0.1111111111111111,
              "#46039f"
             ],
             [
              0.2222222222222222,
              "#7201a8"
             ],
             [
              0.3333333333333333,
              "#9c179e"
             ],
             [
              0.4444444444444444,
              "#bd3786"
             ],
             [
              0.5555555555555556,
              "#d8576b"
             ],
             [
              0.6666666666666666,
              "#ed7953"
             ],
             [
              0.7777777777777778,
              "#fb9f3a"
             ],
             [
              0.8888888888888888,
              "#fdca26"
             ],
             [
              1,
              "#f0f921"
             ]
            ],
            "type": "contour"
           }
          ],
          "contourcarpet": [
           {
            "colorbar": {
             "outlinewidth": 0,
             "ticks": ""
            },
            "type": "contourcarpet"
           }
          ],
          "heatmap": [
           {
            "colorbar": {
             "outlinewidth": 0,
             "ticks": ""
            },
            "colorscale": [
             [
              0,
              "#0d0887"
             ],
             [
              0.1111111111111111,
              "#46039f"
             ],
             [
              0.2222222222222222,
              "#7201a8"
             ],
             [
              0.3333333333333333,
              "#9c179e"
             ],
             [
              0.4444444444444444,
              "#bd3786"
             ],
             [
              0.5555555555555556,
              "#d8576b"
             ],
             [
              0.6666666666666666,
              "#ed7953"
             ],
             [
              0.7777777777777778,
              "#fb9f3a"
             ],
             [
              0.8888888888888888,
              "#fdca26"
             ],
             [
              1,
              "#f0f921"
             ]
            ],
            "type": "heatmap"
           }
          ],
          "heatmapgl": [
           {
            "colorbar": {
             "outlinewidth": 0,
             "ticks": ""
            },
            "colorscale": [
             [
              0,
              "#0d0887"
             ],
             [
              0.1111111111111111,
              "#46039f"
             ],
             [
              0.2222222222222222,
              "#7201a8"
             ],
             [
              0.3333333333333333,
              "#9c179e"
             ],
             [
              0.4444444444444444,
              "#bd3786"
             ],
             [
              0.5555555555555556,
              "#d8576b"
             ],
             [
              0.6666666666666666,
              "#ed7953"
             ],
             [
              0.7777777777777778,
              "#fb9f3a"
             ],
             [
              0.8888888888888888,
              "#fdca26"
             ],
             [
              1,
              "#f0f921"
             ]
            ],
            "type": "heatmapgl"
           }
          ],
          "histogram": [
           {
            "marker": {
             "colorbar": {
              "outlinewidth": 0,
              "ticks": ""
             }
            },
            "type": "histogram"
           }
          ],
          "histogram2d": [
           {
            "colorbar": {
             "outlinewidth": 0,
             "ticks": ""
            },
            "colorscale": [
             [
              0,
              "#0d0887"
             ],
             [
              0.1111111111111111,
              "#46039f"
             ],
             [
              0.2222222222222222,
              "#7201a8"
             ],
             [
              0.3333333333333333,
              "#9c179e"
             ],
             [
              0.4444444444444444,
              "#bd3786"
             ],
             [
              0.5555555555555556,
              "#d8576b"
             ],
             [
              0.6666666666666666,
              "#ed7953"
             ],
             [
              0.7777777777777778,
              "#fb9f3a"
             ],
             [
              0.8888888888888888,
              "#fdca26"
             ],
             [
              1,
              "#f0f921"
             ]
            ],
            "type": "histogram2d"
           }
          ],
          "histogram2dcontour": [
           {
            "colorbar": {
             "outlinewidth": 0,
             "ticks": ""
            },
            "colorscale": [
             [
              0,
              "#0d0887"
             ],
             [
              0.1111111111111111,
              "#46039f"
             ],
             [
              0.2222222222222222,
              "#7201a8"
             ],
             [
              0.3333333333333333,
              "#9c179e"
             ],
             [
              0.4444444444444444,
              "#bd3786"
             ],
             [
              0.5555555555555556,
              "#d8576b"
             ],
             [
              0.6666666666666666,
              "#ed7953"
             ],
             [
              0.7777777777777778,
              "#fb9f3a"
             ],
             [
              0.8888888888888888,
              "#fdca26"
             ],
             [
              1,
              "#f0f921"
             ]
            ],
            "type": "histogram2dcontour"
           }
          ],
          "mesh3d": [
           {
            "colorbar": {
             "outlinewidth": 0,
             "ticks": ""
            },
            "type": "mesh3d"
           }
          ],
          "parcoords": [
           {
            "line": {
             "colorbar": {
              "outlinewidth": 0,
              "ticks": ""
             }
            },
            "type": "parcoords"
           }
          ],
          "pie": [
           {
            "automargin": true,
            "type": "pie"
           }
          ],
          "scatter": [
           {
            "marker": {
             "colorbar": {
              "outlinewidth": 0,
              "ticks": ""
             }
            },
            "type": "scatter"
           }
          ],
          "scatter3d": [
           {
            "line": {
             "colorbar": {
              "outlinewidth": 0,
              "ticks": ""
             }
            },
            "marker": {
             "colorbar": {
              "outlinewidth": 0,
              "ticks": ""
             }
            },
            "type": "scatter3d"
           }
          ],
          "scattercarpet": [
           {
            "marker": {
             "colorbar": {
              "outlinewidth": 0,
              "ticks": ""
             }
            },
            "type": "scattercarpet"
           }
          ],
          "scattergeo": [
           {
            "marker": {
             "colorbar": {
              "outlinewidth": 0,
              "ticks": ""
             }
            },
            "type": "scattergeo"
           }
          ],
          "scattergl": [
           {
            "marker": {
             "colorbar": {
              "outlinewidth": 0,
              "ticks": ""
             }
            },
            "type": "scattergl"
           }
          ],
          "scattermapbox": [
           {
            "marker": {
             "colorbar": {
              "outlinewidth": 0,
              "ticks": ""
             }
            },
            "type": "scattermapbox"
           }
          ],
          "scatterpolar": [
           {
            "marker": {
             "colorbar": {
              "outlinewidth": 0,
              "ticks": ""
             }
            },
            "type": "scatterpolar"
           }
          ],
          "scatterpolargl": [
           {
            "marker": {
             "colorbar": {
              "outlinewidth": 0,
              "ticks": ""
             }
            },
            "type": "scatterpolargl"
           }
          ],
          "scatterternary": [
           {
            "marker": {
             "colorbar": {
              "outlinewidth": 0,
              "ticks": ""
             }
            },
            "type": "scatterternary"
           }
          ],
          "surface": [
           {
            "colorbar": {
             "outlinewidth": 0,
             "ticks": ""
            },
            "colorscale": [
             [
              0,
              "#0d0887"
             ],
             [
              0.1111111111111111,
              "#46039f"
             ],
             [
              0.2222222222222222,
              "#7201a8"
             ],
             [
              0.3333333333333333,
              "#9c179e"
             ],
             [
              0.4444444444444444,
              "#bd3786"
             ],
             [
              0.5555555555555556,
              "#d8576b"
             ],
             [
              0.6666666666666666,
              "#ed7953"
             ],
             [
              0.7777777777777778,
              "#fb9f3a"
             ],
             [
              0.8888888888888888,
              "#fdca26"
             ],
             [
              1,
              "#f0f921"
             ]
            ],
            "type": "surface"
           }
          ],
          "table": [
           {
            "cells": {
             "fill": {
              "color": "#EBF0F8"
             },
             "line": {
              "color": "white"
             }
            },
            "header": {
             "fill": {
              "color": "#C8D4E3"
             },
             "line": {
              "color": "white"
             }
            },
            "type": "table"
           }
          ]
         },
         "layout": {
          "annotationdefaults": {
           "arrowcolor": "#2a3f5f",
           "arrowhead": 0,
           "arrowwidth": 1
          },
          "autotypenumbers": "strict",
          "coloraxis": {
           "colorbar": {
            "outlinewidth": 0,
            "ticks": ""
           }
          },
          "colorscale": {
           "diverging": [
            [
             0,
             "#8e0152"
            ],
            [
             0.1,
             "#c51b7d"
            ],
            [
             0.2,
             "#de77ae"
            ],
            [
             0.3,
             "#f1b6da"
            ],
            [
             0.4,
             "#fde0ef"
            ],
            [
             0.5,
             "#f7f7f7"
            ],
            [
             0.6,
             "#e6f5d0"
            ],
            [
             0.7,
             "#b8e186"
            ],
            [
             0.8,
             "#7fbc41"
            ],
            [
             0.9,
             "#4d9221"
            ],
            [
             1,
             "#276419"
            ]
           ],
           "sequential": [
            [
             0,
             "#0d0887"
            ],
            [
             0.1111111111111111,
             "#46039f"
            ],
            [
             0.2222222222222222,
             "#7201a8"
            ],
            [
             0.3333333333333333,
             "#9c179e"
            ],
            [
             0.4444444444444444,
             "#bd3786"
            ],
            [
             0.5555555555555556,
             "#d8576b"
            ],
            [
             0.6666666666666666,
             "#ed7953"
            ],
            [
             0.7777777777777778,
             "#fb9f3a"
            ],
            [
             0.8888888888888888,
             "#fdca26"
            ],
            [
             1,
             "#f0f921"
            ]
           ],
           "sequentialminus": [
            [
             0,
             "#0d0887"
            ],
            [
             0.1111111111111111,
             "#46039f"
            ],
            [
             0.2222222222222222,
             "#7201a8"
            ],
            [
             0.3333333333333333,
             "#9c179e"
            ],
            [
             0.4444444444444444,
             "#bd3786"
            ],
            [
             0.5555555555555556,
             "#d8576b"
            ],
            [
             0.6666666666666666,
             "#ed7953"
            ],
            [
             0.7777777777777778,
             "#fb9f3a"
            ],
            [
             0.8888888888888888,
             "#fdca26"
            ],
            [
             1,
             "#f0f921"
            ]
           ]
          },
          "colorway": [
           "#636efa",
           "#EF553B",
           "#00cc96",
           "#ab63fa",
           "#FFA15A",
           "#19d3f3",
           "#FF6692",
           "#B6E880",
           "#FF97FF",
           "#FECB52"
          ],
          "font": {
           "color": "#2a3f5f"
          },
          "geo": {
           "bgcolor": "white",
           "lakecolor": "white",
           "landcolor": "#E5ECF6",
           "showlakes": true,
           "showland": true,
           "subunitcolor": "white"
          },
          "hoverlabel": {
           "align": "left"
          },
          "hovermode": "closest",
          "mapbox": {
           "style": "light"
          },
          "paper_bgcolor": "white",
          "plot_bgcolor": "#E5ECF6",
          "polar": {
           "angularaxis": {
            "gridcolor": "white",
            "linecolor": "white",
            "ticks": ""
           },
           "bgcolor": "#E5ECF6",
           "radialaxis": {
            "gridcolor": "white",
            "linecolor": "white",
            "ticks": ""
           }
          },
          "scene": {
           "xaxis": {
            "backgroundcolor": "#E5ECF6",
            "gridcolor": "white",
            "gridwidth": 2,
            "linecolor": "white",
            "showbackground": true,
            "ticks": "",
            "zerolinecolor": "white"
           },
           "yaxis": {
            "backgroundcolor": "#E5ECF6",
            "gridcolor": "white",
            "gridwidth": 2,
            "linecolor": "white",
            "showbackground": true,
            "ticks": "",
            "zerolinecolor": "white"
           },
           "zaxis": {
            "backgroundcolor": "#E5ECF6",
            "gridcolor": "white",
            "gridwidth": 2,
            "linecolor": "white",
            "showbackground": true,
            "ticks": "",
            "zerolinecolor": "white"
           }
          },
          "shapedefaults": {
           "line": {
            "color": "#2a3f5f"
           }
          },
          "ternary": {
           "aaxis": {
            "gridcolor": "white",
            "linecolor": "white",
            "ticks": ""
           },
           "baxis": {
            "gridcolor": "white",
            "linecolor": "white",
            "ticks": ""
           },
           "bgcolor": "#E5ECF6",
           "caxis": {
            "gridcolor": "white",
            "linecolor": "white",
            "ticks": ""
           }
          },
          "title": {
           "x": 0.05
          },
          "xaxis": {
           "automargin": true,
           "gridcolor": "white",
           "linecolor": "white",
           "ticks": "",
           "title": {
            "standoff": 15
           },
           "zerolinecolor": "white",
           "zerolinewidth": 2
          },
          "yaxis": {
           "automargin": true,
           "gridcolor": "white",
           "linecolor": "white",
           "ticks": "",
           "title": {
            "standoff": 15
           },
           "zerolinecolor": "white",
           "zerolinewidth": 2
          }
         }
        },
        "title": "Precio del bitcoin",
        "xaxis": {
         "rangeslider": {
          "visible": true
         }
        }
       }
      },
      "text/html": [
       "<div\n",
       "    class=\"webio-mountpoint\"\n",
       "    data-webio-mountpoint=\"13528481503915441218\"\n",
       ">\n",
       "    <script>\n",
       "    (function(){\n",
       "    // Some integrations (namely, IJulia/Jupyter) use an alternate render pathway than\n",
       "    // just putting the html on the page. If WebIO isn't defined, then it's pretty likely\n",
       "    // that we're in one of those situations and the integration just isn't installed\n",
       "    // correctly.\n",
       "    if (typeof window.WebIO === \"undefined\") {\n",
       "        document\n",
       "            .querySelector('[data-webio-mountpoint=\"13528481503915441218\"]')\n",
       "            .innerHTML = (\n",
       "                '<div style=\"padding: 1em; background-color: #f8d6da; border: 1px solid #f5c6cb; font-weight: bold;\">' +\n",
       "                '<p><strong>WebIO not detected.</strong></p>' +\n",
       "                '<p>Please read ' +\n",
       "                '<a href=\"https://juliagizmos.github.io/WebIO.jl/latest/troubleshooting/not-detected/\" target=\"_blank\">the troubleshooting guide</a> ' +\n",
       "                'for more information on how to resolve this issue.</p>' +\n",
       "                '<p><a href=\"https://juliagizmos.github.io/WebIO.jl/latest/troubleshooting/not-detected/\" target=\"_blank\">https://juliagizmos.github.io/WebIO.jl/latest/troubleshooting/not-detected/</a></p>' +\n",
       "                '</div>'\n",
       "            );\n",
       "        return;\n",
       "    }\n",
       "    WebIO.mount(\n",
       "        document.querySelector('[data-webio-mountpoint=\"13528481503915441218\"]'),\n",
       "        {\"props\":{},\"nodeType\":\"Scope\",\"type\":\"node\",\"instanceArgs\":{\"imports\":{\"data\":[{\"name\":\"Plotly\",\"type\":\"js\",\"url\":\"\\/assetserver\\/db01643933f428e933e6fe3f9bf0c39e9fab8888-plotly.min.js\"},{\"name\":null,\"type\":\"js\",\"url\":\"\\/assetserver\\/2838d48eaeffaf0924c124c65d5596d45c0b86cd-plotly_webio.bundle.js\"}],\"type\":\"async_block\"},\"id\":\"16360904237997627455\",\"handlers\":{\"_toImage\":[\"(function (options){return this.Plotly.toImage(this.plotElem,options).then((function (data){return WebIO.setval({\\\"name\\\":\\\"image\\\",\\\"scope\\\":\\\"16360904237997627455\\\",\\\"id\\\":\\\"16056403792515446377\\\",\\\"type\\\":\\\"observable\\\"},data)}))})\"],\"__get_gd_contents\":[\"(function (prop){prop==\\\"data\\\" ? (WebIO.setval({\\\"name\\\":\\\"__gd_contents\\\",\\\"scope\\\":\\\"16360904237997627455\\\",\\\"id\\\":\\\"11443845468376139451\\\",\\\"type\\\":\\\"observable\\\"},this.plotElem.data)) : undefined; return prop==\\\"layout\\\" ? (WebIO.setval({\\\"name\\\":\\\"__gd_contents\\\",\\\"scope\\\":\\\"16360904237997627455\\\",\\\"id\\\":\\\"11443845468376139451\\\",\\\"type\\\":\\\"observable\\\"},this.plotElem.layout)) : undefined})\"],\"_downloadImage\":[\"(function (options){return this.Plotly.downloadImage(this.plotElem,options)})\"],\"_commands\":[\"(function (args){var fn=args.shift(); var elem=this.plotElem; var Plotly=this.Plotly; args.unshift(elem); return Plotly[fn].apply(this,args)})\"]},\"systemjs_options\":null,\"mount_callbacks\":[\"function () {\\n    var handler = ((function (Plotly,PlotlyWebIO){PlotlyWebIO.init(WebIO); var gd=this.dom.querySelector(\\\"#plot-259c2411-9093-463e-a989-22e716c59315\\\"); this.plotElem=gd; this.Plotly=Plotly; (window.Blink!==undefined) ? (gd.style.width=\\\"100%\\\", gd.style.height=\\\"100vh\\\", gd.style.marginLeft=\\\"0%\\\", gd.style.marginTop=\\\"0vh\\\") : undefined; window.onresize=(function (){return Plotly.Plots.resize(gd)}); Plotly.newPlot(gd,[{\\\"y\\\":[37792.4,38814.3,38730.2,39416.3,41929.0,38744.8,38024.8,38403.1,39395.8,39142.7,42463.0,43912.8,44420.3,43188.2,37689.1,39115.5,39209.6,38339.2,37224.6,38248.2,37017.7,38355.0,40090.3,40000.1,40552.8,43883.6,44544.4,42550.3,42061.1,42205.2,42388.4,43521.0,44388.9,44038.2,43833.9,42392.2,41412.1,41567.6,37287.8,36890.2,38709.7,38498.6,37917.7,38170.8,37745.1,37164.3,36800.4,36950.6,36686.3,36269.5,35075.2,36475.5,40715.9,41677.8,42364.6,42209.3,43079.1,43097.0,43073.3,42560.0,43901.0,42733.2,41832.2,41848.3,41672.0,41546.7,43097.5,43425.9,45837.3,46430.2,47311.8,47738.0,46219.5,47123.3,46461.7,47545.2,50678.2,50779.9,50406.4,50786.1,50801.0,48599.7,48902.0,46895.2,46704.5,46856.2,46172.2,47628.2,48871.5,48366.5,46703.6,50081.0,49314.5,47137.2,47596.6,50473.9,50595.2,50562.1,49405.5,49195.2,53631.5,56496.0,57210.3,56882.9,57794.8,57291.5,54765.9,53730.9,58935.1,57171.7,57573.2,56308.8,58714.3,59717.6,58083.4,56955.3,60367.8,60089.1,63597.9,65508.2,64398.6,64134.5,64806.7,64932.6,66904.4,67527.9,63273.2,61483.9,60974.3,61412.6,62918.5,63221.7,60915.3,61309.6,61840.1,62242.8,60582.5,58438.1,60310.8,63067.0,60866.5,61312.5,60690.3,62210.2,65979.1,64278.5,62056.3,61527.5,60861.1,61672.5,57345.8,57380.1,56015.9,57477.3,54687.7,54942.5,53914.7,53783.9,55323.2,51469.3,49227.3,48200.1,47666.9,48146.0,43823.3,41536.8,41022.3,42172.6,43203.4,42686.8,42819.9,44869.2,43551.6,40651.3,42870.6,47238.7,48306.7,47282.8,47748.0,48130.6,47077.5,44949.5,46062.3,45161.9,44842.8,46385.6,46061.4,46779.6,52672.1,51768.6,49918.4,49999.0,49274.3,48819.4,47130.4,46992.7,48777.4,48897.1,49064.3,46831.6,48994.5,47714.7,49539.7,49254.5,48875.8,49324.0,46755.9,44723.8,44691.6,45996.3,46991.3,47081.5,47809.1,44403.4,45564.3,45593.8,46284.3,43792.8,44614.2,42795.4,40867.2,39736.9,38130.3,39168.4,39878.3,41553.7,42203.4,40001.4,40003.2,39452.0,37276.6,35391.1,33824.8,33603.3,32298.9,32131.4,29793.8,30837.2,31785.4,31518.6,31394.0,31840.5,32820.7,32728.1,33113.0,34227.7,33510.6,33797.4,32866.3,33867.8,34225.6,33687.8,35298.2,34742.8,33813.4,33543.6,35026.9,35834.7,34475.9,34678.5,32243.4,31594.0,34665.8,33674.3,32496.4,31692.0,35595.8,35513.4,35749.4,38052.0,38336.0,40156.1,40529.4,39022.9,35467.5,37314.6,36649.4,37332.2,33382.9,33578.0,35815.4,35520.0,36851.3,39187.3,37555.8,36687.6,37298.6,35652.8,34584.6,35662.5,38417.3,39249.2,38378.3,38750.6,34679.7,37448.3,37297.4,40717.2,36720.5,42897.3,43541.3,46426.4,46708.8,49839.8,49704.6,49384.2,56695.7,55848.9,58238.3,58840.1,57337.2,56405.4,57441.3,53741.5,57169.8,56603.8,57807.1,57720.3,53560.8,54841.4,55036.5,54020.5,48963.6,50088.9,51143.6,51729.5,53820.2,56483.2,55646.1,56207.1,60041.9,61379.7,63216.0,62980.4,63540.9,59863.8,59978.7,59748.4,58118.7,58077.4,55948.7,57996.3,58993.4,58199.9,57059.9,58977.3,58718.3,58763.7,58771.3,57616.2,55765.2,55862.9,55036.1,51322.3,52325.4,54452.5,54158.3,57383.8,58093.4,58088.0,57656.0,58913.5,56889.7,55791.3,59113.7,61195.3,57265.1,57799.5],\\\"type\\\":\\\"scatter\\\",\\\"x\\\":[\\\"2022-03-13\\\",\\\"2022-03-12\\\",\\\"2022-03-11\\\",\\\"2022-03-10\\\",\\\"2022-03-09\\\",\\\"2022-03-08\\\",\\\"2022-03-07\\\",\\\"2022-03-06\\\",\\\"2022-03-05\\\",\\\"2022-03-04\\\",\\\"2022-03-03\\\",\\\"2022-03-02\\\",\\\"2022-03-01\\\",\\\"2022-02-28\\\",\\\"2022-02-27\\\",\\\"2022-02-26\\\",\\\"2022-02-25\\\",\\\"2022-02-24\\\",\\\"2022-02-23\\\",\\\"2022-02-22\\\",\\\"2022-02-21\\\",\\\"2022-02-20\\\",\\\"2022-02-19\\\",\\\"2022-02-18\\\",\\\"2022-02-17\\\",\\\"2022-02-16\\\",\\\"2022-02-15\\\",\\\"2022-02-14\\\",\\\"2022-02-13\\\",\\\"2022-02-12\\\",\\\"2022-02-11\\\",\\\"2022-02-10\\\",\\\"2022-02-09\\\",\\\"2022-02-08\\\",\\\"2022-02-07\\\",\\\"2022-02-06\\\",\\\"2022-02-05\\\",\\\"2022-02-04\\\",\\\"2022-02-03\\\",\\\"2022-02-02\\\",\\\"2022-02-01\\\",\\\"2022-01-31\\\",\\\"2022-01-30\\\",\\\"2022-01-29\\\",\\\"2022-01-28\\\",\\\"2022-01-27\\\",\\\"2022-01-26\\\",\\\"2022-01-25\\\",\\\"2022-01-24\\\",\\\"2022-01-23\\\",\\\"2022-01-22\\\",\\\"2022-01-21\\\",\\\"2022-01-20\\\",\\\"2022-01-19\\\",\\\"2022-01-18\\\",\\\"2022-01-17\\\",\\\"2022-01-16\\\",\\\"2022-01-15\\\",\\\"2022-01-14\\\",\\\"2022-01-13\\\",\\\"2022-01-12\\\",\\\"2022-01-11\\\",\\\"2022-01-10\\\",\\\"2022-01-09\\\",\\\"2022-01-08\\\",\\\"2022-01-07\\\",\\\"2022-01-06\\\",\\\"2022-01-05\\\",\\\"2022-01-04\\\",\\\"2022-01-03\\\",\\\"2022-01-02\\\",\\\"2022-01-01\\\",\\\"2021-12-31\\\",\\\"2021-12-30\\\",\\\"2021-12-29\\\",\\\"2021-12-28\\\",\\\"2021-12-27\\\",\\\"2021-12-26\\\",\\\"2021-12-25\\\",\\\"2021-12-24\\\",\\\"2021-12-23\\\",\\\"2021-12-22\\\",\\\"2021-12-21\\\",\\\"2021-12-20\\\",\\\"2021-12-19\\\",\\\"2021-12-18\\\",\\\"2021-12-17\\\",\\\"2021-12-16\\\",\\\"2021-12-15\\\",\\\"2021-12-14\\\",\\\"2021-12-13\\\",\\\"2021-12-12\\\",\\\"2021-12-11\\\",\\\"2021-12-10\\\",\\\"2021-12-09\\\",\\\"2021-12-08\\\",\\\"2021-12-07\\\",\\\"2021-12-06\\\",\\\"2021-12-05\\\",\\\"2021-12-04\\\",\\\"2021-12-03\\\",\\\"2021-12-02\\\",\\\"2021-12-01\\\",\\\"2021-11-30\\\",\\\"2021-11-29\\\",\\\"2021-11-28\\\",\\\"2021-11-27\\\",\\\"2021-11-26\\\",\\\"2021-11-25\\\",\\\"2021-11-24\\\",\\\"2021-11-23\\\",\\\"2021-11-22\\\",\\\"2021-11-21\\\",\\\"2021-11-20\\\",\\\"2021-11-19\\\",\\\"2021-11-18\\\",\\\"2021-11-17\\\",\\\"2021-11-16\\\",\\\"2021-11-15\\\",\\\"2021-11-14\\\",\\\"2021-11-13\\\",\\\"2021-11-12\\\",\\\"2021-11-11\\\",\\\"2021-11-10\\\",\\\"2021-11-09\\\",\\\"2021-11-08\\\",\\\"2021-11-07\\\",\\\"2021-11-06\\\",\\\"2021-11-05\\\",\\\"2021-11-04\\\",\\\"2021-11-03\\\",\\\"2021-11-02\\\",\\\"2021-11-01\\\",\\\"2021-10-31\\\",\\\"2021-10-30\\\",\\\"2021-10-29\\\",\\\"2021-10-28\\\",\\\"2021-10-27\\\",\\\"2021-10-26\\\",\\\"2021-10-25\\\",\\\"2021-10-24\\\",\\\"2021-10-23\\\",\\\"2021-10-22\\\",\\\"2021-10-21\\\",\\\"2021-10-20\\\",\\\"2021-10-19\\\",\\\"2021-10-18\\\",\\\"2021-10-17\\\",\\\"2021-10-16\\\",\\\"2021-10-15\\\",\\\"2021-10-14\\\",\\\"2021-10-13\\\",\\\"2021-10-12\\\",\\\"2021-10-11\\\",\\\"2021-10-10\\\",\\\"2021-10-09\\\",\\\"2021-10-08\\\",\\\"2021-10-07\\\",\\\"2021-10-06\\\",\\\"2021-10-05\\\",\\\"2021-10-04\\\",\\\"2021-10-03\\\",\\\"2021-10-02\\\",\\\"2021-10-01\\\",\\\"2021-09-30\\\",\\\"2021-09-29\\\",\\\"2021-09-28\\\",\\\"2021-09-27\\\",\\\"2021-09-26\\\",\\\"2021-09-25\\\",\\\"2021-09-24\\\",\\\"2021-09-23\\\",\\\"2021-09-22\\\",\\\"2021-09-21\\\",\\\"2021-09-20\\\",\\\"2021-09-19\\\",\\\"2021-09-18\\\",\\\"2021-09-17\\\",\\\"2021-09-16\\\",\\\"2021-09-15\\\",\\\"2021-09-14\\\",\\\"2021-09-13\\\",\\\"2021-09-12\\\",\\\"2021-09-11\\\",\\\"2021-09-10\\\",\\\"2021-09-09\\\",\\\"2021-09-08\\\",\\\"2021-09-07\\\",\\\"2021-09-06\\\",\\\"2021-09-05\\\",\\\"2021-09-04\\\",\\\"2021-09-03\\\",\\\"2021-09-02\\\",\\\"2021-09-01\\\",\\\"2021-08-31\\\",\\\"2021-08-30\\\",\\\"2021-08-29\\\",\\\"2021-08-28\\\",\\\"2021-08-27\\\",\\\"2021-08-26\\\",\\\"2021-08-25\\\",\\\"2021-08-24\\\",\\\"2021-08-23\\\",\\\"2021-08-22\\\",\\\"2021-08-21\\\",\\\"2021-08-20\\\",\\\"2021-08-19\\\",\\\"2021-08-18\\\",\\\"2021-08-17\\\",\\\"2021-08-16\\\",\\\"2021-08-15\\\",\\\"2021-08-14\\\",\\\"2021-08-13\\\",\\\"2021-08-12\\\",\\\"2021-08-11\\\",\\\"2021-08-10\\\",\\\"2021-08-09\\\",\\\"2021-08-08\\\",\\\"2021-08-07\\\",\\\"2021-08-06\\\",\\\"2021-08-05\\\",\\\"2021-08-04\\\",\\\"2021-08-03\\\",\\\"2021-08-02\\\",\\\"2021-08-01\\\",\\\"2021-07-31\\\",\\\"2021-07-30\\\",\\\"2021-07-29\\\",\\\"2021-07-28\\\",\\\"2021-07-27\\\",\\\"2021-07-26\\\",\\\"2021-07-25\\\",\\\"2021-07-24\\\",\\\"2021-07-23\\\",\\\"2021-07-22\\\",\\\"2021-07-21\\\",\\\"2021-07-20\\\",\\\"2021-07-19\\\",\\\"2021-07-18\\\",\\\"2021-07-17\\\",\\\"2021-07-16\\\",\\\"2021-07-15\\\",\\\"2021-07-14\\\",\\\"2021-07-13\\\",\\\"2021-07-12\\\",\\\"2021-07-11\\\",\\\"2021-07-10\\\",\\\"2021-07-09\\\",\\\"2021-07-08\\\",\\\"2021-07-07\\\",\\\"2021-07-06\\\",\\\"2021-07-05\\\",\\\"2021-07-04\\\",\\\"2021-07-03\\\",\\\"2021-07-02\\\",\\\"2021-07-01\\\",\\\"2021-06-30\\\",\\\"2021-06-29\\\",\\\"2021-06-28\\\",\\\"2021-06-27\\\",\\\"2021-06-26\\\",\\\"2021-06-25\\\",\\\"2021-06-24\\\",\\\"2021-06-23\\\",\\\"2021-06-22\\\",\\\"2021-06-21\\\",\\\"2021-06-20\\\",\\\"2021-06-19\\\",\\\"2021-06-18\\\",\\\"2021-06-17\\\",\\\"2021-06-16\\\",\\\"2021-06-15\\\",\\\"2021-06-14\\\",\\\"2021-06-13\\\",\\\"2021-06-12\\\",\\\"2021-06-11\\\",\\\"2021-06-10\\\",\\\"2021-06-09\\\",\\\"2021-06-08\\\",\\\"2021-06-07\\\",\\\"2021-06-06\\\",\\\"2021-06-05\\\",\\\"2021-06-04\\\",\\\"2021-06-03\\\",\\\"2021-06-02\\\",\\\"2021-06-01\\\",\\\"2021-05-31\\\",\\\"2021-05-30\\\",\\\"2021-05-29\\\",\\\"2021-05-28\\\",\\\"2021-05-27\\\",\\\"2021-05-26\\\",\\\"2021-05-25\\\",\\\"2021-05-24\\\",\\\"2021-05-23\\\",\\\"2021-05-22\\\",\\\"2021-05-21\\\",\\\"2021-05-20\\\",\\\"2021-05-19\\\",\\\"2021-05-18\\\",\\\"2021-05-17\\\",\\\"2021-05-16\\\",\\\"2021-05-15\\\",\\\"2021-05-14\\\",\\\"2021-05-13\\\",\\\"2021-05-12\\\",\\\"2021-05-11\\\",\\\"2021-05-10\\\",\\\"2021-05-09\\\",\\\"2021-05-08\\\",\\\"2021-05-07\\\",\\\"2021-05-06\\\",\\\"2021-05-05\\\",\\\"2021-05-04\\\",\\\"2021-05-03\\\",\\\"2021-05-02\\\",\\\"2021-05-01\\\",\\\"2021-04-30\\\",\\\"2021-04-29\\\",\\\"2021-04-28\\\",\\\"2021-04-27\\\",\\\"2021-04-26\\\",\\\"2021-04-25\\\",\\\"2021-04-24\\\",\\\"2021-04-23\\\",\\\"2021-04-22\\\",\\\"2021-04-21\\\",\\\"2021-04-20\\\",\\\"2021-04-19\\\",\\\"2021-04-18\\\",\\\"2021-04-17\\\",\\\"2021-04-16\\\",\\\"2021-04-15\\\",\\\"2021-04-14\\\",\\\"2021-04-13\\\",\\\"2021-04-12\\\",\\\"2021-04-11\\\",\\\"2021-04-10\\\",\\\"2021-04-09\\\",\\\"2021-04-08\\\",\\\"2021-04-07\\\",\\\"2021-04-06\\\",\\\"2021-04-05\\\",\\\"2021-04-04\\\",\\\"2021-04-03\\\",\\\"2021-04-02\\\",\\\"2021-04-01\\\",\\\"2021-03-31\\\",\\\"2021-03-30\\\",\\\"2021-03-29\\\",\\\"2021-03-28\\\",\\\"2021-03-27\\\",\\\"2021-03-26\\\",\\\"2021-03-25\\\",\\\"2021-03-24\\\",\\\"2021-03-23\\\",\\\"2021-03-22\\\",\\\"2021-03-21\\\",\\\"2021-03-20\\\",\\\"2021-03-19\\\",\\\"2021-03-18\\\",\\\"2021-03-17\\\",\\\"2021-03-16\\\",\\\"2021-03-15\\\",\\\"2021-03-14\\\",\\\"2021-03-13\\\",\\\"2021-03-12\\\",\\\"2021-03-11\\\"]}],{\\\"xaxis\\\":{\\\"rangeslider\\\":{\\\"visible\\\":true}},\\\"template\\\":{\\\"layout\\\":{\\\"coloraxis\\\":{\\\"colorbar\\\":{\\\"ticks\\\":\\\"\\\",\\\"outlinewidth\\\":0}},\\\"xaxis\\\":{\\\"gridcolor\\\":\\\"white\\\",\\\"zerolinewidth\\\":2,\\\"title\\\":{\\\"standoff\\\":15},\\\"ticks\\\":\\\"\\\",\\\"zerolinecolor\\\":\\\"white\\\",\\\"automargin\\\":true,\\\"linecolor\\\":\\\"white\\\"},\\\"hovermode\\\":\\\"closest\\\",\\\"paper_bgcolor\\\":\\\"white\\\",\\\"geo\\\":{\\\"showlakes\\\":true,\\\"showland\\\":true,\\\"landcolor\\\":\\\"#E5ECF6\\\",\\\"bgcolor\\\":\\\"white\\\",\\\"subunitcolor\\\":\\\"white\\\",\\\"lakecolor\\\":\\\"white\\\"},\\\"colorscale\\\":{\\\"sequential\\\":[[0.0,\\\"#0d0887\\\"],[0.1111111111111111,\\\"#46039f\\\"],[0.2222222222222222,\\\"#7201a8\\\"],[0.3333333333333333,\\\"#9c179e\\\"],[0.4444444444444444,\\\"#bd3786\\\"],[0.5555555555555556,\\\"#d8576b\\\"],[0.6666666666666666,\\\"#ed7953\\\"],[0.7777777777777778,\\\"#fb9f3a\\\"],[0.8888888888888888,\\\"#fdca26\\\"],[1.0,\\\"#f0f921\\\"]],\\\"diverging\\\":[[0,\\\"#8e0152\\\"],[0.1,\\\"#c51b7d\\\"],[0.2,\\\"#de77ae\\\"],[0.3,\\\"#f1b6da\\\"],[0.4,\\\"#fde0ef\\\"],[0.5,\\\"#f7f7f7\\\"],[0.6,\\\"#e6f5d0\\\"],[0.7,\\\"#b8e186\\\"],[0.8,\\\"#7fbc41\\\"],[0.9,\\\"#4d9221\\\"],[1,\\\"#276419\\\"]],\\\"sequentialminus\\\":[[0.0,\\\"#0d0887\\\"],[0.1111111111111111,\\\"#46039f\\\"],[0.2222222222222222,\\\"#7201a8\\\"],[0.3333333333333333,\\\"#9c179e\\\"],[0.4444444444444444,\\\"#bd3786\\\"],[0.5555555555555556,\\\"#d8576b\\\"],[0.6666666666666666,\\\"#ed7953\\\"],[0.7777777777777778,\\\"#fb9f3a\\\"],[0.8888888888888888,\\\"#fdca26\\\"],[1.0,\\\"#f0f921\\\"]]},\\\"yaxis\\\":{\\\"gridcolor\\\":\\\"white\\\",\\\"zerolinewidth\\\":2,\\\"title\\\":{\\\"standoff\\\":15},\\\"ticks\\\":\\\"\\\",\\\"zerolinecolor\\\":\\\"white\\\",\\\"automargin\\\":true,\\\"linecolor\\\":\\\"white\\\"},\\\"shapedefaults\\\":{\\\"line\\\":{\\\"color\\\":\\\"#2a3f5f\\\"}},\\\"hoverlabel\\\":{\\\"align\\\":\\\"left\\\"},\\\"mapbox\\\":{\\\"style\\\":\\\"light\\\"},\\\"polar\\\":{\\\"angularaxis\\\":{\\\"gridcolor\\\":\\\"white\\\",\\\"ticks\\\":\\\"\\\",\\\"linecolor\\\":\\\"white\\\"},\\\"bgcolor\\\":\\\"#E5ECF6\\\",\\\"radialaxis\\\":{\\\"gridcolor\\\":\\\"white\\\",\\\"ticks\\\":\\\"\\\",\\\"linecolor\\\":\\\"white\\\"}},\\\"autotypenumbers\\\":\\\"strict\\\",\\\"font\\\":{\\\"color\\\":\\\"#2a3f5f\\\"},\\\"ternary\\\":{\\\"baxis\\\":{\\\"gridcolor\\\":\\\"white\\\",\\\"ticks\\\":\\\"\\\",\\\"linecolor\\\":\\\"white\\\"},\\\"bgcolor\\\":\\\"#E5ECF6\\\",\\\"caxis\\\":{\\\"gridcolor\\\":\\\"white\\\",\\\"ticks\\\":\\\"\\\",\\\"linecolor\\\":\\\"white\\\"},\\\"aaxis\\\":{\\\"gridcolor\\\":\\\"white\\\",\\\"ticks\\\":\\\"\\\",\\\"linecolor\\\":\\\"white\\\"}},\\\"annotationdefaults\\\":{\\\"arrowhead\\\":0,\\\"arrowwidth\\\":1,\\\"arrowcolor\\\":\\\"#2a3f5f\\\"},\\\"plot_bgcolor\\\":\\\"#E5ECF6\\\",\\\"title\\\":{\\\"x\\\":0.05},\\\"scene\\\":{\\\"xaxis\\\":{\\\"gridcolor\\\":\\\"white\\\",\\\"gridwidth\\\":2,\\\"backgroundcolor\\\":\\\"#E5ECF6\\\",\\\"ticks\\\":\\\"\\\",\\\"showbackground\\\":true,\\\"zerolinecolor\\\":\\\"white\\\",\\\"linecolor\\\":\\\"white\\\"},\\\"zaxis\\\":{\\\"gridcolor\\\":\\\"white\\\",\\\"gridwidth\\\":2,\\\"backgroundcolor\\\":\\\"#E5ECF6\\\",\\\"ticks\\\":\\\"\\\",\\\"showbackground\\\":true,\\\"zerolinecolor\\\":\\\"white\\\",\\\"linecolor\\\":\\\"white\\\"},\\\"yaxis\\\":{\\\"gridcolor\\\":\\\"white\\\",\\\"gridwidth\\\":2,\\\"backgroundcolor\\\":\\\"#E5ECF6\\\",\\\"ticks\\\":\\\"\\\",\\\"showbackground\\\":true,\\\"zerolinecolor\\\":\\\"white\\\",\\\"linecolor\\\":\\\"white\\\"}},\\\"colorway\\\":[\\\"#636efa\\\",\\\"#EF553B\\\",\\\"#00cc96\\\",\\\"#ab63fa\\\",\\\"#FFA15A\\\",\\\"#19d3f3\\\",\\\"#FF6692\\\",\\\"#B6E880\\\",\\\"#FF97FF\\\",\\\"#FECB52\\\"]},\\\"data\\\":{\\\"barpolar\\\":[{\\\"type\\\":\\\"barpolar\\\",\\\"marker\\\":{\\\"line\\\":{\\\"color\\\":\\\"#E5ECF6\\\",\\\"width\\\":0.5}}}],\\\"carpet\\\":[{\\\"aaxis\\\":{\\\"gridcolor\\\":\\\"white\\\",\\\"endlinecolor\\\":\\\"#2a3f5f\\\",\\\"minorgridcolor\\\":\\\"white\\\",\\\"startlinecolor\\\":\\\"#2a3f5f\\\",\\\"linecolor\\\":\\\"white\\\"},\\\"type\\\":\\\"carpet\\\",\\\"baxis\\\":{\\\"gridcolor\\\":\\\"white\\\",\\\"endlinecolor\\\":\\\"#2a3f5f\\\",\\\"minorgridcolor\\\":\\\"white\\\",\\\"startlinecolor\\\":\\\"#2a3f5f\\\",\\\"linecolor\\\":\\\"white\\\"}}],\\\"scatterpolar\\\":[{\\\"type\\\":\\\"scatterpolar\\\",\\\"marker\\\":{\\\"colorbar\\\":{\\\"ticks\\\":\\\"\\\",\\\"outlinewidth\\\":0}}}],\\\"parcoords\\\":[{\\\"line\\\":{\\\"colorbar\\\":{\\\"ticks\\\":\\\"\\\",\\\"outlinewidth\\\":0}},\\\"type\\\":\\\"parcoords\\\"}],\\\"scatter\\\":[{\\\"type\\\":\\\"scatter\\\",\\\"marker\\\":{\\\"colorbar\\\":{\\\"ticks\\\":\\\"\\\",\\\"outlinewidth\\\":0}}}],\\\"histogram2dcontour\\\":[{\\\"colorbar\\\":{\\\"ticks\\\":\\\"\\\",\\\"outlinewidth\\\":0},\\\"type\\\":\\\"histogram2dcontour\\\",\\\"colorscale\\\":[[0.0,\\\"#0d0887\\\"],[0.1111111111111111,\\\"#46039f\\\"],[0.2222222222222222,\\\"#7201a8\\\"],[0.3333333333333333,\\\"#9c179e\\\"],[0.4444444444444444,\\\"#bd3786\\\"],[0.5555555555555556,\\\"#d8576b\\\"],[0.6666666666666666,\\\"#ed7953\\\"],[0.7777777777777778,\\\"#fb9f3a\\\"],[0.8888888888888888,\\\"#fdca26\\\"],[1.0,\\\"#f0f921\\\"]]}],\\\"contour\\\":[{\\\"colorbar\\\":{\\\"ticks\\\":\\\"\\\",\\\"outlinewidth\\\":0},\\\"type\\\":\\\"contour\\\",\\\"colorscale\\\":[[0.0,\\\"#0d0887\\\"],[0.1111111111111111,\\\"#46039f\\\"],[0.2222222222222222,\\\"#7201a8\\\"],[0.3333333333333333,\\\"#9c179e\\\"],[0.4444444444444444,\\\"#bd3786\\\"],[0.5555555555555556,\\\"#d8576b\\\"],[0.6666666666666666,\\\"#ed7953\\\"],[0.7777777777777778,\\\"#fb9f3a\\\"],[0.8888888888888888,\\\"#fdca26\\\"],[1.0,\\\"#f0f921\\\"]]}],\\\"scattercarpet\\\":[{\\\"type\\\":\\\"scattercarpet\\\",\\\"marker\\\":{\\\"colorbar\\\":{\\\"ticks\\\":\\\"\\\",\\\"outlinewidth\\\":0}}}],\\\"mesh3d\\\":[{\\\"colorbar\\\":{\\\"ticks\\\":\\\"\\\",\\\"outlinewidth\\\":0},\\\"type\\\":\\\"mesh3d\\\"}],\\\"surface\\\":[{\\\"colorbar\\\":{\\\"ticks\\\":\\\"\\\",\\\"outlinewidth\\\":0},\\\"type\\\":\\\"surface\\\",\\\"colorscale\\\":[[0.0,\\\"#0d0887\\\"],[0.1111111111111111,\\\"#46039f\\\"],[0.2222222222222222,\\\"#7201a8\\\"],[0.3333333333333333,\\\"#9c179e\\\"],[0.4444444444444444,\\\"#bd3786\\\"],[0.5555555555555556,\\\"#d8576b\\\"],[0.6666666666666666,\\\"#ed7953\\\"],[0.7777777777777778,\\\"#fb9f3a\\\"],[0.8888888888888888,\\\"#fdca26\\\"],[1.0,\\\"#f0f921\\\"]]}],\\\"scattermapbox\\\":[{\\\"type\\\":\\\"scattermapbox\\\",\\\"marker\\\":{\\\"colorbar\\\":{\\\"ticks\\\":\\\"\\\",\\\"outlinewidth\\\":0}}}],\\\"scattergeo\\\":[{\\\"type\\\":\\\"scattergeo\\\",\\\"marker\\\":{\\\"colorbar\\\":{\\\"ticks\\\":\\\"\\\",\\\"outlinewidth\\\":0}}}],\\\"histogram\\\":[{\\\"type\\\":\\\"histogram\\\",\\\"marker\\\":{\\\"colorbar\\\":{\\\"ticks\\\":\\\"\\\",\\\"outlinewidth\\\":0}}}],\\\"pie\\\":[{\\\"type\\\":\\\"pie\\\",\\\"automargin\\\":true}],\\\"choropleth\\\":[{\\\"colorbar\\\":{\\\"ticks\\\":\\\"\\\",\\\"outlinewidth\\\":0},\\\"type\\\":\\\"choropleth\\\"}],\\\"heatmapgl\\\":[{\\\"colorbar\\\":{\\\"ticks\\\":\\\"\\\",\\\"outlinewidth\\\":0},\\\"type\\\":\\\"heatmapgl\\\",\\\"colorscale\\\":[[0.0,\\\"#0d0887\\\"],[0.1111111111111111,\\\"#46039f\\\"],[0.2222222222222222,\\\"#7201a8\\\"],[0.3333333333333333,\\\"#9c179e\\\"],[0.4444444444444444,\\\"#bd3786\\\"],[0.5555555555555556,\\\"#d8576b\\\"],[0.6666666666666666,\\\"#ed7953\\\"],[0.7777777777777778,\\\"#fb9f3a\\\"],[0.8888888888888888,\\\"#fdca26\\\"],[1.0,\\\"#f0f921\\\"]]}],\\\"bar\\\":[{\\\"type\\\":\\\"bar\\\",\\\"error_y\\\":{\\\"color\\\":\\\"#2a3f5f\\\"},\\\"error_x\\\":{\\\"color\\\":\\\"#2a3f5f\\\"},\\\"marker\\\":{\\\"line\\\":{\\\"color\\\":\\\"#E5ECF6\\\",\\\"width\\\":0.5}}}],\\\"heatmap\\\":[{\\\"colorbar\\\":{\\\"ticks\\\":\\\"\\\",\\\"outlinewidth\\\":0},\\\"type\\\":\\\"heatmap\\\",\\\"colorscale\\\":[[0.0,\\\"#0d0887\\\"],[0.1111111111111111,\\\"#46039f\\\"],[0.2222222222222222,\\\"#7201a8\\\"],[0.3333333333333333,\\\"#9c179e\\\"],[0.4444444444444444,\\\"#bd3786\\\"],[0.5555555555555556,\\\"#d8576b\\\"],[0.6666666666666666,\\\"#ed7953\\\"],[0.7777777777777778,\\\"#fb9f3a\\\"],[0.8888888888888888,\\\"#fdca26\\\"],[1.0,\\\"#f0f921\\\"]]}],\\\"contourcarpet\\\":[{\\\"colorbar\\\":{\\\"ticks\\\":\\\"\\\",\\\"outlinewidth\\\":0},\\\"type\\\":\\\"contourcarpet\\\"}],\\\"table\\\":[{\\\"type\\\":\\\"table\\\",\\\"header\\\":{\\\"line\\\":{\\\"color\\\":\\\"white\\\"},\\\"fill\\\":{\\\"color\\\":\\\"#C8D4E3\\\"}},\\\"cells\\\":{\\\"line\\\":{\\\"color\\\":\\\"white\\\"},\\\"fill\\\":{\\\"color\\\":\\\"#EBF0F8\\\"}}}],\\\"scatter3d\\\":[{\\\"line\\\":{\\\"colorbar\\\":{\\\"ticks\\\":\\\"\\\",\\\"outlinewidth\\\":0}},\\\"type\\\":\\\"scatter3d\\\",\\\"marker\\\":{\\\"colorbar\\\":{\\\"ticks\\\":\\\"\\\",\\\"outlinewidth\\\":0}}}],\\\"scattergl\\\":[{\\\"type\\\":\\\"scattergl\\\",\\\"marker\\\":{\\\"colorbar\\\":{\\\"ticks\\\":\\\"\\\",\\\"outlinewidth\\\":0}}}],\\\"histogram2d\\\":[{\\\"colorbar\\\":{\\\"ticks\\\":\\\"\\\",\\\"outlinewidth\\\":0},\\\"type\\\":\\\"histogram2d\\\",\\\"colorscale\\\":[[0.0,\\\"#0d0887\\\"],[0.1111111111111111,\\\"#46039f\\\"],[0.2222222222222222,\\\"#7201a8\\\"],[0.3333333333333333,\\\"#9c179e\\\"],[0.4444444444444444,\\\"#bd3786\\\"],[0.5555555555555556,\\\"#d8576b\\\"],[0.6666666666666666,\\\"#ed7953\\\"],[0.7777777777777778,\\\"#fb9f3a\\\"],[0.8888888888888888,\\\"#fdca26\\\"],[1.0,\\\"#f0f921\\\"]]}],\\\"scatterternary\\\":[{\\\"type\\\":\\\"scatterternary\\\",\\\"marker\\\":{\\\"colorbar\\\":{\\\"ticks\\\":\\\"\\\",\\\"outlinewidth\\\":0}}}],\\\"scatterpolargl\\\":[{\\\"type\\\":\\\"scatterpolargl\\\",\\\"marker\\\":{\\\"colorbar\\\":{\\\"ticks\\\":\\\"\\\",\\\"outlinewidth\\\":0}}}]}},\\\"margin\\\":{\\\"l\\\":50,\\\"b\\\":50,\\\"r\\\":50,\\\"t\\\":60},\\\"title\\\":\\\"Precio del bitcoin\\\",\\\"layout\\\":[2,2]},{\\\"showLink\\\":false,\\\"editable\\\":false,\\\"responsive\\\":true,\\\"staticPlot\\\":false,\\\"scrollZoom\\\":true}); gd.on(\\\"plotly_hover\\\",(function (data){var filtered_data=WebIO.PlotlyCommands.filterEventData(gd,data,\\\"hover\\\"); return !(filtered_data.isnil) ? (WebIO.setval({\\\"name\\\":\\\"hover\\\",\\\"scope\\\":\\\"16360904237997627455\\\",\\\"id\\\":\\\"6738009735951596099\\\",\\\"type\\\":\\\"observable\\\"},filtered_data.out)) : undefined})); gd.on(\\\"plotly_unhover\\\",(function (){return WebIO.setval({\\\"name\\\":\\\"hover\\\",\\\"scope\\\":\\\"16360904237997627455\\\",\\\"id\\\":\\\"6738009735951596099\\\",\\\"type\\\":\\\"observable\\\"},{})})); gd.on(\\\"plotly_selected\\\",(function (data){var filtered_data=WebIO.PlotlyCommands.filterEventData(gd,data,\\\"selected\\\"); return !(filtered_data.isnil) ? (WebIO.setval({\\\"name\\\":\\\"selected\\\",\\\"scope\\\":\\\"16360904237997627455\\\",\\\"id\\\":\\\"7167415964347099040\\\",\\\"type\\\":\\\"observable\\\"},filtered_data.out)) : undefined})); gd.on(\\\"plotly_deselect\\\",(function (){return WebIO.setval({\\\"name\\\":\\\"selected\\\",\\\"scope\\\":\\\"16360904237997627455\\\",\\\"id\\\":\\\"7167415964347099040\\\",\\\"type\\\":\\\"observable\\\"},{})})); gd.on(\\\"plotly_relayout\\\",(function (data){var filtered_data=WebIO.PlotlyCommands.filterEventData(gd,data,\\\"relayout\\\"); return !(filtered_data.isnil) ? (WebIO.setval({\\\"name\\\":\\\"relayout\\\",\\\"scope\\\":\\\"16360904237997627455\\\",\\\"id\\\":\\\"1836809017166524400\\\",\\\"type\\\":\\\"observable\\\"},filtered_data.out)) : undefined})); return gd.on(\\\"plotly_click\\\",(function (data){var filtered_data=WebIO.PlotlyCommands.filterEventData(gd,data,\\\"click\\\"); return !(filtered_data.isnil) ? (WebIO.setval({\\\"name\\\":\\\"click\\\",\\\"scope\\\":\\\"16360904237997627455\\\",\\\"id\\\":\\\"14177352326874924005\\\",\\\"type\\\":\\\"observable\\\"},filtered_data.out)) : undefined}))}));\\n    (WebIO.importBlock({\\\"data\\\":[{\\\"name\\\":\\\"Plotly\\\",\\\"type\\\":\\\"js\\\",\\\"url\\\":\\\"\\/assetserver\\/db01643933f428e933e6fe3f9bf0c39e9fab8888-plotly.min.js\\\"},{\\\"name\\\":null,\\\"type\\\":\\\"js\\\",\\\"url\\\":\\\"\\/assetserver\\/2838d48eaeffaf0924c124c65d5596d45c0b86cd-plotly_webio.bundle.js\\\"}],\\\"type\\\":\\\"async_block\\\"})).then((imports) => handler.apply(this, imports));\\n}\\n\"],\"observables\":{\"_toImage\":{\"sync\":false,\"id\":\"9278779101578505252\",\"value\":{}},\"hover\":{\"sync\":false,\"id\":\"6738009735951596099\",\"value\":{}},\"selected\":{\"sync\":false,\"id\":\"7167415964347099040\",\"value\":{}},\"__gd_contents\":{\"sync\":false,\"id\":\"11443845468376139451\",\"value\":{}},\"click\":{\"sync\":false,\"id\":\"14177352326874924005\",\"value\":{}},\"image\":{\"sync\":true,\"id\":\"16056403792515446377\",\"value\":\"\"},\"__get_gd_contents\":{\"sync\":false,\"id\":\"9830370417242000158\",\"value\":\"\"},\"_downloadImage\":{\"sync\":false,\"id\":\"8315956100334566606\",\"value\":{}},\"relayout\":{\"sync\":false,\"id\":\"1836809017166524400\",\"value\":{}},\"_commands\":{\"sync\":false,\"id\":\"16555119774361965527\",\"value\":[]}}},\"children\":[{\"props\":{\"id\":\"plot-259c2411-9093-463e-a989-22e716c59315\"},\"nodeType\":\"DOM\",\"type\":\"node\",\"instanceArgs\":{\"namespace\":\"html\",\"tag\":\"div\"},\"children\":[]}]},\n",
       "        window,\n",
       "    );\n",
       "    })()\n",
       "    </script>\n",
       "</div>\n"
      ],
      "text/plain": [
       "data: [\n",
       "  \"scatter with fields type, x, and y\"\n",
       "]\n",
       "\n",
       "layout: \"layout with fields layout, margin, template, title, and xaxis\"\n",
       "\n"
      ]
     },
     "execution_count": 3,
     "metadata": {},
     "output_type": "execute_result"
    }
   ],
   "source": [
    "plot(dataBitcoin.Date[11:378],dataBitcoin.PriceFloat[11:378],Layout(title=\"Precio del bitcoin\",xaxis_rangeslider_visible=true,layout=(2,2)))"
   ]
  },
  {
   "cell_type": "markdown",
   "id": "53311d51",
   "metadata": {},
   "source": [
    "Creación de los modelos"
   ]
  },
  {
   "cell_type": "code",
   "execution_count": 4,
   "id": "dc9e3504",
   "metadata": {},
   "outputs": [
    {
     "name": "stdout",
     "output_type": "stream",
     "text": [
      "[50087.02944307498, -23.00083890426787, 0.029287131247777452][67783.1074117759, -594.6086304146004, 3.8967187554994553, -0.006987229673444768][71634.75705176036, -800.8523428022236, 6.403930348083782, -0.01754704291330039, 1.4308690026904587e-5][55409.36755335155, 493.68388700738586, -18.02051180607438, 0.15860133457000355, -0.0005223624917567962, 5.817573786273166e-7]"
     ]
    }
   ],
   "source": [
    "#Creación de los modelos\n",
    "m=368\n",
    "a=dataBitcoin.PriceFloat[11:378]\n",
    "#start matrix\n",
    "A=[ones(m,1) Array((1:m))]\n",
    "b=reverse(dataBitcoin.PriceFloat[11:378])\n",
    "#arreglo que guarda la prediccion para n=2,3,4,5 \n",
    "predictions=ones(368,1)\n",
    "#arreglo que guarda los x de cada modelo \n",
    "x_result=[]\n",
    "\n",
    "pred=0\n",
    "for n in 2:5\n",
    "    A=[A Array((1:m)).^n]\n",
    "    x=A\\b\n",
    "    print(x)\n",
    "    push!(x_result,x)\n",
    "    pred=A*x\n",
    "    predictions=[predictions reverse(pred)]\n",
    "    #push!(finalPlot,plot(dataBitcoin.Date[11:378],[pred dataBitcoin.Price[11:378]]));\n",
    "    \n",
    "end\n"
   ]
  },
  {
   "cell_type": "markdown",
   "id": "03a664ec",
   "metadata": {},
   "source": [
    "Acontinuación graficamos los modelos y el precio del bitcoin"
   ]
  },
  {
   "cell_type": "code",
   "execution_count": 5,
   "id": "17dbd5e4",
   "metadata": {},
   "outputs": [
    {
     "data": {
      "application/vnd.plotly.v1+json": {
       "config": {
        "editable": false,
        "responsive": true,
        "scrollZoom": true,
        "showLink": false,
        "staticPlot": false
       },
       "data": [
        {
         "name": "n=2",
         "type": "scatter",
         "x": [
          "2022-03-13",
          "2022-03-12",
          "2022-03-11",
          "2022-03-10",
          "2022-03-09",
          "2022-03-08",
          "2022-03-07",
          "2022-03-06",
          "2022-03-05",
          "2022-03-04",
          "2022-03-03",
          "2022-03-02",
          "2022-03-01",
          "2022-02-28",
          "2022-02-27",
          "2022-02-26",
          "2022-02-25",
          "2022-02-24",
          "2022-02-23",
          "2022-02-22",
          "2022-02-21",
          "2022-02-20",
          "2022-02-19",
          "2022-02-18",
          "2022-02-17",
          "2022-02-16",
          "2022-02-15",
          "2022-02-14",
          "2022-02-13",
          "2022-02-12",
          "2022-02-11",
          "2022-02-10",
          "2022-02-09",
          "2022-02-08",
          "2022-02-07",
          "2022-02-06",
          "2022-02-05",
          "2022-02-04",
          "2022-02-03",
          "2022-02-02",
          "2022-02-01",
          "2022-01-31",
          "2022-01-30",
          "2022-01-29",
          "2022-01-28",
          "2022-01-27",
          "2022-01-26",
          "2022-01-25",
          "2022-01-24",
          "2022-01-23",
          "2022-01-22",
          "2022-01-21",
          "2022-01-20",
          "2022-01-19",
          "2022-01-18",
          "2022-01-17",
          "2022-01-16",
          "2022-01-15",
          "2022-01-14",
          "2022-01-13",
          "2022-01-12",
          "2022-01-11",
          "2022-01-10",
          "2022-01-09",
          "2022-01-08",
          "2022-01-07",
          "2022-01-06",
          "2022-01-05",
          "2022-01-04",
          "2022-01-03",
          "2022-01-02",
          "2022-01-01",
          "2021-12-31",
          "2021-12-30",
          "2021-12-29",
          "2021-12-28",
          "2021-12-27",
          "2021-12-26",
          "2021-12-25",
          "2021-12-24",
          "2021-12-23",
          "2021-12-22",
          "2021-12-21",
          "2021-12-20",
          "2021-12-19",
          "2021-12-18",
          "2021-12-17",
          "2021-12-16",
          "2021-12-15",
          "2021-12-14",
          "2021-12-13",
          "2021-12-12",
          "2021-12-11",
          "2021-12-10",
          "2021-12-09",
          "2021-12-08",
          "2021-12-07",
          "2021-12-06",
          "2021-12-05",
          "2021-12-04",
          "2021-12-03",
          "2021-12-02",
          "2021-12-01",
          "2021-11-30",
          "2021-11-29",
          "2021-11-28",
          "2021-11-27",
          "2021-11-26",
          "2021-11-25",
          "2021-11-24",
          "2021-11-23",
          "2021-11-22",
          "2021-11-21",
          "2021-11-20",
          "2021-11-19",
          "2021-11-18",
          "2021-11-17",
          "2021-11-16",
          "2021-11-15",
          "2021-11-14",
          "2021-11-13",
          "2021-11-12",
          "2021-11-11",
          "2021-11-10",
          "2021-11-09",
          "2021-11-08",
          "2021-11-07",
          "2021-11-06",
          "2021-11-05",
          "2021-11-04",
          "2021-11-03",
          "2021-11-02",
          "2021-11-01",
          "2021-10-31",
          "2021-10-30",
          "2021-10-29",
          "2021-10-28",
          "2021-10-27",
          "2021-10-26",
          "2021-10-25",
          "2021-10-24",
          "2021-10-23",
          "2021-10-22",
          "2021-10-21",
          "2021-10-20",
          "2021-10-19",
          "2021-10-18",
          "2021-10-17",
          "2021-10-16",
          "2021-10-15",
          "2021-10-14",
          "2021-10-13",
          "2021-10-12",
          "2021-10-11",
          "2021-10-10",
          "2021-10-09",
          "2021-10-08",
          "2021-10-07",
          "2021-10-06",
          "2021-10-05",
          "2021-10-04",
          "2021-10-03",
          "2021-10-02",
          "2021-10-01",
          "2021-09-30",
          "2021-09-29",
          "2021-09-28",
          "2021-09-27",
          "2021-09-26",
          "2021-09-25",
          "2021-09-24",
          "2021-09-23",
          "2021-09-22",
          "2021-09-21",
          "2021-09-20",
          "2021-09-19",
          "2021-09-18",
          "2021-09-17",
          "2021-09-16",
          "2021-09-15",
          "2021-09-14",
          "2021-09-13",
          "2021-09-12",
          "2021-09-11",
          "2021-09-10",
          "2021-09-09",
          "2021-09-08",
          "2021-09-07",
          "2021-09-06",
          "2021-09-05",
          "2021-09-04",
          "2021-09-03",
          "2021-09-02",
          "2021-09-01",
          "2021-08-31",
          "2021-08-30",
          "2021-08-29",
          "2021-08-28",
          "2021-08-27",
          "2021-08-26",
          "2021-08-25",
          "2021-08-24",
          "2021-08-23",
          "2021-08-22",
          "2021-08-21",
          "2021-08-20",
          "2021-08-19",
          "2021-08-18",
          "2021-08-17",
          "2021-08-16",
          "2021-08-15",
          "2021-08-14",
          "2021-08-13",
          "2021-08-12",
          "2021-08-11",
          "2021-08-10",
          "2021-08-09",
          "2021-08-08",
          "2021-08-07",
          "2021-08-06",
          "2021-08-05",
          "2021-08-04",
          "2021-08-03",
          "2021-08-02",
          "2021-08-01",
          "2021-07-31",
          "2021-07-30",
          "2021-07-29",
          "2021-07-28",
          "2021-07-27",
          "2021-07-26",
          "2021-07-25",
          "2021-07-24",
          "2021-07-23",
          "2021-07-22",
          "2021-07-21",
          "2021-07-20",
          "2021-07-19",
          "2021-07-18",
          "2021-07-17",
          "2021-07-16",
          "2021-07-15",
          "2021-07-14",
          "2021-07-13",
          "2021-07-12",
          "2021-07-11",
          "2021-07-10",
          "2021-07-09",
          "2021-07-08",
          "2021-07-07",
          "2021-07-06",
          "2021-07-05",
          "2021-07-04",
          "2021-07-03",
          "2021-07-02",
          "2021-07-01",
          "2021-06-30",
          "2021-06-29",
          "2021-06-28",
          "2021-06-27",
          "2021-06-26",
          "2021-06-25",
          "2021-06-24",
          "2021-06-23",
          "2021-06-22",
          "2021-06-21",
          "2021-06-20",
          "2021-06-19",
          "2021-06-18",
          "2021-06-17",
          "2021-06-16",
          "2021-06-15",
          "2021-06-14",
          "2021-06-13",
          "2021-06-12",
          "2021-06-11",
          "2021-06-10",
          "2021-06-09",
          "2021-06-08",
          "2021-06-07",
          "2021-06-06",
          "2021-06-05",
          "2021-06-04",
          "2021-06-03",
          "2021-06-02",
          "2021-06-01",
          "2021-05-31",
          "2021-05-30",
          "2021-05-29",
          "2021-05-28",
          "2021-05-27",
          "2021-05-26",
          "2021-05-25",
          "2021-05-24",
          "2021-05-23",
          "2021-05-22",
          "2021-05-21",
          "2021-05-20",
          "2021-05-19",
          "2021-05-18",
          "2021-05-17",
          "2021-05-16",
          "2021-05-15",
          "2021-05-14",
          "2021-05-13",
          "2021-05-12",
          "2021-05-11",
          "2021-05-10",
          "2021-05-09",
          "2021-05-08",
          "2021-05-07",
          "2021-05-06",
          "2021-05-05",
          "2021-05-04",
          "2021-05-03",
          "2021-05-02",
          "2021-05-01",
          "2021-04-30",
          "2021-04-29",
          "2021-04-28",
          "2021-04-27",
          "2021-04-26",
          "2021-04-25",
          "2021-04-24",
          "2021-04-23",
          "2021-04-22",
          "2021-04-21",
          "2021-04-20",
          "2021-04-19",
          "2021-04-18",
          "2021-04-17",
          "2021-04-16",
          "2021-04-15",
          "2021-04-14",
          "2021-04-13",
          "2021-04-12",
          "2021-04-11",
          "2021-04-10",
          "2021-04-09",
          "2021-04-08",
          "2021-04-07",
          "2021-04-06",
          "2021-04-05",
          "2021-04-04",
          "2021-04-03",
          "2021-04-02",
          "2021-04-01",
          "2021-03-31",
          "2021-03-30",
          "2021-03-29",
          "2021-03-28",
          "2021-03-27",
          "2021-03-26",
          "2021-03-25",
          "2021-03-24",
          "2021-03-23",
          "2021-03-22",
          "2021-03-21",
          "2021-03-20",
          "2021-03-19",
          "2021-03-18",
          "2021-03-17",
          "2021-03-16",
          "2021-03-15",
          "2021-03-14",
          "2021-03-13",
          "2021-03-12",
          "2021-03-11"
         ],
         "y": [
          45588.90118840342,
          45590.37598584057,
          45591.909357540215,
          45593.50130350236,
          45595.15182372699,
          45596.86091821413,
          45598.62858696375,
          45600.45482997588,
          45602.339647250505,
          45604.28303878762,
          45606.28500458723,
          45608.34554464934,
          45610.464658973935,
          45612.642347561035,
          45614.87861041063,
          45617.17344752272,
          45619.526858897305,
          45621.93884453439,
          45624.40940443396,
          45626.938538596034,
          45629.52624702061,
          45632.17252970766,
          45634.87738665722,
          45637.64081786928,
          45640.46282334382,
          45643.34340308087,
          45646.282557080405,
          45649.280285342444,
          45652.33658786698,
          45655.451464654,
          45658.62491570353,
          45661.85694101555,
          45665.14754059006,
          45668.49671442707,
          45671.90446252657,
          45675.37078488857,
          45678.895681513066,
          45682.479152400054,
          45686.121197549546,
          45689.82181696153,
          45693.581010636,
          45697.39877857298,
          45701.27512077245,
          45705.210037234414,
          45709.203527958874,
          45713.25559294583,
          45717.36623219528,
          45721.53544570723,
          45725.76323348167,
          45730.049595518605,
          45734.39453181804,
          45738.79804237997,
          45743.2601272044,
          45747.78078629132,
          45752.36001964073,
          45756.99782725264,
          45761.694209127054,
          45766.449165263955,
          45771.262695663354,
          45776.13480032524,
          45781.065479249635,
          45786.05473243652,
          45791.1025598859,
          45796.208961597775,
          45801.37393757215,
          45806.59748780901,
          45811.879612308374,
          45817.22031107024,
          45822.61958409459,
          45828.07743138144,
          45833.59385293078,
          45839.16884874262,
          45844.80241881696,
          45850.49456315379,
          45856.245281753116,
          45862.054574614944,
          45867.922441739254,
          45873.84888312607,
          45879.83389877538,
          45885.87748868718,
          45891.97965286148,
          45898.14039129828,
          45904.35970399757,
          45910.63759095936,
          45916.974052183636,
          45923.36908767042,
          45929.822697419695,
          45936.33488143146,
          45942.90563970573,
          45949.53497224249,
          45956.22287904174,
          45962.969360103496,
          45969.774415427746,
          45976.63804501448,
          45983.56024886372,
          45990.54102697546,
          45997.58037934968,
          46004.67830598641,
          46011.83480688563,
          46019.049882047344,
          46026.32353147156,
          46033.65575515826,
          46041.046553107466,
          46048.49592531917,
          46056.00387179336,
          46063.57039253005,
          46071.19548752923,
          46078.879156790914,
          46086.62140031509,
          46094.422218101754,
          46102.28161015092,
          46110.19957646259,
          46118.176117036746,
          46126.2112318734,
          46134.30492097255,
          46142.45718433419,
          46150.668021958336,
          46158.93743384497,
          46167.2654199941,
          46175.65198040573,
          46184.09711507986,
          46192.60082401647,
          46201.16310721559,
          46209.78396467719,
          46218.4633964013,
          46227.2014023879,
          46235.99798263699,
          46244.85313714859,
          46253.76686592268,
          46262.73916895925,
          46271.77004625833,
          46280.8594978199,
          46290.00752364397,
          46299.21412373054,
          46308.4792980796,
          46317.80304669115,
          46327.18536956521,
          46336.62626670175,
          46346.125738100796,
          46355.68378376234,
          46365.300403686364,
          46374.97559787289,
          46384.70936632193,
          46394.50170903344,
          46404.35262600746,
          46414.26211724397,
          46424.23018274298,
          46434.25682250448,
          46444.34203652847,
          46454.48582481497,
          46464.68818736396,
          46474.949124175444,
          46485.26863524942,
          46495.6467205859,
          46506.08338018487,
          46516.57861404634,
          46527.132422170296,
          46537.74480455676,
          46548.41576120571,
          46559.14529211716,
          46569.933397291104,
          46580.78007672755,
          46591.68533042648,
          46602.64915838791,
          46613.671560611845,
          46624.75253709826,
          46635.89208784718,
          46647.090212858595,
          46658.3469121325,
          46669.66218566891,
          46681.03603346781,
          46692.468455529204,
          46703.959451853094,
          46715.50902243948,
          46727.117167288365,
          46738.783886399746,
          46750.50917977361,
          46762.293047409985,
          46774.13548930884,
          46786.036505470205,
          46797.996095894065,
          46810.014260580414,
          46822.09099952926,
          46834.226312740604,
          46846.42020021444,
          46858.672661950775,
          46870.98369794961,
          46883.35330821093,
          46895.78149273475,
          46908.26825152107,
          46920.81358456988,
          46933.417491881184,
          46946.079973454995,
          46958.80102929129,
          46971.58065939008,
          46984.418863751365,
          46997.31564237515,
          47010.27099526144,
          47023.2849224102,
          47036.35742382148,
          47049.48849949525,
          47062.67814943151,
          47075.92637363027,
          47089.233172091524,
          47102.59854481527,
          47116.022491801516,
          47129.50501305025,
          47143.04610856149,
          47156.64577833522,
          47170.30402237145,
          47184.02084067017,
          47197.79623323139,
          47211.6302000551,
          47225.522741141314,
          47239.47385649002,
          47253.48354610121,
          47267.55180997492,
          47281.678648111105,
          47295.86406050979,
          47310.10804717097,
          47324.41060809465,
          47338.77174328083,
          47353.191452729494,
          47367.66973644066,
          47382.20659441432,
          47396.802026650475,
          47411.45603314912,
          47426.168613910275,
          47440.93976893391,
          47455.76949822005,
          47470.657801768684,
          47485.60467957981,
          47500.61013165344,
          47515.67415798956,
          47530.79675858817,
          47545.977933449285,
          47561.2176825729,
          47576.51600595899,
          47591.8729036076,
          47607.28837551869,
          47622.76242169228,
          47638.29504212836,
          47653.88623682694,
          47669.53600578802,
          47685.24434901159,
          47701.011266497655,
          47716.836758246216,
          47732.72082425728,
          47748.66346453083,
          47764.66467906688,
          47780.724467865424,
          47796.842830926464,
          47813.01976825,
          47829.25527983603,
          47845.54936568456,
          47861.90202579558,
          47878.313260169096,
          47894.78306880511,
          47911.31145170362,
          47927.898408864625,
          47944.543940288124,
          47961.24804597412,
          47978.010725922606,
          47994.8319801336,
          48011.711808607084,
          48028.650211343054,
          48045.647188341536,
          48062.7027396025,
          48079.81686512596,
          48096.98956491193,
          48114.22083896038,
          48131.51068727133,
          48148.85910984478,
          48166.26610668072,
          48183.731677779164,
          48201.2558231401,
          48218.83854276352,
          48236.47983664945,
          48254.17970479786,
          48271.938147208784,
          48289.7551638822,
          48307.6307548181,
          48325.564920016506,
          48343.5576594774,
          48361.60897320079,
          48379.71886118669,
          48397.88732343507,
          48416.11435994595,
          48434.39997071933,
          48452.7441557552,
          48471.14691505356,
          48489.60824861443,
          48508.12815643778,
          48526.70663852363,
          48545.34369487199,
          48564.03932548283,
          48582.79353035617,
          48601.60630949201,
          48620.477662890335,
          48639.40759055116,
          48658.39609247449,
          48677.443168660306,
          48696.54881910862,
          48715.71304381942,
          48734.93584279273,
          48754.21721602853,
          48773.55716352682,
          48792.95568528762,
          48812.41278131091,
          48831.92845159669,
          48851.50269614496,
          48871.13551495574,
          48890.826908029005,
          48910.57687536477,
          48930.385416963036,
          48950.25253282379,
          48970.17822294704,
          48990.16248733278,
          49010.20532598103,
          49030.30673889177,
          49050.466726064995,
          49070.68528750073,
          49090.96242319896,
          49111.298133159675,
          49131.69241738289,
          49152.14527586861,
          49172.65670861681,
          49193.22671562751,
          49213.85529690071,
          49234.5424524364,
          49255.288182234595,
          49276.092486295274,
          49296.95536461846,
          49317.87681720413,
          49338.8568440523,
          49359.89544516297,
          49380.99262053613,
          49402.14837017179,
          49423.36269406994,
          49444.63559223059,
          49465.967064653734,
          49487.35711133938,
          49508.80573228751,
          49530.31292749814,
          49551.878696971275,
          49573.50304070689,
          49595.18595870501,
          49616.927450965624,
          49638.72751748873,
          49660.58615827434,
          49682.50337332243,
          49704.47916263303,
          49726.51352620612,
          49748.60646404171,
          49770.757976139794,
          49792.968062500375,
          49815.23672312344,
          49837.563958009014,
          49859.94976715708,
          49882.394150567634,
          49904.89710824069,
          49927.45864017625,
          49950.07874637429,
          49972.75742683483,
          49995.494681557866,
          50018.290510543404,
          50041.14491379144,
          50064.057891301956
         ]
        },
        {
         "name": "n=3",
         "type": "scatter",
         "x": [
          "2022-03-13",
          "2022-03-12",
          "2022-03-11",
          "2022-03-10",
          "2022-03-09",
          "2022-03-08",
          "2022-03-07",
          "2022-03-06",
          "2022-03-05",
          "2022-03-04",
          "2022-03-03",
          "2022-03-02",
          "2022-03-01",
          "2022-02-28",
          "2022-02-27",
          "2022-02-26",
          "2022-02-25",
          "2022-02-24",
          "2022-02-23",
          "2022-02-22",
          "2022-02-21",
          "2022-02-20",
          "2022-02-19",
          "2022-02-18",
          "2022-02-17",
          "2022-02-16",
          "2022-02-15",
          "2022-02-14",
          "2022-02-13",
          "2022-02-12",
          "2022-02-11",
          "2022-02-10",
          "2022-02-09",
          "2022-02-08",
          "2022-02-07",
          "2022-02-06",
          "2022-02-05",
          "2022-02-04",
          "2022-02-03",
          "2022-02-02",
          "2022-02-01",
          "2022-01-31",
          "2022-01-30",
          "2022-01-29",
          "2022-01-28",
          "2022-01-27",
          "2022-01-26",
          "2022-01-25",
          "2022-01-24",
          "2022-01-23",
          "2022-01-22",
          "2022-01-21",
          "2022-01-20",
          "2022-01-19",
          "2022-01-18",
          "2022-01-17",
          "2022-01-16",
          "2022-01-15",
          "2022-01-14",
          "2022-01-13",
          "2022-01-12",
          "2022-01-11",
          "2022-01-10",
          "2022-01-09",
          "2022-01-08",
          "2022-01-07",
          "2022-01-06",
          "2022-01-05",
          "2022-01-04",
          "2022-01-03",
          "2022-01-02",
          "2022-01-01",
          "2021-12-31",
          "2021-12-30",
          "2021-12-29",
          "2021-12-28",
          "2021-12-27",
          "2021-12-26",
          "2021-12-25",
          "2021-12-24",
          "2021-12-23",
          "2021-12-22",
          "2021-12-21",
          "2021-12-20",
          "2021-12-19",
          "2021-12-18",
          "2021-12-17",
          "2021-12-16",
          "2021-12-15",
          "2021-12-14",
          "2021-12-13",
          "2021-12-12",
          "2021-12-11",
          "2021-12-10",
          "2021-12-09",
          "2021-12-08",
          "2021-12-07",
          "2021-12-06",
          "2021-12-05",
          "2021-12-04",
          "2021-12-03",
          "2021-12-02",
          "2021-12-01",
          "2021-11-30",
          "2021-11-29",
          "2021-11-28",
          "2021-11-27",
          "2021-11-26",
          "2021-11-25",
          "2021-11-24",
          "2021-11-23",
          "2021-11-22",
          "2021-11-21",
          "2021-11-20",
          "2021-11-19",
          "2021-11-18",
          "2021-11-17",
          "2021-11-16",
          "2021-11-15",
          "2021-11-14",
          "2021-11-13",
          "2021-11-12",
          "2021-11-11",
          "2021-11-10",
          "2021-11-09",
          "2021-11-08",
          "2021-11-07",
          "2021-11-06",
          "2021-11-05",
          "2021-11-04",
          "2021-11-03",
          "2021-11-02",
          "2021-11-01",
          "2021-10-31",
          "2021-10-30",
          "2021-10-29",
          "2021-10-28",
          "2021-10-27",
          "2021-10-26",
          "2021-10-25",
          "2021-10-24",
          "2021-10-23",
          "2021-10-22",
          "2021-10-21",
          "2021-10-20",
          "2021-10-19",
          "2021-10-18",
          "2021-10-17",
          "2021-10-16",
          "2021-10-15",
          "2021-10-14",
          "2021-10-13",
          "2021-10-12",
          "2021-10-11",
          "2021-10-10",
          "2021-10-09",
          "2021-10-08",
          "2021-10-07",
          "2021-10-06",
          "2021-10-05",
          "2021-10-04",
          "2021-10-03",
          "2021-10-02",
          "2021-10-01",
          "2021-09-30",
          "2021-09-29",
          "2021-09-28",
          "2021-09-27",
          "2021-09-26",
          "2021-09-25",
          "2021-09-24",
          "2021-09-23",
          "2021-09-22",
          "2021-09-21",
          "2021-09-20",
          "2021-09-19",
          "2021-09-18",
          "2021-09-17",
          "2021-09-16",
          "2021-09-15",
          "2021-09-14",
          "2021-09-13",
          "2021-09-12",
          "2021-09-11",
          "2021-09-10",
          "2021-09-09",
          "2021-09-08",
          "2021-09-07",
          "2021-09-06",
          "2021-09-05",
          "2021-09-04",
          "2021-09-03",
          "2021-09-02",
          "2021-09-01",
          "2021-08-31",
          "2021-08-30",
          "2021-08-29",
          "2021-08-28",
          "2021-08-27",
          "2021-08-26",
          "2021-08-25",
          "2021-08-24",
          "2021-08-23",
          "2021-08-22",
          "2021-08-21",
          "2021-08-20",
          "2021-08-19",
          "2021-08-18",
          "2021-08-17",
          "2021-08-16",
          "2021-08-15",
          "2021-08-14",
          "2021-08-13",
          "2021-08-12",
          "2021-08-11",
          "2021-08-10",
          "2021-08-09",
          "2021-08-08",
          "2021-08-07",
          "2021-08-06",
          "2021-08-05",
          "2021-08-04",
          "2021-08-03",
          "2021-08-02",
          "2021-08-01",
          "2021-07-31",
          "2021-07-30",
          "2021-07-29",
          "2021-07-28",
          "2021-07-27",
          "2021-07-26",
          "2021-07-25",
          "2021-07-24",
          "2021-07-23",
          "2021-07-22",
          "2021-07-21",
          "2021-07-20",
          "2021-07-19",
          "2021-07-18",
          "2021-07-17",
          "2021-07-16",
          "2021-07-15",
          "2021-07-14",
          "2021-07-13",
          "2021-07-12",
          "2021-07-11",
          "2021-07-10",
          "2021-07-09",
          "2021-07-08",
          "2021-07-07",
          "2021-07-06",
          "2021-07-05",
          "2021-07-04",
          "2021-07-03",
          "2021-07-02",
          "2021-07-01",
          "2021-06-30",
          "2021-06-29",
          "2021-06-28",
          "2021-06-27",
          "2021-06-26",
          "2021-06-25",
          "2021-06-24",
          "2021-06-23",
          "2021-06-22",
          "2021-06-21",
          "2021-06-20",
          "2021-06-19",
          "2021-06-18",
          "2021-06-17",
          "2021-06-16",
          "2021-06-15",
          "2021-06-14",
          "2021-06-13",
          "2021-06-12",
          "2021-06-11",
          "2021-06-10",
          "2021-06-09",
          "2021-06-08",
          "2021-06-07",
          "2021-06-06",
          "2021-06-05",
          "2021-06-04",
          "2021-06-03",
          "2021-06-02",
          "2021-06-01",
          "2021-05-31",
          "2021-05-30",
          "2021-05-29",
          "2021-05-28",
          "2021-05-27",
          "2021-05-26",
          "2021-05-25",
          "2021-05-24",
          "2021-05-23",
          "2021-05-22",
          "2021-05-21",
          "2021-05-20",
          "2021-05-19",
          "2021-05-18",
          "2021-05-17",
          "2021-05-16",
          "2021-05-15",
          "2021-05-14",
          "2021-05-13",
          "2021-05-12",
          "2021-05-11",
          "2021-05-10",
          "2021-05-09",
          "2021-05-08",
          "2021-05-07",
          "2021-05-06",
          "2021-05-05",
          "2021-05-04",
          "2021-05-03",
          "2021-05-02",
          "2021-05-01",
          "2021-04-30",
          "2021-04-29",
          "2021-04-28",
          "2021-04-27",
          "2021-04-26",
          "2021-04-25",
          "2021-04-24",
          "2021-04-23",
          "2021-04-22",
          "2021-04-21",
          "2021-04-20",
          "2021-04-19",
          "2021-04-18",
          "2021-04-17",
          "2021-04-16",
          "2021-04-15",
          "2021-04-14",
          "2021-04-13",
          "2021-04-12",
          "2021-04-11",
          "2021-04-10",
          "2021-04-09",
          "2021-04-08",
          "2021-04-07",
          "2021-04-06",
          "2021-04-05",
          "2021-04-04",
          "2021-04-03",
          "2021-04-02",
          "2021-04-01",
          "2021-03-31",
          "2021-03-30",
          "2021-03-29",
          "2021-03-28",
          "2021-03-27",
          "2021-03-26",
          "2021-03-25",
          "2021-03-24",
          "2021-03-23",
          "2021-03-22",
          "2021-03-21",
          "2021-03-20",
          "2021-03-19",
          "2021-03-18",
          "2021-03-17",
          "2021-03-16",
          "2021-03-15",
          "2021-03-14",
          "2021-03-13",
          "2021-03-12",
          "2021-03-11"
         ],
         "y": [
          28460.570566818235,
          29022.099771500565,
          29576.036533953156,
          30122.422777553787,
          30661.300425680587,
          31192.71140171145,
          31716.69762902474,
          32233.30103099835,
          32742.563531010062,
          33244.527052438236,
          33739.23351866088,
          34226.724853055784,
          34707.0429790013,
          35180.229819875385,
          35646.327299055876,
          36105.37733992108,
          36557.421865848824,
          37002.50280021742,
          37440.66206640465,
          37871.941587788635,
          38296.38328774733,
          38714.029089659045,
          39124.92091690155,
          39529.10069285304,
          39926.61034089152,
          40317.49178439495,
          40701.78694674134,
          41079.53775130893,
          41450.78612147563,
          41815.57398061955,
          42173.943252118595,
          42525.93585935095,
          42871.593725694576,
          43210.958774527535,
          43544.0729292279,
          43870.97811317368,
          44191.716249742894,
          44506.32926231361,
          44814.85907426383,
          45117.3476089717,
          45413.836789815105,
          45704.36854017223,
          45988.98478342104,
          46267.72744293959,
          46540.638442105905,
          46807.75970429805,
          47069.133152894094,
          47324.80071127199,
          47574.80430280988,
          47819.18585088564,
          48057.98727887758,
          48291.25051016355,
          48519.01746812154,
          48741.33007612976,
          48958.230257566145,
          49169.75993580872,
          49375.9610342356,
          49576.87547622481,
          49772.545185154304,
          49963.01208440226,
          50148.31809734664,
          50328.505147365504,
          50503.615157836815,
          50673.69005213876,
          50838.771753649286,
          50998.90218574641,
          51154.1232718082,
          51304.47693521273,
          51450.005099338014,
          51590.749687562115,
          51726.75262326305,
          51858.055829818826,
          51984.70123060758,
          52106.730749007256,
          52224.18630839599,
          52337.10983215168,
          52445.5432436525,
          52549.52846627642,
          52649.107423401496,
          52744.32203840581,
          52835.214234667365,
          52921.82593556424,
          53004.19906447438,
          53082.375544775976,
          53156.39729984687,
          53226.30625306524,
          53292.14432780916,
          53353.95344745653,
          53411.77553538559,
          53465.65251497412,
          53515.626309600426,
          53561.73884264234,
          53604.03203747794,
          53642.547817485465,
          53677.328106042696,
          53708.41482652782,
          53735.84990231885,
          53759.675256793795,
          53779.93281333073,
          53796.66449530766,
          53809.912226102664,
          53819.71792909381,
          53826.12352765899,
          53829.17094517645,
          53828.902105024084,
          53825.35893058003,
          53818.58334522223,
          53808.61727232882,
          53795.50263527775,
          53779.28135744715,
          53759.99536221492,
          53737.6865729593,
          53712.39691305818,
          53684.168305889645,
          53653.042674831755,
          53619.061943262524,
          53582.268034559995,
          53542.70287210221,
          53500.40837926726,
          53455.42647943308,
          53407.799095977825,
          53357.56815227948,
          53304.775571716076,
          53249.463277665665,
          53191.673193506314,
          53131.44724261601,
          53068.82734837284,
          53003.85543415477,
          52936.573423339956,
          52867.02323930635,
          52795.24680543205,
          52721.2860450951,
          52645.18288167345,
          52566.97923854523,
          52486.71703908837,
          52404.43820668111,
          52320.184664701315,
          52233.99833652712,
          52145.9211455365,
          52055.99501510756,
          51964.261868618254,
          51870.76362944671,
          51775.54222097088,
          51678.63956656895,
          51580.09758961879,
          51479.958213498554,
          51378.26336158623,
          51275.05495725988,
          51170.37492389756,
          51064.265184877266,
          50956.767663577106,
          50847.92428337503,
          50737.776967649144,
          50626.36763977748,
          50513.73822313809,
          50399.93064110898,
          50284.98681706819,
          50168.94867439379,
          50051.85813646382,
          49933.7571266563,
          49814.68756834927,
          49694.69138492076,
          49573.810499748855,
          49452.08683621159,
          49329.56231768694,
          49206.27886755305,
          49082.27840918786,
          48957.60286596944,
          48832.29416127587,
          48706.39421848519,
          48579.94496097538,
          48452.98831212454,
          48325.566195310676,
          48197.72053391184,
          48069.49325130606,
          47940.926270871394,
          47812.0615159859,
          47682.940910027595,
          47553.60637637449,
          47424.09983840468,
          47294.46321949619,
          47164.73844302702,
          47034.9674323753,
          46905.19211091896,
          46775.45440203612,
          46645.79622910477,
          46516.259515503014,
          46386.886184608826,
          46257.71815980031,
          46128.797364455444,
          46000.165721952275,
          45871.8651556689,
          45743.93758898333,
          45616.42494527361,
          45489.36914791775,
          45362.81212029379,
          45236.79578577983,
          45111.36206775386,
          44986.552889593935,
          44862.41017467811,
          44738.97584638442,
          44616.29182809085,
          44494.40004317551,
          44373.34241501642,
          44253.16086699163,
          44133.89732247917,
          44015.59370485708,
          43898.29193750337,
          43782.03394379614,
          43666.86164711336,
          43552.81697083317,
          43439.941838333514,
          43328.27817299249,
          43217.867898188124,
          43108.75293729843,
          43000.9752137015,
          42894.57665077534,
          42789.59917189799,
          42686.08470044749,
          42584.07515980191,
          42483.612473339264,
          42384.738564437575,
          42287.495356474916,
          42191.92477282933,
          42098.068736878835,
          42005.96917200151,
          41915.66800157534,
          41827.2071489784,
          41740.628537588724,
          41655.974090784366,
          41573.28573194334,
          41492.6053844437,
          41413.97497166348,
          41337.43641698075,
          41263.03164377353,
          41190.80257541983,
          41120.79113529774,
          41053.03924678528,
          40987.588833260495,
          40924.4818181014,
          40863.76012468609,
          40805.465676392545,
          40749.64039659884,
          40696.32620868302,
          40645.56503602312,
          40597.39880199716,
          40551.86942998321,
          40509.0188433593,
          40468.88896550346,
          40431.52171979373,
          40396.95902960816,
          40365.2428183248,
          40336.415009321674,
          40310.51752597683,
          40287.59229166832,
          40267.681229774156,
          40250.826263672396,
          40237.069316741094,
          40226.45231235828,
          40219.01717390197,
          40214.80582475025,
          40213.86018828112,
          40216.222187872656,
          40221.933746902854,
          40231.036788749785,
          40243.573236791504,
          40259.585014406024,
          40279.114044971386,
          40302.202251865645,
          40328.89155846683,
          40359.223888153,
          40393.241164302184,
          40430.98531029242,
          40472.49824950173,
          40517.8219053082,
          40566.99820108984,
          40620.06906022469,
          40677.076406090804,
          40738.06216206622,
          40803.06825152896,
          40872.13659785709,
          40945.30912442864,
          41022.62775462166,
          41104.134411814164,
          41189.87101938422,
          41279.87950070985,
          41374.20177916912,
          41472.879778140035,
          41575.95542100066,
          41683.470631129036,
          41795.46733190319,
          41911.987446701176,
          42033.07289890104,
          42158.765611880786,
          42289.10750901851,
          42424.1405136922,
          42563.906549279935,
          42708.44753915974,
          42857.805406709645,
          43012.022075307716,
          43171.13946833196,
          43335.19950916046,
          43504.244121171214,
          43678.31522774231,
          43857.454752251746,
          44041.704618077565,
          44231.106748597835,
          44425.70306719059,
          44625.53549723385,
          44830.64596210568,
          45041.07638518409,
          45256.86868984715,
          45478.064799472886,
          45704.706637439354,
          45936.83612712459,
          46174.495191906615,
          46417.72575516348,
          46666.56974027323,
          46921.069070613914,
          47181.265669563574,
          47447.20146050022,
          47718.918366801925,
          47996.45831184671,
          48279.863219012615,
          48569.1750116777,
          48864.43561322,
          49165.686947017544,
          49472.97093644838,
          49786.32950489056,
          50105.80457572208,
          50431.438072321034,
          50763.27191806544,
          51101.34803633334,
          51445.708350502784,
          51796.39478395178,
          52153.44926005841,
          52516.91370220068,
          52886.830033756676,
          53263.24017810439,
          53646.18605862188,
          54035.7095986872,
          54431.85272167838,
          54834.65735097345,
          55244.165409950474,
          55660.41882198747,
          56083.459510462504,
          56513.32939875358,
          56950.070410238775,
          57393.72446829612,
          57844.33349630363,
          58301.93941763939,
          58766.5841556814,
          59238.30963380773,
          59717.157775396394,
          60203.17050382546,
          60696.38974247294,
          61196.8574147169,
          61704.61544393538,
          62219.705753506394,
          62742.17026680801,
          63272.05090721826,
          63809.38959811518,
          64354.22826287681,
          64906.6088248812,
          65466.57320750638,
          66034.16333413041,
          66609.4211281313,
          67192.38851288712
         ]
        },
        {
         "name": "n=4",
         "type": "scatter",
         "x": [
          "2022-03-13",
          "2022-03-12",
          "2022-03-11",
          "2022-03-10",
          "2022-03-09",
          "2022-03-08",
          "2022-03-07",
          "2022-03-06",
          "2022-03-05",
          "2022-03-04",
          "2022-03-03",
          "2022-03-02",
          "2022-03-01",
          "2022-02-28",
          "2022-02-27",
          "2022-02-26",
          "2022-02-25",
          "2022-02-24",
          "2022-02-23",
          "2022-02-22",
          "2022-02-21",
          "2022-02-20",
          "2022-02-19",
          "2022-02-18",
          "2022-02-17",
          "2022-02-16",
          "2022-02-15",
          "2022-02-14",
          "2022-02-13",
          "2022-02-12",
          "2022-02-11",
          "2022-02-10",
          "2022-02-09",
          "2022-02-08",
          "2022-02-07",
          "2022-02-06",
          "2022-02-05",
          "2022-02-04",
          "2022-02-03",
          "2022-02-02",
          "2022-02-01",
          "2022-01-31",
          "2022-01-30",
          "2022-01-29",
          "2022-01-28",
          "2022-01-27",
          "2022-01-26",
          "2022-01-25",
          "2022-01-24",
          "2022-01-23",
          "2022-01-22",
          "2022-01-21",
          "2022-01-20",
          "2022-01-19",
          "2022-01-18",
          "2022-01-17",
          "2022-01-16",
          "2022-01-15",
          "2022-01-14",
          "2022-01-13",
          "2022-01-12",
          "2022-01-11",
          "2022-01-10",
          "2022-01-09",
          "2022-01-08",
          "2022-01-07",
          "2022-01-06",
          "2022-01-05",
          "2022-01-04",
          "2022-01-03",
          "2022-01-02",
          "2022-01-01",
          "2021-12-31",
          "2021-12-30",
          "2021-12-29",
          "2021-12-28",
          "2021-12-27",
          "2021-12-26",
          "2021-12-25",
          "2021-12-24",
          "2021-12-23",
          "2021-12-22",
          "2021-12-21",
          "2021-12-20",
          "2021-12-19",
          "2021-12-18",
          "2021-12-17",
          "2021-12-16",
          "2021-12-15",
          "2021-12-14",
          "2021-12-13",
          "2021-12-12",
          "2021-12-11",
          "2021-12-10",
          "2021-12-09",
          "2021-12-08",
          "2021-12-07",
          "2021-12-06",
          "2021-12-05",
          "2021-12-04",
          "2021-12-03",
          "2021-12-02",
          "2021-12-01",
          "2021-11-30",
          "2021-11-29",
          "2021-11-28",
          "2021-11-27",
          "2021-11-26",
          "2021-11-25",
          "2021-11-24",
          "2021-11-23",
          "2021-11-22",
          "2021-11-21",
          "2021-11-20",
          "2021-11-19",
          "2021-11-18",
          "2021-11-17",
          "2021-11-16",
          "2021-11-15",
          "2021-11-14",
          "2021-11-13",
          "2021-11-12",
          "2021-11-11",
          "2021-11-10",
          "2021-11-09",
          "2021-11-08",
          "2021-11-07",
          "2021-11-06",
          "2021-11-05",
          "2021-11-04",
          "2021-11-03",
          "2021-11-02",
          "2021-11-01",
          "2021-10-31",
          "2021-10-30",
          "2021-10-29",
          "2021-10-28",
          "2021-10-27",
          "2021-10-26",
          "2021-10-25",
          "2021-10-24",
          "2021-10-23",
          "2021-10-22",
          "2021-10-21",
          "2021-10-20",
          "2021-10-19",
          "2021-10-18",
          "2021-10-17",
          "2021-10-16",
          "2021-10-15",
          "2021-10-14",
          "2021-10-13",
          "2021-10-12",
          "2021-10-11",
          "2021-10-10",
          "2021-10-09",
          "2021-10-08",
          "2021-10-07",
          "2021-10-06",
          "2021-10-05",
          "2021-10-04",
          "2021-10-03",
          "2021-10-02",
          "2021-10-01",
          "2021-09-30",
          "2021-09-29",
          "2021-09-28",
          "2021-09-27",
          "2021-09-26",
          "2021-09-25",
          "2021-09-24",
          "2021-09-23",
          "2021-09-22",
          "2021-09-21",
          "2021-09-20",
          "2021-09-19",
          "2021-09-18",
          "2021-09-17",
          "2021-09-16",
          "2021-09-15",
          "2021-09-14",
          "2021-09-13",
          "2021-09-12",
          "2021-09-11",
          "2021-09-10",
          "2021-09-09",
          "2021-09-08",
          "2021-09-07",
          "2021-09-06",
          "2021-09-05",
          "2021-09-04",
          "2021-09-03",
          "2021-09-02",
          "2021-09-01",
          "2021-08-31",
          "2021-08-30",
          "2021-08-29",
          "2021-08-28",
          "2021-08-27",
          "2021-08-26",
          "2021-08-25",
          "2021-08-24",
          "2021-08-23",
          "2021-08-22",
          "2021-08-21",
          "2021-08-20",
          "2021-08-19",
          "2021-08-18",
          "2021-08-17",
          "2021-08-16",
          "2021-08-15",
          "2021-08-14",
          "2021-08-13",
          "2021-08-12",
          "2021-08-11",
          "2021-08-10",
          "2021-08-09",
          "2021-08-08",
          "2021-08-07",
          "2021-08-06",
          "2021-08-05",
          "2021-08-04",
          "2021-08-03",
          "2021-08-02",
          "2021-08-01",
          "2021-07-31",
          "2021-07-30",
          "2021-07-29",
          "2021-07-28",
          "2021-07-27",
          "2021-07-26",
          "2021-07-25",
          "2021-07-24",
          "2021-07-23",
          "2021-07-22",
          "2021-07-21",
          "2021-07-20",
          "2021-07-19",
          "2021-07-18",
          "2021-07-17",
          "2021-07-16",
          "2021-07-15",
          "2021-07-14",
          "2021-07-13",
          "2021-07-12",
          "2021-07-11",
          "2021-07-10",
          "2021-07-09",
          "2021-07-08",
          "2021-07-07",
          "2021-07-06",
          "2021-07-05",
          "2021-07-04",
          "2021-07-03",
          "2021-07-02",
          "2021-07-01",
          "2021-06-30",
          "2021-06-29",
          "2021-06-28",
          "2021-06-27",
          "2021-06-26",
          "2021-06-25",
          "2021-06-24",
          "2021-06-23",
          "2021-06-22",
          "2021-06-21",
          "2021-06-20",
          "2021-06-19",
          "2021-06-18",
          "2021-06-17",
          "2021-06-16",
          "2021-06-15",
          "2021-06-14",
          "2021-06-13",
          "2021-06-12",
          "2021-06-11",
          "2021-06-10",
          "2021-06-09",
          "2021-06-08",
          "2021-06-07",
          "2021-06-06",
          "2021-06-05",
          "2021-06-04",
          "2021-06-03",
          "2021-06-02",
          "2021-06-01",
          "2021-05-31",
          "2021-05-30",
          "2021-05-29",
          "2021-05-28",
          "2021-05-27",
          "2021-05-26",
          "2021-05-25",
          "2021-05-24",
          "2021-05-23",
          "2021-05-22",
          "2021-05-21",
          "2021-05-20",
          "2021-05-19",
          "2021-05-18",
          "2021-05-17",
          "2021-05-16",
          "2021-05-15",
          "2021-05-14",
          "2021-05-13",
          "2021-05-12",
          "2021-05-11",
          "2021-05-10",
          "2021-05-09",
          "2021-05-08",
          "2021-05-07",
          "2021-05-06",
          "2021-05-05",
          "2021-05-04",
          "2021-05-03",
          "2021-05-02",
          "2021-05-01",
          "2021-04-30",
          "2021-04-29",
          "2021-04-28",
          "2021-04-27",
          "2021-04-26",
          "2021-04-25",
          "2021-04-24",
          "2021-04-23",
          "2021-04-22",
          "2021-04-21",
          "2021-04-20",
          "2021-04-19",
          "2021-04-18",
          "2021-04-17",
          "2021-04-16",
          "2021-04-15",
          "2021-04-14",
          "2021-04-13",
          "2021-04-12",
          "2021-04-11",
          "2021-04-10",
          "2021-04-09",
          "2021-04-08",
          "2021-04-07",
          "2021-04-06",
          "2021-04-05",
          "2021-04-04",
          "2021-04-03",
          "2021-04-02",
          "2021-04-01",
          "2021-03-31",
          "2021-03-30",
          "2021-03-29",
          "2021-03-28",
          "2021-03-27",
          "2021-03-26",
          "2021-03-25",
          "2021-03-24",
          "2021-03-23",
          "2021-03-22",
          "2021-03-21",
          "2021-03-20",
          "2021-03-19",
          "2021-03-18",
          "2021-03-17",
          "2021-03-16",
          "2021-03-15",
          "2021-03-14",
          "2021-03-13",
          "2021-03-12",
          "2021-03-11"
         ],
         "y": [
          32108.47316050314,
          32471.206583513558,
          32831.23598515452,
          33188.540788446495,
          33543.10075981796,
          33894.896009105985,
          34243.9069895561,
          34590.11449782294,
          34933.499673968734,
          35274.04400146546,
          35611.72930719261,
          35946.53776143893,
          36278.45187790156,
          36607.45451368569,
          36933.528869305825,
          37256.65848868442,
          37576.827259153215,
          37894.01941145153,
          38208.21951972818,
          38519.412501540006,
          38827.58361785242,
          39132.71847303977,
          39434.80301488447,
          39733.823534578,
          40029.76666671978,
          40322.619389318366,
          40612.36902379073,
          40899.00323496212,
          41182.51003106678,
          41462.87776374709,
          41740.095128054236,
          42014.151162448165,
          42285.03524879669,
          42552.73711237704,
          42817.246821874374,
          43078.55478938273,
          43336.65177040451,
          43591.52886385092,
          43843.17751204144,
          44091.58950070443,
          44336.75695897659,
          44578.67235940305,
          44817.32851793786,
          45052.7185939434,
          45284.83609019048,
          45513.67485285897,
          45739.229071536916,
          45961.4932792208,
          46180.46235231607,
          46396.131510636245,
          46608.49631740403,
          46817.55267924999,
          47023.29684621375,
          47225.72541174354,
          47424.83531269556,
          47620.62382933538,
          47813.08858533643,
          48002.22754778102,
          48188.03902716012,
          48370.521677373006,
          48549.67449572774,
          48725.4968229408,
          48897.9883431373,
          49067.14908385073,
          49232.97941602336,
          49395.480054006126,
          49554.65205555818,
          49710.49682184738,
          49863.016097450425,
          50012.21197035184,
          50158.08687194571,
          50300.64357703386,
          50439.88520382707,
          50575.815213944516,
          50708.43741241419,
          50837.755947672296,
          50963.77531156383,
          51086.50033934211,
          51205.9362096695,
          51322.088444616296,
          51434.962909661874,
          51544.56581369392,
          51650.90370900878,
          51753.98349131126,
          51853.812399714836,
          51950.398016741194,
          52043.748268321186,
          52133.87142379384,
          52220.77609590677,
          52304.47124081626,
          52384.96615808703,
          52462.270490692375,
          52536.39422501426,
          52607.34769084332,
          52675.14156137817,
          52739.78685322672,
          52801.29492640501,
          52859.677484337735,
          52914.94657385809,
          52967.11458520821,
          53016.194252038054,
          53062.19865140677,
          53105.141203781925,
          53145.03567303959,
          53181.89616646427,
          53215.73713474913,
          53246.573371996026,
          53274.420015715325,
          53299.29254682574,
          53321.206789654876,
          53340.17891193851,
          53356.22542482142,
          53369.36318285656,
          53379.60938400561,
          53386.98156963892,
          53391.497624535245,
          53393.17577688181,
          53392.03459827473,
          53388.09300371837,
          53381.37025162571,
          53371.88594381848,
          53359.66002552678,
          53344.712785389325,
          53327.06485545342,
          53306.73721117491,
          53283.75117141813,
          53258.12839845612,
          53229.89089797035,
          53199.06101905096,
          53165.661454196495,
          53129.715239314275,
          53091.24575372002,
          53050.27672013805,
          53006.83220470126,
          52960.93661695112,
          52912.614709837566,
          52861.891579719246,
          52808.79266636323,
          52753.34375294522,
          52695.57096604952,
          52635.5007756689,
          52573.15999520473,
          52508.575781467014,
          52441.77563467407,
          52372.78739845308,
          52301.63925983966,
          52228.359749277945,
          52152.97774062078,
          52075.52245112924,
          51996.02344147342,
          51914.510615731684,
          51831.01422139085,
          51745.56484934657,
          51658.19343390301,
          51568.931252772716,
          51477.80992707699,
          51384.861421345544,
          51290.1180435168,
          51193.61244493765,
          51095.37762036346,
          50995.44690795832,
          50893.8539892948,
          50790.63288935414,
          50685.81797652592,
          50579.44396260847,
          50471.54590280857,
          50362.159195741726,
          50251.319583431716,
          50139.06315131119,
          50025.42632822115,
          49910.445886411224,
          49794.15894153957,
          49676.602952673056,
          49557.81572228695,
          49437.83539626511,
          49316.700463899935,
          49194.44975789243,
          49071.122454352255,
          48946.75807279738,
          48821.39647615452,
          48695.077870759,
          48567.84280635455,
          48439.732176093516,
          48310.787216536846,
          48181.04950765397,
          48050.56097282301,
          47919.36387883051,
          47787.500835871644,
          47655.01479755016,
          47521.9490608783,
          47388.347266276956,
          47254.25339757548,
          47119.71178201186,
          46984.767090232606,
          46849.46433629284,
          46713.848877656186,
          46577.96641519486,
          46441.86299318963,
          46305.58499932983,
          46169.17916471334,
          46032.692563846605,
          45896.172614644616,
          45759.667078431004,
          45623.22405993788,
          45486.89200730589,
          45350.71971208438,
          45214.75630923104,
          45079.05127711238,
          44943.654437503195,
          44808.61595558708,
          44673.986339956085,
          44539.81644261081,
          44406.15745896041,
          44273.06092782269,
          44140.57873142386,
          44008.763095398856,
          43877.666588791035,
          43747.34212405242,
          43617.842957043555,
          43489.22268703353,
          43361.53525669999,
          43234.8349521292,
          43109.176402815916,
          42984.6145816635,
          42861.20480498382,
          42739.00273249743,
          42618.06436733323,
          42498.446056028915,
          42380.20448853058,
          42263.39669819297,
          42148.0800617793,
          42034.31229946146,
          41922.151474819795,
          41811.6559948433,
          41702.88460992944,
          41595.896413884315,
          41490.750843922586,
          41387.50768066733,
          41286.22704815047,
          41186.96941381223,
          41089.79558850145,
          40994.76672647566,
          40901.944325400815,
          40811.39022635145,
          40723.16661381069,
          40637.336015670226,
          40553.96130323033,
          40473.10569119976,
          40394.83273769588,
          40319.206344244594,
          40246.29075578044,
          40176.15056064643,
          40108.85069059418,
          40044.45642078381,
          39983.03336978411,
          39924.647499572355,
          39869.36511553431,
          39817.25286646448,
          39768.3777445658,
          39722.80708544982,
          39680.60856813657,
          39641.85021505472,
          39606.60039204154,
          39574.92780834276,
          39546.901516612656,
          39522.5909129142,
          39502.06573671882,
          39485.396070906536,
          39472.65234176588,
          39463.90531899406,
          39459.22611569671,
          39458.6861883881,
          39462.35733699108,
          39470.31170483696,
          39482.62177866577,
          39499.360388625944,
          39520.600708274535,
          39546.41625457719,
          39576.880887908104,
          39612.06881204999,
          39652.05457419414,
          39696.91306494044,
          39746.71951829734,
          39801.54951168177,
          39861.4789659193,
          39926.58414524402,
          39996.94165729862,
          40072.628453134326,
          40153.72182721088,
          40240.299417396694,
          40332.43920496864,
          40430.21951461219,
          40533.71901442138,
          40643.016715898804,
          40758.191973955596,
          40879.32448691147,
          41006.49429649472,
          41139.78178784216,
          41279.26768949918,
          41425.03307341975,
          41577.159354966396,
          41735.72829291016,
          41900.821989430704,
          42072.52289011621,
          42250.913783963435,
          42436.0778033777,
          42628.0984241729,
          42827.059465571445,
          43033.04509020436,
          43246.13980411119,
          43466.42845674008,
          43693.99624094768,
          43928.928692999245,
          44171.31169256859,
          44421.23146273807,
          44678.77456999861,
          44944.0279242497,
          45217.07877879938,
          45498.014730364244,
          45786.92371906948,
          46083.8940284488,
          46389.014285444515,
          46702.373460407456,
          47024.06086709703,
          47354.16616268123,
          47692.77934773655,
          48039.99076624811,
          48395.89110560957,
          48760.57139662313,
          49134.123013499535,
          49516.637673858175,
          49908.2074387269,
          50308.92471254218,
          50718.88224314904,
          51138.173121801054,
          51566.89078316033,
          52005.12900529761,
          52452.98190969216,
          52910.543961231735,
          53377.90996821278,
          53855.1750823402,
          54342.4347987275,
          54839.78495589675,
          55347.32173577857,
          55865.14166371215,
          56393.34160844523,
          56932.01878213411,
          57481.27074034367,
          58041.1953820473,
          58611.89094962703,
          59193.45602887338,
          59785.98954898546,
          60389.590782570966,
          61004.35934564607,
          61630.39519763563,
          62267.79864137295,
          62916.67032309996,
          63577.11123246711,
          64249.22270253348,
          64933.10640976661,
          65628.86437404268,
          66336.59895864638,
          67056.41287027104,
          67788.40915901844,
          68532.691218399,
          69289.36278533167,
          70058.52794014398,
          70840.291106572
         ]
        },
        {
         "name": "n=5",
         "type": "scatter",
         "x": [
          "2022-03-13",
          "2022-03-12",
          "2022-03-11",
          "2022-03-10",
          "2022-03-09",
          "2022-03-08",
          "2022-03-07",
          "2022-03-06",
          "2022-03-05",
          "2022-03-04",
          "2022-03-03",
          "2022-03-02",
          "2022-03-01",
          "2022-02-28",
          "2022-02-27",
          "2022-02-26",
          "2022-02-25",
          "2022-02-24",
          "2022-02-23",
          "2022-02-22",
          "2022-02-21",
          "2022-02-20",
          "2022-02-19",
          "2022-02-18",
          "2022-02-17",
          "2022-02-16",
          "2022-02-15",
          "2022-02-14",
          "2022-02-13",
          "2022-02-12",
          "2022-02-11",
          "2022-02-10",
          "2022-02-09",
          "2022-02-08",
          "2022-02-07",
          "2022-02-06",
          "2022-02-05",
          "2022-02-04",
          "2022-02-03",
          "2022-02-02",
          "2022-02-01",
          "2022-01-31",
          "2022-01-30",
          "2022-01-29",
          "2022-01-28",
          "2022-01-27",
          "2022-01-26",
          "2022-01-25",
          "2022-01-24",
          "2022-01-23",
          "2022-01-22",
          "2022-01-21",
          "2022-01-20",
          "2022-01-19",
          "2022-01-18",
          "2022-01-17",
          "2022-01-16",
          "2022-01-15",
          "2022-01-14",
          "2022-01-13",
          "2022-01-12",
          "2022-01-11",
          "2022-01-10",
          "2022-01-09",
          "2022-01-08",
          "2022-01-07",
          "2022-01-06",
          "2022-01-05",
          "2022-01-04",
          "2022-01-03",
          "2022-01-02",
          "2022-01-01",
          "2021-12-31",
          "2021-12-30",
          "2021-12-29",
          "2021-12-28",
          "2021-12-27",
          "2021-12-26",
          "2021-12-25",
          "2021-12-24",
          "2021-12-23",
          "2021-12-22",
          "2021-12-21",
          "2021-12-20",
          "2021-12-19",
          "2021-12-18",
          "2021-12-17",
          "2021-12-16",
          "2021-12-15",
          "2021-12-14",
          "2021-12-13",
          "2021-12-12",
          "2021-12-11",
          "2021-12-10",
          "2021-12-09",
          "2021-12-08",
          "2021-12-07",
          "2021-12-06",
          "2021-12-05",
          "2021-12-04",
          "2021-12-03",
          "2021-12-02",
          "2021-12-01",
          "2021-11-30",
          "2021-11-29",
          "2021-11-28",
          "2021-11-27",
          "2021-11-26",
          "2021-11-25",
          "2021-11-24",
          "2021-11-23",
          "2021-11-22",
          "2021-11-21",
          "2021-11-20",
          "2021-11-19",
          "2021-11-18",
          "2021-11-17",
          "2021-11-16",
          "2021-11-15",
          "2021-11-14",
          "2021-11-13",
          "2021-11-12",
          "2021-11-11",
          "2021-11-10",
          "2021-11-09",
          "2021-11-08",
          "2021-11-07",
          "2021-11-06",
          "2021-11-05",
          "2021-11-04",
          "2021-11-03",
          "2021-11-02",
          "2021-11-01",
          "2021-10-31",
          "2021-10-30",
          "2021-10-29",
          "2021-10-28",
          "2021-10-27",
          "2021-10-26",
          "2021-10-25",
          "2021-10-24",
          "2021-10-23",
          "2021-10-22",
          "2021-10-21",
          "2021-10-20",
          "2021-10-19",
          "2021-10-18",
          "2021-10-17",
          "2021-10-16",
          "2021-10-15",
          "2021-10-14",
          "2021-10-13",
          "2021-10-12",
          "2021-10-11",
          "2021-10-10",
          "2021-10-09",
          "2021-10-08",
          "2021-10-07",
          "2021-10-06",
          "2021-10-05",
          "2021-10-04",
          "2021-10-03",
          "2021-10-02",
          "2021-10-01",
          "2021-09-30",
          "2021-09-29",
          "2021-09-28",
          "2021-09-27",
          "2021-09-26",
          "2021-09-25",
          "2021-09-24",
          "2021-09-23",
          "2021-09-22",
          "2021-09-21",
          "2021-09-20",
          "2021-09-19",
          "2021-09-18",
          "2021-09-17",
          "2021-09-16",
          "2021-09-15",
          "2021-09-14",
          "2021-09-13",
          "2021-09-12",
          "2021-09-11",
          "2021-09-10",
          "2021-09-09",
          "2021-09-08",
          "2021-09-07",
          "2021-09-06",
          "2021-09-05",
          "2021-09-04",
          "2021-09-03",
          "2021-09-02",
          "2021-09-01",
          "2021-08-31",
          "2021-08-30",
          "2021-08-29",
          "2021-08-28",
          "2021-08-27",
          "2021-08-26",
          "2021-08-25",
          "2021-08-24",
          "2021-08-23",
          "2021-08-22",
          "2021-08-21",
          "2021-08-20",
          "2021-08-19",
          "2021-08-18",
          "2021-08-17",
          "2021-08-16",
          "2021-08-15",
          "2021-08-14",
          "2021-08-13",
          "2021-08-12",
          "2021-08-11",
          "2021-08-10",
          "2021-08-09",
          "2021-08-08",
          "2021-08-07",
          "2021-08-06",
          "2021-08-05",
          "2021-08-04",
          "2021-08-03",
          "2021-08-02",
          "2021-08-01",
          "2021-07-31",
          "2021-07-30",
          "2021-07-29",
          "2021-07-28",
          "2021-07-27",
          "2021-07-26",
          "2021-07-25",
          "2021-07-24",
          "2021-07-23",
          "2021-07-22",
          "2021-07-21",
          "2021-07-20",
          "2021-07-19",
          "2021-07-18",
          "2021-07-17",
          "2021-07-16",
          "2021-07-15",
          "2021-07-14",
          "2021-07-13",
          "2021-07-12",
          "2021-07-11",
          "2021-07-10",
          "2021-07-09",
          "2021-07-08",
          "2021-07-07",
          "2021-07-06",
          "2021-07-05",
          "2021-07-04",
          "2021-07-03",
          "2021-07-02",
          "2021-07-01",
          "2021-06-30",
          "2021-06-29",
          "2021-06-28",
          "2021-06-27",
          "2021-06-26",
          "2021-06-25",
          "2021-06-24",
          "2021-06-23",
          "2021-06-22",
          "2021-06-21",
          "2021-06-20",
          "2021-06-19",
          "2021-06-18",
          "2021-06-17",
          "2021-06-16",
          "2021-06-15",
          "2021-06-14",
          "2021-06-13",
          "2021-06-12",
          "2021-06-11",
          "2021-06-10",
          "2021-06-09",
          "2021-06-08",
          "2021-06-07",
          "2021-06-06",
          "2021-06-05",
          "2021-06-04",
          "2021-06-03",
          "2021-06-02",
          "2021-06-01",
          "2021-05-31",
          "2021-05-30",
          "2021-05-29",
          "2021-05-28",
          "2021-05-27",
          "2021-05-26",
          "2021-05-25",
          "2021-05-24",
          "2021-05-23",
          "2021-05-22",
          "2021-05-21",
          "2021-05-20",
          "2021-05-19",
          "2021-05-18",
          "2021-05-17",
          "2021-05-16",
          "2021-05-15",
          "2021-05-14",
          "2021-05-13",
          "2021-05-12",
          "2021-05-11",
          "2021-05-10",
          "2021-05-09",
          "2021-05-08",
          "2021-05-07",
          "2021-05-06",
          "2021-05-05",
          "2021-05-04",
          "2021-05-03",
          "2021-05-02",
          "2021-05-01",
          "2021-04-30",
          "2021-04-29",
          "2021-04-28",
          "2021-04-27",
          "2021-04-26",
          "2021-04-25",
          "2021-04-24",
          "2021-04-23",
          "2021-04-22",
          "2021-04-21",
          "2021-04-20",
          "2021-04-19",
          "2021-04-18",
          "2021-04-17",
          "2021-04-16",
          "2021-04-15",
          "2021-04-14",
          "2021-04-13",
          "2021-04-12",
          "2021-04-11",
          "2021-04-10",
          "2021-04-09",
          "2021-04-08",
          "2021-04-07",
          "2021-04-06",
          "2021-04-05",
          "2021-04-04",
          "2021-04-03",
          "2021-04-02",
          "2021-04-01",
          "2021-03-31",
          "2021-03-30",
          "2021-03-29",
          "2021-03-28",
          "2021-03-27",
          "2021-03-26",
          "2021-03-25",
          "2021-03-24",
          "2021-03-23",
          "2021-03-22",
          "2021-03-21",
          "2021-03-20",
          "2021-03-19",
          "2021-03-18",
          "2021-03-17",
          "2021-03-16",
          "2021-03-15",
          "2021-03-14",
          "2021-03-13",
          "2021-03-12",
          "2021-03-11"
         ],
         "y": [
          47063.575258966535,
          46203.820772019215,
          45388.1240963256,
          44615.43973802589,
          43884.735217343085,
          43194.99099877477,
          42545.20042128302,
          41934.36962848157,
          41361.51749882288,
          40825.67557578813,
          40325.887998082675,
          39861.211429812945,
          39430.714990686625,
          39033.48018619791,
          38668.600837817416,
          38335.18301317468,
          38032.34495626204,
          37759.21701760311,
          37514.94158446416,
          37298.673011025414,
          37109.57754858211,
          36946.83327572234,
          36809.63002853189,
          36697.16933076363,
          36608.66432404332,
          36543.3396980511,
          36500.43162071146,
          36479.187668384984,
          36478.86675605178,
          36498.73906750325,
          36538.08598553948,
          36596.20002214238,
          36672.38474867726,
          36765.95472607901,
          36876.23543503741,
          37002.56320619071,
          37144.28515031375,
          37300.75908850273,
          37471.35348237492,
          37655.44736424554,
          37852.430267320015,
          38061.70215589274,
          38282.6733555235,
          38514.76448323298,
          38757.40637768945,
          39010.040029401425,
          39272.11651090346,
          39543.0969069479,
          39822.45224468643,
          40109.663423873484,
          40404.22114704177,
          40705.62584969867,
          41013.38763051201,
          41327.02618150134,
          41646.07071822509,
          41970.05990997329,
          42298.541809950955,
          42631.07378547313,
          42967.222448149696,
          43306.563584076706,
          43648.68208402628,
          43993.171873630956,
          44339.63584358012,
          44687.68577980017,
          45036.94229365559,
          45387.03475212492,
          45737.60120799765,
          46088.288330064155,
          46438.75133329956,
          46788.653909057844,
          47137.668155257124,
          47485.47450657096,
          47831.76166461874,
          48176.22652815003,
          48518.57412323868,
          48858.517533469014,
          49195.777830126695,
          49530.084002384916,
          49861.172887499444,
          50188.78910099156,
          50512.68496683892,
          50832.62044766545,
          51148.36307493225,
          51459.68787912186,
          51766.377319932915,
          52068.22121646535,
          52365.01667741127,
          52656.568031241186,
          52942.68675639853,
          53223.19141148543,
          53497.90756544983,
          53766.66772778006,
          54029.311278688256,
          54285.68439930258,
          54535.64000185719,
          54779.03765987791,
          55015.74353837455,
          55245.63032402913,
          55468.57715538354,
          55684.46955303033,
          55893.19934980245,
          56094.6646209599,
          56288.769614380086,
          56475.42468074709,
          56654.546203741804,
          56826.05653022905,
          56989.88390044798,
          57145.96237820038,
          57294.231781040784,
          57434.63761046389,
          57567.130982096074,
          57691.66855588346,
          57808.212466279045,
          57916.7302524352,
          58017.19478839077,
          58109.58421325986,
          58193.88186142268,
          58270.07619271288,
          58338.16072260868,
          58398.13395241927,
          58449.999299475225,
          58493.76502731978,
          58529.444175893674,
          58557.05449172878,
          58576.618358132895,
          58588.16272538225,
          58591.719040908385,
          58587.32317948947,
          58575.015373436734,
          58554.84014278604,
          58526.84622548544,
          58491.0865075849,
          58447.61795342597,
          58396.50153582846,
          58337.80216628406,
          58271.588625139324,
          58197.93349179183,
          58116.913074873155,
          58028.607342440635,
          57933.099852168,
          57830.47768153087,
          57720.83135799912,
          57604.25478922506,
          57480.845193229616,
          57350.70302859775,
          57213.93192466092,
          57070.63861169049,
          56920.93285108451,
          56764.92736555915,
          56602.73776933551,
          56434.482498329715,
          56260.282740342314,
          56080.26236524666,
          55894.547855179175,
          55703.26823472674,
          55506.555001117755,
          55304.542054409976,
          55097.36562767939,
          54885.16421721096,
          54668.07851268526,
          54446.25132737076,
          54219.82752830966,
          53988.953966509085,
          53753.77940712997,
          53514.45445967547,
          53271.13150818064,
          53023.96464140108,
          52773.10958300228,
          52518.72362174932,
          52260.965541695245,
          51999.995552369975,
          51735.975218970445,
          51469.06739254866,
          51199.43614020152,
          50927.246675259084,
          50652.66528747522,
          50375.85927321494,
          50096.99686564505,
          49816.24716492172,
          49533.780068381224,
          49249.76620072778,
          48964.37684422347,
          48677.78386887687,
          48390.15966263233,
          48101.6770615587,
          47812.50928003981,
          47522.82984096161,
          47232.8125059029,
          46942.63120532362,
          46652.45996875415,
          46362.472854984284,
          46072.84388225316,
          45783.746958436735,
          45495.355811238755,
          45207.84391837864,
          44921.38443778071,
          44636.15013776411,
          44352.31332723086,
          44070.04578585585,
          43789.51869427529,
          43510.9025642763,
          43234.367168985715,
          42960.081473059196,
          42688.213562870864,
          42418.93057670194,
          42152.39863492956,
          41888.782770216465,
          41628.24685770011,
          41370.95354518149,
          41117.064183314156,
          40866.73875579366,
          40620.135809546744,
          40377.412384919764,
          40138.72394586878,
          39904.22431014804,
          39674.06557949894,
          39448.398069839925,
          39227.37024145448,
          39011.12862918162,
          38799.81777260371,
          38593.5801462362,
          38392.556089716934,
          38196.88373799471,
          38006.6989515188,
          37822.13524642805,
          37643.32372473963,
          37470.393004538695,
          37303.469150167075,
          37142.67560241243,
          36988.133108697686,
          36839.95965326976,
          36698.27038738897,
          36563.177559517906,
          36434.79044551068,
          36313.21527880209,
          36198.555180596624,
          36090.910090057645,
          35990.37669449637,
          35897.048359561115,
          35811.01505942663,
          35732.36330698266,
          35661.17608402349,
          35597.53277143698,
          35541.50907939351,
          35493.17697753542,
          35452.60462516578,
          35419.85630143764,
          35394.99233554315,
          35378.06903690289,
          35369.138625354506,
          35368.249161342304,
          35375.44447610591,
          35390.76410186995,
          35414.24320203248,
          35445.91250135485,
          35485.798216150084,
          35533.92198447259,
          35590.30079630694,
          35654.94692375699,
          35727.86785123519,
          35809.066205651594,
          35898.53968660286,
          35996.28099656155,
          36102.2777710652,
          36216.51250890532,
          36338.96250231656,
          36469.599767166,
          36608.39097314199,
          36755.297373943424,
          36910.27473746883,
          37073.2732760055,
          37244.23757641853,
          37423.10653034004,
          37609.8132643582,
          37804.28507020639,
          38006.44333495228,
          38216.20347118703,
          38433.47484721433,
          38658.16071723943,
          38890.158151558484,
          39129.35796674743,
          39375.64465585131,
          39628.896318573185,
          39888.984591463435,
          40155.774578108656,
          40429.12477932105,
          40708.887023327305,
          40994.90639595782,
          41287.02117083581,
          41585.06273956641,
          41888.85554192575,
          42198.216996050134,
          42512.95742862516,
          42832.88000507472,
          43157.780659750264,
          43487.44802611983,
          43821.6633669572,
          44160.20050453092,
          44502.82575079356,
          44849.29783757073,
          45199.36784675018,
          45552.77914047103,
          45909.26729131273,
          46268.56001248429,
          46630.37708801335,
          46994.430302935325,
          47360.423373482445,
          47728.05187727296,
          48097.003183500216,
          48466.95638312174,
          48837.5822190484,
          49208.54301633351,
          49579.49261236192,
          49950.07628703916,
          50319.930692980546,
          50688.68378570026,
          51055.95475380054,
          51421.35394916073,
          51784.48281712639,
          52144.933826698485,
          52502.2904007224,
          52856.126846077146,
          53206.0082838644,
          53551.49057959767,
          53892.120273391374,
          54227.43451015002,
          54556.96096975721,
          54880.21779726486,
          55196.713533082235,
          55505.94704316516,
          55807.40744920501,
          56100.57405881795,
          56384.91629573393,
          56659.89362998589,
          56924.95550809886,
          57179.54128327902,
          57423.08014560288,
          57654.99105220636,
          57874.68265747392,
          58081.55324322764,
          58274.990648916384,
          58454.372201804894,
          58619.06464716287,
          58768.424078454176,
          58901.79586752582,
          59018.51459479722,
          59117.903979449184,
          59199.27680961311,
          59261.934872560065,
          59305.16888488991,
          59328.25842272041,
          59330.47185187636,
          59311.066258078696,
          59269.287377133565,
          59204.36952512153,
          59115.53552858661,
          59001.99665472541,
          58862.95254157624,
          58697.591128208274,
          58505.08858491057,
          58284.60924338126,
          58035.30552691667,
          57756.31788060036,
          57446.77470149233,
          57105.79226881805,
          56732.47467415764,
          56325.91375163495,
          55885.189008106696
         ]
        },
        {
         "name": "precio Bitcoin",
         "type": "scatter",
         "x": [
          "2022-03-13",
          "2022-03-12",
          "2022-03-11",
          "2022-03-10",
          "2022-03-09",
          "2022-03-08",
          "2022-03-07",
          "2022-03-06",
          "2022-03-05",
          "2022-03-04",
          "2022-03-03",
          "2022-03-02",
          "2022-03-01",
          "2022-02-28",
          "2022-02-27",
          "2022-02-26",
          "2022-02-25",
          "2022-02-24",
          "2022-02-23",
          "2022-02-22",
          "2022-02-21",
          "2022-02-20",
          "2022-02-19",
          "2022-02-18",
          "2022-02-17",
          "2022-02-16",
          "2022-02-15",
          "2022-02-14",
          "2022-02-13",
          "2022-02-12",
          "2022-02-11",
          "2022-02-10",
          "2022-02-09",
          "2022-02-08",
          "2022-02-07",
          "2022-02-06",
          "2022-02-05",
          "2022-02-04",
          "2022-02-03",
          "2022-02-02",
          "2022-02-01",
          "2022-01-31",
          "2022-01-30",
          "2022-01-29",
          "2022-01-28",
          "2022-01-27",
          "2022-01-26",
          "2022-01-25",
          "2022-01-24",
          "2022-01-23",
          "2022-01-22",
          "2022-01-21",
          "2022-01-20",
          "2022-01-19",
          "2022-01-18",
          "2022-01-17",
          "2022-01-16",
          "2022-01-15",
          "2022-01-14",
          "2022-01-13",
          "2022-01-12",
          "2022-01-11",
          "2022-01-10",
          "2022-01-09",
          "2022-01-08",
          "2022-01-07",
          "2022-01-06",
          "2022-01-05",
          "2022-01-04",
          "2022-01-03",
          "2022-01-02",
          "2022-01-01",
          "2021-12-31",
          "2021-12-30",
          "2021-12-29",
          "2021-12-28",
          "2021-12-27",
          "2021-12-26",
          "2021-12-25",
          "2021-12-24",
          "2021-12-23",
          "2021-12-22",
          "2021-12-21",
          "2021-12-20",
          "2021-12-19",
          "2021-12-18",
          "2021-12-17",
          "2021-12-16",
          "2021-12-15",
          "2021-12-14",
          "2021-12-13",
          "2021-12-12",
          "2021-12-11",
          "2021-12-10",
          "2021-12-09",
          "2021-12-08",
          "2021-12-07",
          "2021-12-06",
          "2021-12-05",
          "2021-12-04",
          "2021-12-03",
          "2021-12-02",
          "2021-12-01",
          "2021-11-30",
          "2021-11-29",
          "2021-11-28",
          "2021-11-27",
          "2021-11-26",
          "2021-11-25",
          "2021-11-24",
          "2021-11-23",
          "2021-11-22",
          "2021-11-21",
          "2021-11-20",
          "2021-11-19",
          "2021-11-18",
          "2021-11-17",
          "2021-11-16",
          "2021-11-15",
          "2021-11-14",
          "2021-11-13",
          "2021-11-12",
          "2021-11-11",
          "2021-11-10",
          "2021-11-09",
          "2021-11-08",
          "2021-11-07",
          "2021-11-06",
          "2021-11-05",
          "2021-11-04",
          "2021-11-03",
          "2021-11-02",
          "2021-11-01",
          "2021-10-31",
          "2021-10-30",
          "2021-10-29",
          "2021-10-28",
          "2021-10-27",
          "2021-10-26",
          "2021-10-25",
          "2021-10-24",
          "2021-10-23",
          "2021-10-22",
          "2021-10-21",
          "2021-10-20",
          "2021-10-19",
          "2021-10-18",
          "2021-10-17",
          "2021-10-16",
          "2021-10-15",
          "2021-10-14",
          "2021-10-13",
          "2021-10-12",
          "2021-10-11",
          "2021-10-10",
          "2021-10-09",
          "2021-10-08",
          "2021-10-07",
          "2021-10-06",
          "2021-10-05",
          "2021-10-04",
          "2021-10-03",
          "2021-10-02",
          "2021-10-01",
          "2021-09-30",
          "2021-09-29",
          "2021-09-28",
          "2021-09-27",
          "2021-09-26",
          "2021-09-25",
          "2021-09-24",
          "2021-09-23",
          "2021-09-22",
          "2021-09-21",
          "2021-09-20",
          "2021-09-19",
          "2021-09-18",
          "2021-09-17",
          "2021-09-16",
          "2021-09-15",
          "2021-09-14",
          "2021-09-13",
          "2021-09-12",
          "2021-09-11",
          "2021-09-10",
          "2021-09-09",
          "2021-09-08",
          "2021-09-07",
          "2021-09-06",
          "2021-09-05",
          "2021-09-04",
          "2021-09-03",
          "2021-09-02",
          "2021-09-01",
          "2021-08-31",
          "2021-08-30",
          "2021-08-29",
          "2021-08-28",
          "2021-08-27",
          "2021-08-26",
          "2021-08-25",
          "2021-08-24",
          "2021-08-23",
          "2021-08-22",
          "2021-08-21",
          "2021-08-20",
          "2021-08-19",
          "2021-08-18",
          "2021-08-17",
          "2021-08-16",
          "2021-08-15",
          "2021-08-14",
          "2021-08-13",
          "2021-08-12",
          "2021-08-11",
          "2021-08-10",
          "2021-08-09",
          "2021-08-08",
          "2021-08-07",
          "2021-08-06",
          "2021-08-05",
          "2021-08-04",
          "2021-08-03",
          "2021-08-02",
          "2021-08-01",
          "2021-07-31",
          "2021-07-30",
          "2021-07-29",
          "2021-07-28",
          "2021-07-27",
          "2021-07-26",
          "2021-07-25",
          "2021-07-24",
          "2021-07-23",
          "2021-07-22",
          "2021-07-21",
          "2021-07-20",
          "2021-07-19",
          "2021-07-18",
          "2021-07-17",
          "2021-07-16",
          "2021-07-15",
          "2021-07-14",
          "2021-07-13",
          "2021-07-12",
          "2021-07-11",
          "2021-07-10",
          "2021-07-09",
          "2021-07-08",
          "2021-07-07",
          "2021-07-06",
          "2021-07-05",
          "2021-07-04",
          "2021-07-03",
          "2021-07-02",
          "2021-07-01",
          "2021-06-30",
          "2021-06-29",
          "2021-06-28",
          "2021-06-27",
          "2021-06-26",
          "2021-06-25",
          "2021-06-24",
          "2021-06-23",
          "2021-06-22",
          "2021-06-21",
          "2021-06-20",
          "2021-06-19",
          "2021-06-18",
          "2021-06-17",
          "2021-06-16",
          "2021-06-15",
          "2021-06-14",
          "2021-06-13",
          "2021-06-12",
          "2021-06-11",
          "2021-06-10",
          "2021-06-09",
          "2021-06-08",
          "2021-06-07",
          "2021-06-06",
          "2021-06-05",
          "2021-06-04",
          "2021-06-03",
          "2021-06-02",
          "2021-06-01",
          "2021-05-31",
          "2021-05-30",
          "2021-05-29",
          "2021-05-28",
          "2021-05-27",
          "2021-05-26",
          "2021-05-25",
          "2021-05-24",
          "2021-05-23",
          "2021-05-22",
          "2021-05-21",
          "2021-05-20",
          "2021-05-19",
          "2021-05-18",
          "2021-05-17",
          "2021-05-16",
          "2021-05-15",
          "2021-05-14",
          "2021-05-13",
          "2021-05-12",
          "2021-05-11",
          "2021-05-10",
          "2021-05-09",
          "2021-05-08",
          "2021-05-07",
          "2021-05-06",
          "2021-05-05",
          "2021-05-04",
          "2021-05-03",
          "2021-05-02",
          "2021-05-01",
          "2021-04-30",
          "2021-04-29",
          "2021-04-28",
          "2021-04-27",
          "2021-04-26",
          "2021-04-25",
          "2021-04-24",
          "2021-04-23",
          "2021-04-22",
          "2021-04-21",
          "2021-04-20",
          "2021-04-19",
          "2021-04-18",
          "2021-04-17",
          "2021-04-16",
          "2021-04-15",
          "2021-04-14",
          "2021-04-13",
          "2021-04-12",
          "2021-04-11",
          "2021-04-10",
          "2021-04-09",
          "2021-04-08",
          "2021-04-07",
          "2021-04-06",
          "2021-04-05",
          "2021-04-04",
          "2021-04-03",
          "2021-04-02",
          "2021-04-01",
          "2021-03-31",
          "2021-03-30",
          "2021-03-29",
          "2021-03-28",
          "2021-03-27",
          "2021-03-26",
          "2021-03-25",
          "2021-03-24",
          "2021-03-23",
          "2021-03-22",
          "2021-03-21",
          "2021-03-20",
          "2021-03-19",
          "2021-03-18",
          "2021-03-17",
          "2021-03-16",
          "2021-03-15",
          "2021-03-14",
          "2021-03-13",
          "2021-03-12",
          "2021-03-11"
         ],
         "y": [
          "37792.4",
          "38814.3",
          "38730.2",
          "39416.3",
          "41929.0",
          "38744.8",
          "38024.8",
          "38403.1",
          "39395.8",
          "39142.7",
          "42463.0",
          "43912.8",
          "44420.3",
          "43188.2",
          "37689.1",
          "39115.5",
          "39209.6",
          "38339.2",
          "37224.6",
          "38248.2",
          "37017.7",
          "38355.0",
          "40090.3",
          "40000.1",
          "40552.8",
          "43883.6",
          "44544.4",
          "42550.3",
          "42061.1",
          "42205.2",
          "42388.4",
          "43521.0",
          "44388.9",
          "44038.2",
          "43833.9",
          "42392.2",
          "41412.1",
          "41567.6",
          "37287.8",
          "36890.2",
          "38709.7",
          "38498.6",
          "37917.7",
          "38170.8",
          "37745.1",
          "37164.3",
          "36800.4",
          "36950.6",
          "36686.3",
          "36269.5",
          "35075.2",
          "36475.5",
          "40715.9",
          "41677.8",
          "42364.6",
          "42209.3",
          "43079.1",
          "43097.0",
          "43073.3",
          "42560.0",
          "43901.0",
          "42733.2",
          "41832.2",
          "41848.3",
          "41672.0",
          "41546.7",
          "43097.5",
          "43425.9",
          "45837.3",
          "46430.2",
          "47311.8",
          "47738.0",
          "46219.5",
          "47123.3",
          "46461.7",
          "47545.2",
          "50678.2",
          "50779.9",
          "50406.4",
          "50786.1",
          "50801.0",
          "48599.7",
          "48902.0",
          "46895.2",
          "46704.5",
          "46856.2",
          "46172.2",
          "47628.2",
          "48871.5",
          "48366.5",
          "46703.6",
          "50081.0",
          "49314.5",
          "47137.2",
          "47596.6",
          "50473.9",
          "50595.2",
          "50562.1",
          "49405.5",
          "49195.2",
          "53631.5",
          "56496.0",
          "57210.3",
          "56882.9",
          "57794.8",
          "57291.5",
          "54765.9",
          "53730.9",
          "58935.1",
          "57171.7",
          "57573.2",
          "56308.8",
          "58714.3",
          "59717.6",
          "58083.4",
          "56955.3",
          "60367.8",
          "60089.1",
          "63597.9",
          "65508.2",
          "64398.6",
          "64134.5",
          "64806.7",
          "64932.6",
          "66904.4",
          "67527.9",
          "63273.2",
          "61483.9",
          "60974.3",
          "61412.6",
          "62918.5",
          "63221.7",
          "60915.3",
          "61309.6",
          "61840.1",
          "62242.8",
          "60582.5",
          "58438.1",
          "60310.8",
          "63067.0",
          "60866.5",
          "61312.5",
          "60690.3",
          "62210.2",
          "65979.1",
          "64278.5",
          "62056.3",
          "61527.5",
          "60861.1",
          "61672.5",
          "57345.8",
          "57380.1",
          "56015.9",
          "57477.3",
          "54687.7",
          "54942.5",
          "53914.7",
          "53783.9",
          "55323.2",
          "51469.3",
          "49227.3",
          "48200.1",
          "47666.9",
          "48146.0",
          "43823.3",
          "41536.8",
          "41022.3",
          "42172.6",
          "43203.4",
          "42686.8",
          "42819.9",
          "44869.2",
          "43551.6",
          "40651.3",
          "42870.6",
          "47238.7",
          "48306.7",
          "47282.8",
          "47748.0",
          "48130.6",
          "47077.5",
          "44949.5",
          "46062.3",
          "45161.9",
          "44842.8",
          "46385.6",
          "46061.4",
          "46779.6",
          "52672.1",
          "51768.6",
          "49918.4",
          "49999.0",
          "49274.3",
          "48819.4",
          "47130.4",
          "46992.7",
          "48777.4",
          "48897.1",
          "49064.3",
          "46831.6",
          "48994.5",
          "47714.7",
          "49539.7",
          "49254.5",
          "48875.8",
          "49324.0",
          "46755.9",
          "44723.8",
          "44691.6",
          "45996.3",
          "46991.3",
          "47081.5",
          "47809.1",
          "44403.4",
          "45564.3",
          "45593.8",
          "46284.3",
          "43792.8",
          "44614.2",
          "42795.4",
          "40867.2",
          "39736.9",
          "38130.3",
          "39168.4",
          "39878.3",
          "41553.7",
          "42203.4",
          "40001.4",
          "40003.2",
          "39452.0",
          "37276.6",
          "35391.1",
          "33824.8",
          "33603.3",
          "32298.9",
          "32131.4",
          "29793.8",
          "30837.2",
          "31785.4",
          "31518.6",
          "31394.0",
          "31840.5",
          "32820.7",
          "32728.1",
          "33113.0",
          "34227.7",
          "33510.6",
          "33797.4",
          "32866.3",
          "33867.8",
          "34225.6",
          "33687.8",
          "35298.2",
          "34742.8",
          "33813.4",
          "33543.6",
          "35026.9",
          "35834.7",
          "34475.9",
          "34678.5",
          "32243.4",
          "31594.0",
          "34665.8",
          "33674.3",
          "32496.4",
          "31692.0",
          "35595.8",
          "35513.4",
          "35749.4",
          "38052.0",
          "38336.0",
          "40156.1",
          "40529.4",
          "39022.9",
          "35467.5",
          "37314.6",
          "36649.4",
          "37332.2",
          "33382.9",
          "33578.0",
          "35815.4",
          "35520.0",
          "36851.3",
          "39187.3",
          "37555.8",
          "36687.6",
          "37298.6",
          "35652.8",
          "34584.6",
          "35662.5",
          "38417.3",
          "39249.2",
          "38378.3",
          "38750.6",
          "34679.7",
          "37448.3",
          "37297.4",
          "40717.2",
          "36720.5",
          "42897.3",
          "43541.3",
          "46426.4",
          "46708.8",
          "49839.8",
          "49704.6",
          "49384.2",
          "56695.7",
          "55848.9",
          "58238.3",
          "58840.1",
          "57337.2",
          "56405.4",
          "57441.3",
          "53741.5",
          "57169.8",
          "56603.8",
          "57807.1",
          "57720.3",
          "53560.8",
          "54841.4",
          "55036.5",
          "54020.5",
          "48963.6",
          "50088.9",
          "51143.6",
          "51729.5",
          "53820.2",
          "56483.2",
          "55646.1",
          "56207.1",
          "60041.9",
          "61379.7",
          "63216.0",
          "62980.4",
          "63540.9",
          "59863.8",
          "59978.7",
          "59748.4",
          "58118.7",
          "58077.4",
          "55948.7",
          "57996.3",
          "58993.4",
          "58199.9",
          "57059.9",
          "58977.3",
          "58718.3",
          "58763.7",
          "58771.3",
          "57616.2",
          "55765.2",
          "55862.9",
          "55036.1",
          "51322.3",
          "52325.4",
          "54452.5",
          "54158.3",
          "57383.8",
          "58093.4",
          "58088.0",
          "57656.0",
          "58913.5",
          "56889.7",
          "55791.3",
          "59113.7",
          "61195.3",
          "57265.1",
          "57799.5"
         ]
        }
       ],
       "frames": [],
       "layout": {
        "margin": {
         "b": 50,
         "l": 50,
         "r": 50,
         "t": 60
        },
        "template": {
         "data": {
          "bar": [
           {
            "error_x": {
             "color": "#2a3f5f"
            },
            "error_y": {
             "color": "#2a3f5f"
            },
            "marker": {
             "line": {
              "color": "#E5ECF6",
              "width": 0.5
             }
            },
            "type": "bar"
           }
          ],
          "barpolar": [
           {
            "marker": {
             "line": {
              "color": "#E5ECF6",
              "width": 0.5
             }
            },
            "type": "barpolar"
           }
          ],
          "carpet": [
           {
            "aaxis": {
             "endlinecolor": "#2a3f5f",
             "gridcolor": "white",
             "linecolor": "white",
             "minorgridcolor": "white",
             "startlinecolor": "#2a3f5f"
            },
            "baxis": {
             "endlinecolor": "#2a3f5f",
             "gridcolor": "white",
             "linecolor": "white",
             "minorgridcolor": "white",
             "startlinecolor": "#2a3f5f"
            },
            "type": "carpet"
           }
          ],
          "choropleth": [
           {
            "colorbar": {
             "outlinewidth": 0,
             "ticks": ""
            },
            "type": "choropleth"
           }
          ],
          "contour": [
           {
            "colorbar": {
             "outlinewidth": 0,
             "ticks": ""
            },
            "colorscale": [
             [
              0,
              "#0d0887"
             ],
             [
              0.1111111111111111,
              "#46039f"
             ],
             [
              0.2222222222222222,
              "#7201a8"
             ],
             [
              0.3333333333333333,
              "#9c179e"
             ],
             [
              0.4444444444444444,
              "#bd3786"
             ],
             [
              0.5555555555555556,
              "#d8576b"
             ],
             [
              0.6666666666666666,
              "#ed7953"
             ],
             [
              0.7777777777777778,
              "#fb9f3a"
             ],
             [
              0.8888888888888888,
              "#fdca26"
             ],
             [
              1,
              "#f0f921"
             ]
            ],
            "type": "contour"
           }
          ],
          "contourcarpet": [
           {
            "colorbar": {
             "outlinewidth": 0,
             "ticks": ""
            },
            "type": "contourcarpet"
           }
          ],
          "heatmap": [
           {
            "colorbar": {
             "outlinewidth": 0,
             "ticks": ""
            },
            "colorscale": [
             [
              0,
              "#0d0887"
             ],
             [
              0.1111111111111111,
              "#46039f"
             ],
             [
              0.2222222222222222,
              "#7201a8"
             ],
             [
              0.3333333333333333,
              "#9c179e"
             ],
             [
              0.4444444444444444,
              "#bd3786"
             ],
             [
              0.5555555555555556,
              "#d8576b"
             ],
             [
              0.6666666666666666,
              "#ed7953"
             ],
             [
              0.7777777777777778,
              "#fb9f3a"
             ],
             [
              0.8888888888888888,
              "#fdca26"
             ],
             [
              1,
              "#f0f921"
             ]
            ],
            "type": "heatmap"
           }
          ],
          "heatmapgl": [
           {
            "colorbar": {
             "outlinewidth": 0,
             "ticks": ""
            },
            "colorscale": [
             [
              0,
              "#0d0887"
             ],
             [
              0.1111111111111111,
              "#46039f"
             ],
             [
              0.2222222222222222,
              "#7201a8"
             ],
             [
              0.3333333333333333,
              "#9c179e"
             ],
             [
              0.4444444444444444,
              "#bd3786"
             ],
             [
              0.5555555555555556,
              "#d8576b"
             ],
             [
              0.6666666666666666,
              "#ed7953"
             ],
             [
              0.7777777777777778,
              "#fb9f3a"
             ],
             [
              0.8888888888888888,
              "#fdca26"
             ],
             [
              1,
              "#f0f921"
             ]
            ],
            "type": "heatmapgl"
           }
          ],
          "histogram": [
           {
            "marker": {
             "colorbar": {
              "outlinewidth": 0,
              "ticks": ""
             }
            },
            "type": "histogram"
           }
          ],
          "histogram2d": [
           {
            "colorbar": {
             "outlinewidth": 0,
             "ticks": ""
            },
            "colorscale": [
             [
              0,
              "#0d0887"
             ],
             [
              0.1111111111111111,
              "#46039f"
             ],
             [
              0.2222222222222222,
              "#7201a8"
             ],
             [
              0.3333333333333333,
              "#9c179e"
             ],
             [
              0.4444444444444444,
              "#bd3786"
             ],
             [
              0.5555555555555556,
              "#d8576b"
             ],
             [
              0.6666666666666666,
              "#ed7953"
             ],
             [
              0.7777777777777778,
              "#fb9f3a"
             ],
             [
              0.8888888888888888,
              "#fdca26"
             ],
             [
              1,
              "#f0f921"
             ]
            ],
            "type": "histogram2d"
           }
          ],
          "histogram2dcontour": [
           {
            "colorbar": {
             "outlinewidth": 0,
             "ticks": ""
            },
            "colorscale": [
             [
              0,
              "#0d0887"
             ],
             [
              0.1111111111111111,
              "#46039f"
             ],
             [
              0.2222222222222222,
              "#7201a8"
             ],
             [
              0.3333333333333333,
              "#9c179e"
             ],
             [
              0.4444444444444444,
              "#bd3786"
             ],
             [
              0.5555555555555556,
              "#d8576b"
             ],
             [
              0.6666666666666666,
              "#ed7953"
             ],
             [
              0.7777777777777778,
              "#fb9f3a"
             ],
             [
              0.8888888888888888,
              "#fdca26"
             ],
             [
              1,
              "#f0f921"
             ]
            ],
            "type": "histogram2dcontour"
           }
          ],
          "mesh3d": [
           {
            "colorbar": {
             "outlinewidth": 0,
             "ticks": ""
            },
            "type": "mesh3d"
           }
          ],
          "parcoords": [
           {
            "line": {
             "colorbar": {
              "outlinewidth": 0,
              "ticks": ""
             }
            },
            "type": "parcoords"
           }
          ],
          "pie": [
           {
            "automargin": true,
            "type": "pie"
           }
          ],
          "scatter": [
           {
            "marker": {
             "colorbar": {
              "outlinewidth": 0,
              "ticks": ""
             }
            },
            "type": "scatter"
           }
          ],
          "scatter3d": [
           {
            "line": {
             "colorbar": {
              "outlinewidth": 0,
              "ticks": ""
             }
            },
            "marker": {
             "colorbar": {
              "outlinewidth": 0,
              "ticks": ""
             }
            },
            "type": "scatter3d"
           }
          ],
          "scattercarpet": [
           {
            "marker": {
             "colorbar": {
              "outlinewidth": 0,
              "ticks": ""
             }
            },
            "type": "scattercarpet"
           }
          ],
          "scattergeo": [
           {
            "marker": {
             "colorbar": {
              "outlinewidth": 0,
              "ticks": ""
             }
            },
            "type": "scattergeo"
           }
          ],
          "scattergl": [
           {
            "marker": {
             "colorbar": {
              "outlinewidth": 0,
              "ticks": ""
             }
            },
            "type": "scattergl"
           }
          ],
          "scattermapbox": [
           {
            "marker": {
             "colorbar": {
              "outlinewidth": 0,
              "ticks": ""
             }
            },
            "type": "scattermapbox"
           }
          ],
          "scatterpolar": [
           {
            "marker": {
             "colorbar": {
              "outlinewidth": 0,
              "ticks": ""
             }
            },
            "type": "scatterpolar"
           }
          ],
          "scatterpolargl": [
           {
            "marker": {
             "colorbar": {
              "outlinewidth": 0,
              "ticks": ""
             }
            },
            "type": "scatterpolargl"
           }
          ],
          "scatterternary": [
           {
            "marker": {
             "colorbar": {
              "outlinewidth": 0,
              "ticks": ""
             }
            },
            "type": "scatterternary"
           }
          ],
          "surface": [
           {
            "colorbar": {
             "outlinewidth": 0,
             "ticks": ""
            },
            "colorscale": [
             [
              0,
              "#0d0887"
             ],
             [
              0.1111111111111111,
              "#46039f"
             ],
             [
              0.2222222222222222,
              "#7201a8"
             ],
             [
              0.3333333333333333,
              "#9c179e"
             ],
             [
              0.4444444444444444,
              "#bd3786"
             ],
             [
              0.5555555555555556,
              "#d8576b"
             ],
             [
              0.6666666666666666,
              "#ed7953"
             ],
             [
              0.7777777777777778,
              "#fb9f3a"
             ],
             [
              0.8888888888888888,
              "#fdca26"
             ],
             [
              1,
              "#f0f921"
             ]
            ],
            "type": "surface"
           }
          ],
          "table": [
           {
            "cells": {
             "fill": {
              "color": "#EBF0F8"
             },
             "line": {
              "color": "white"
             }
            },
            "header": {
             "fill": {
              "color": "#C8D4E3"
             },
             "line": {
              "color": "white"
             }
            },
            "type": "table"
           }
          ]
         },
         "layout": {
          "annotationdefaults": {
           "arrowcolor": "#2a3f5f",
           "arrowhead": 0,
           "arrowwidth": 1
          },
          "autotypenumbers": "strict",
          "coloraxis": {
           "colorbar": {
            "outlinewidth": 0,
            "ticks": ""
           }
          },
          "colorscale": {
           "diverging": [
            [
             0,
             "#8e0152"
            ],
            [
             0.1,
             "#c51b7d"
            ],
            [
             0.2,
             "#de77ae"
            ],
            [
             0.3,
             "#f1b6da"
            ],
            [
             0.4,
             "#fde0ef"
            ],
            [
             0.5,
             "#f7f7f7"
            ],
            [
             0.6,
             "#e6f5d0"
            ],
            [
             0.7,
             "#b8e186"
            ],
            [
             0.8,
             "#7fbc41"
            ],
            [
             0.9,
             "#4d9221"
            ],
            [
             1,
             "#276419"
            ]
           ],
           "sequential": [
            [
             0,
             "#0d0887"
            ],
            [
             0.1111111111111111,
             "#46039f"
            ],
            [
             0.2222222222222222,
             "#7201a8"
            ],
            [
             0.3333333333333333,
             "#9c179e"
            ],
            [
             0.4444444444444444,
             "#bd3786"
            ],
            [
             0.5555555555555556,
             "#d8576b"
            ],
            [
             0.6666666666666666,
             "#ed7953"
            ],
            [
             0.7777777777777778,
             "#fb9f3a"
            ],
            [
             0.8888888888888888,
             "#fdca26"
            ],
            [
             1,
             "#f0f921"
            ]
           ],
           "sequentialminus": [
            [
             0,
             "#0d0887"
            ],
            [
             0.1111111111111111,
             "#46039f"
            ],
            [
             0.2222222222222222,
             "#7201a8"
            ],
            [
             0.3333333333333333,
             "#9c179e"
            ],
            [
             0.4444444444444444,
             "#bd3786"
            ],
            [
             0.5555555555555556,
             "#d8576b"
            ],
            [
             0.6666666666666666,
             "#ed7953"
            ],
            [
             0.7777777777777778,
             "#fb9f3a"
            ],
            [
             0.8888888888888888,
             "#fdca26"
            ],
            [
             1,
             "#f0f921"
            ]
           ]
          },
          "colorway": [
           "#636efa",
           "#EF553B",
           "#00cc96",
           "#ab63fa",
           "#FFA15A",
           "#19d3f3",
           "#FF6692",
           "#B6E880",
           "#FF97FF",
           "#FECB52"
          ],
          "font": {
           "color": "#2a3f5f"
          },
          "geo": {
           "bgcolor": "white",
           "lakecolor": "white",
           "landcolor": "#E5ECF6",
           "showlakes": true,
           "showland": true,
           "subunitcolor": "white"
          },
          "hoverlabel": {
           "align": "left"
          },
          "hovermode": "closest",
          "mapbox": {
           "style": "light"
          },
          "paper_bgcolor": "white",
          "plot_bgcolor": "#E5ECF6",
          "polar": {
           "angularaxis": {
            "gridcolor": "white",
            "linecolor": "white",
            "ticks": ""
           },
           "bgcolor": "#E5ECF6",
           "radialaxis": {
            "gridcolor": "white",
            "linecolor": "white",
            "ticks": ""
           }
          },
          "scene": {
           "xaxis": {
            "backgroundcolor": "#E5ECF6",
            "gridcolor": "white",
            "gridwidth": 2,
            "linecolor": "white",
            "showbackground": true,
            "ticks": "",
            "zerolinecolor": "white"
           },
           "yaxis": {
            "backgroundcolor": "#E5ECF6",
            "gridcolor": "white",
            "gridwidth": 2,
            "linecolor": "white",
            "showbackground": true,
            "ticks": "",
            "zerolinecolor": "white"
           },
           "zaxis": {
            "backgroundcolor": "#E5ECF6",
            "gridcolor": "white",
            "gridwidth": 2,
            "linecolor": "white",
            "showbackground": true,
            "ticks": "",
            "zerolinecolor": "white"
           }
          },
          "shapedefaults": {
           "line": {
            "color": "#2a3f5f"
           }
          },
          "ternary": {
           "aaxis": {
            "gridcolor": "white",
            "linecolor": "white",
            "ticks": ""
           },
           "baxis": {
            "gridcolor": "white",
            "linecolor": "white",
            "ticks": ""
           },
           "bgcolor": "#E5ECF6",
           "caxis": {
            "gridcolor": "white",
            "linecolor": "white",
            "ticks": ""
           }
          },
          "title": {
           "x": 0.05
          },
          "xaxis": {
           "automargin": true,
           "gridcolor": "white",
           "linecolor": "white",
           "ticks": "",
           "title": {
            "standoff": 15
           },
           "zerolinecolor": "white",
           "zerolinewidth": 2
          },
          "yaxis": {
           "automargin": true,
           "gridcolor": "white",
           "linecolor": "white",
           "ticks": "",
           "title": {
            "standoff": 15
           },
           "zerolinecolor": "white",
           "zerolinewidth": 2
          }
         }
        }
       }
      },
      "text/html": [
       "<div\n",
       "    class=\"webio-mountpoint\"\n",
       "    data-webio-mountpoint=\"5550683236321758278\"\n",
       ">\n",
       "    <script>\n",
       "    (function(){\n",
       "    // Some integrations (namely, IJulia/Jupyter) use an alternate render pathway than\n",
       "    // just putting the html on the page. If WebIO isn't defined, then it's pretty likely\n",
       "    // that we're in one of those situations and the integration just isn't installed\n",
       "    // correctly.\n",
       "    if (typeof window.WebIO === \"undefined\") {\n",
       "        document\n",
       "            .querySelector('[data-webio-mountpoint=\"5550683236321758278\"]')\n",
       "            .innerHTML = (\n",
       "                '<div style=\"padding: 1em; background-color: #f8d6da; border: 1px solid #f5c6cb; font-weight: bold;\">' +\n",
       "                '<p><strong>WebIO not detected.</strong></p>' +\n",
       "                '<p>Please read ' +\n",
       "                '<a href=\"https://juliagizmos.github.io/WebIO.jl/latest/troubleshooting/not-detected/\" target=\"_blank\">the troubleshooting guide</a> ' +\n",
       "                'for more information on how to resolve this issue.</p>' +\n",
       "                '<p><a href=\"https://juliagizmos.github.io/WebIO.jl/latest/troubleshooting/not-detected/\" target=\"_blank\">https://juliagizmos.github.io/WebIO.jl/latest/troubleshooting/not-detected/</a></p>' +\n",
       "                '</div>'\n",
       "            );\n",
       "        return;\n",
       "    }\n",
       "    WebIO.mount(\n",
       "        document.querySelector('[data-webio-mountpoint=\"5550683236321758278\"]'),\n",
       "        {\"props\":{},\"nodeType\":\"Scope\",\"type\":\"node\",\"instanceArgs\":{\"imports\":{\"data\":[{\"name\":\"Plotly\",\"type\":\"js\",\"url\":\"\\/assetserver\\/db01643933f428e933e6fe3f9bf0c39e9fab8888-plotly.min.js\"},{\"name\":null,\"type\":\"js\",\"url\":\"\\/assetserver\\/2838d48eaeffaf0924c124c65d5596d45c0b86cd-plotly_webio.bundle.js\"}],\"type\":\"async_block\"},\"id\":\"6805809658851702907\",\"handlers\":{\"_toImage\":[\"(function (options){return this.Plotly.toImage(this.plotElem,options).then((function (data){return WebIO.setval({\\\"name\\\":\\\"image\\\",\\\"scope\\\":\\\"6805809658851702907\\\",\\\"id\\\":\\\"3908266038574575467\\\",\\\"type\\\":\\\"observable\\\"},data)}))})\"],\"__get_gd_contents\":[\"(function (prop){prop==\\\"data\\\" ? (WebIO.setval({\\\"name\\\":\\\"__gd_contents\\\",\\\"scope\\\":\\\"6805809658851702907\\\",\\\"id\\\":\\\"13293681683287333148\\\",\\\"type\\\":\\\"observable\\\"},this.plotElem.data)) : undefined; return prop==\\\"layout\\\" ? (WebIO.setval({\\\"name\\\":\\\"__gd_contents\\\",\\\"scope\\\":\\\"6805809658851702907\\\",\\\"id\\\":\\\"13293681683287333148\\\",\\\"type\\\":\\\"observable\\\"},this.plotElem.layout)) : undefined})\"],\"_downloadImage\":[\"(function (options){return this.Plotly.downloadImage(this.plotElem,options)})\"],\"_commands\":[\"(function (args){var fn=args.shift(); var elem=this.plotElem; var Plotly=this.Plotly; args.unshift(elem); return Plotly[fn].apply(this,args)})\"]},\"systemjs_options\":null,\"mount_callbacks\":[\"function () {\\n    var handler = ((function (Plotly,PlotlyWebIO){PlotlyWebIO.init(WebIO); var gd=this.dom.querySelector(\\\"#plot-b0bdc491-4906-48f3-add7-3a97001879da\\\"); this.plotElem=gd; this.Plotly=Plotly; (window.Blink!==undefined) ? (gd.style.width=\\\"100%\\\", gd.style.height=\\\"100vh\\\", gd.style.marginLeft=\\\"0%\\\", gd.style.marginTop=\\\"0vh\\\") : undefined; window.onresize=(function (){return Plotly.Plots.resize(gd)}); Plotly.newPlot(gd,[{\\\"y\\\":[45588.90118840342,45590.37598584057,45591.909357540215,45593.50130350236,45595.15182372699,45596.86091821413,45598.62858696375,45600.45482997588,45602.339647250505,45604.28303878762,45606.28500458723,45608.34554464934,45610.464658973935,45612.642347561035,45614.87861041063,45617.17344752272,45619.526858897305,45621.93884453439,45624.40940443396,45626.938538596034,45629.52624702061,45632.17252970766,45634.87738665722,45637.64081786928,45640.46282334382,45643.34340308087,45646.282557080405,45649.280285342444,45652.33658786698,45655.451464654,45658.62491570353,45661.85694101555,45665.14754059006,45668.49671442707,45671.90446252657,45675.37078488857,45678.895681513066,45682.479152400054,45686.121197549546,45689.82181696153,45693.581010636,45697.39877857298,45701.27512077245,45705.210037234414,45709.203527958874,45713.25559294583,45717.36623219528,45721.53544570723,45725.76323348167,45730.049595518605,45734.39453181804,45738.79804237997,45743.2601272044,45747.78078629132,45752.36001964073,45756.99782725264,45761.694209127054,45766.449165263955,45771.262695663354,45776.13480032524,45781.065479249635,45786.05473243652,45791.1025598859,45796.208961597775,45801.37393757215,45806.59748780901,45811.879612308374,45817.22031107024,45822.61958409459,45828.07743138144,45833.59385293078,45839.16884874262,45844.80241881696,45850.49456315379,45856.245281753116,45862.054574614944,45867.922441739254,45873.84888312607,45879.83389877538,45885.87748868718,45891.97965286148,45898.14039129828,45904.35970399757,45910.63759095936,45916.974052183636,45923.36908767042,45929.822697419695,45936.33488143146,45942.90563970573,45949.53497224249,45956.22287904174,45962.969360103496,45969.774415427746,45976.63804501448,45983.56024886372,45990.54102697546,45997.58037934968,46004.67830598641,46011.83480688563,46019.049882047344,46026.32353147156,46033.65575515826,46041.046553107466,46048.49592531917,46056.00387179336,46063.57039253005,46071.19548752923,46078.879156790914,46086.62140031509,46094.422218101754,46102.28161015092,46110.19957646259,46118.176117036746,46126.2112318734,46134.30492097255,46142.45718433419,46150.668021958336,46158.93743384497,46167.2654199941,46175.65198040573,46184.09711507986,46192.60082401647,46201.16310721559,46209.78396467719,46218.4633964013,46227.2014023879,46235.99798263699,46244.85313714859,46253.76686592268,46262.73916895925,46271.77004625833,46280.8594978199,46290.00752364397,46299.21412373054,46308.4792980796,46317.80304669115,46327.18536956521,46336.62626670175,46346.125738100796,46355.68378376234,46365.300403686364,46374.97559787289,46384.70936632193,46394.50170903344,46404.35262600746,46414.26211724397,46424.23018274298,46434.25682250448,46444.34203652847,46454.48582481497,46464.68818736396,46474.949124175444,46485.26863524942,46495.6467205859,46506.08338018487,46516.57861404634,46527.132422170296,46537.74480455676,46548.41576120571,46559.14529211716,46569.933397291104,46580.78007672755,46591.68533042648,46602.64915838791,46613.671560611845,46624.75253709826,46635.89208784718,46647.090212858595,46658.3469121325,46669.66218566891,46681.03603346781,46692.468455529204,46703.959451853094,46715.50902243948,46727.117167288365,46738.783886399746,46750.50917977361,46762.293047409985,46774.13548930884,46786.036505470205,46797.996095894065,46810.014260580414,46822.09099952926,46834.226312740604,46846.42020021444,46858.672661950775,46870.98369794961,46883.35330821093,46895.78149273475,46908.26825152107,46920.81358456988,46933.417491881184,46946.079973454995,46958.80102929129,46971.58065939008,46984.418863751365,46997.31564237515,47010.27099526144,47023.2849224102,47036.35742382148,47049.48849949525,47062.67814943151,47075.92637363027,47089.233172091524,47102.59854481527,47116.022491801516,47129.50501305025,47143.04610856149,47156.64577833522,47170.30402237145,47184.02084067017,47197.79623323139,47211.6302000551,47225.522741141314,47239.47385649002,47253.48354610121,47267.55180997492,47281.678648111105,47295.86406050979,47310.10804717097,47324.41060809465,47338.77174328083,47353.191452729494,47367.66973644066,47382.20659441432,47396.802026650475,47411.45603314912,47426.168613910275,47440.93976893391,47455.76949822005,47470.657801768684,47485.60467957981,47500.61013165344,47515.67415798956,47530.79675858817,47545.977933449285,47561.2176825729,47576.51600595899,47591.8729036076,47607.28837551869,47622.76242169228,47638.29504212836,47653.88623682694,47669.53600578802,47685.24434901159,47701.011266497655,47716.836758246216,47732.72082425728,47748.66346453083,47764.66467906688,47780.724467865424,47796.842830926464,47813.01976825,47829.25527983603,47845.54936568456,47861.90202579558,47878.313260169096,47894.78306880511,47911.31145170362,47927.898408864625,47944.543940288124,47961.24804597412,47978.010725922606,47994.8319801336,48011.711808607084,48028.650211343054,48045.647188341536,48062.7027396025,48079.81686512596,48096.98956491193,48114.22083896038,48131.51068727133,48148.85910984478,48166.26610668072,48183.731677779164,48201.2558231401,48218.83854276352,48236.47983664945,48254.17970479786,48271.938147208784,48289.7551638822,48307.6307548181,48325.564920016506,48343.5576594774,48361.60897320079,48379.71886118669,48397.88732343507,48416.11435994595,48434.39997071933,48452.7441557552,48471.14691505356,48489.60824861443,48508.12815643778,48526.70663852363,48545.34369487199,48564.03932548283,48582.79353035617,48601.60630949201,48620.477662890335,48639.40759055116,48658.39609247449,48677.443168660306,48696.54881910862,48715.71304381942,48734.93584279273,48754.21721602853,48773.55716352682,48792.95568528762,48812.41278131091,48831.92845159669,48851.50269614496,48871.13551495574,48890.826908029005,48910.57687536477,48930.385416963036,48950.25253282379,48970.17822294704,48990.16248733278,49010.20532598103,49030.30673889177,49050.466726064995,49070.68528750073,49090.96242319896,49111.298133159675,49131.69241738289,49152.14527586861,49172.65670861681,49193.22671562751,49213.85529690071,49234.5424524364,49255.288182234595,49276.092486295274,49296.95536461846,49317.87681720413,49338.8568440523,49359.89544516297,49380.99262053613,49402.14837017179,49423.36269406994,49444.63559223059,49465.967064653734,49487.35711133938,49508.80573228751,49530.31292749814,49551.878696971275,49573.50304070689,49595.18595870501,49616.927450965624,49638.72751748873,49660.58615827434,49682.50337332243,49704.47916263303,49726.51352620612,49748.60646404171,49770.757976139794,49792.968062500375,49815.23672312344,49837.563958009014,49859.94976715708,49882.394150567634,49904.89710824069,49927.45864017625,49950.07874637429,49972.75742683483,49995.494681557866,50018.290510543404,50041.14491379144,50064.057891301956],\\\"type\\\":\\\"scatter\\\",\\\"x\\\":[\\\"2022-03-13\\\",\\\"2022-03-12\\\",\\\"2022-03-11\\\",\\\"2022-03-10\\\",\\\"2022-03-09\\\",\\\"2022-03-08\\\",\\\"2022-03-07\\\",\\\"2022-03-06\\\",\\\"2022-03-05\\\",\\\"2022-03-04\\\",\\\"2022-03-03\\\",\\\"2022-03-02\\\",\\\"2022-03-01\\\",\\\"2022-02-28\\\",\\\"2022-02-27\\\",\\\"2022-02-26\\\",\\\"2022-02-25\\\",\\\"2022-02-24\\\",\\\"2022-02-23\\\",\\\"2022-02-22\\\",\\\"2022-02-21\\\",\\\"2022-02-20\\\",\\\"2022-02-19\\\",\\\"2022-02-18\\\",\\\"2022-02-17\\\",\\\"2022-02-16\\\",\\\"2022-02-15\\\",\\\"2022-02-14\\\",\\\"2022-02-13\\\",\\\"2022-02-12\\\",\\\"2022-02-11\\\",\\\"2022-02-10\\\",\\\"2022-02-09\\\",\\\"2022-02-08\\\",\\\"2022-02-07\\\",\\\"2022-02-06\\\",\\\"2022-02-05\\\",\\\"2022-02-04\\\",\\\"2022-02-03\\\",\\\"2022-02-02\\\",\\\"2022-02-01\\\",\\\"2022-01-31\\\",\\\"2022-01-30\\\",\\\"2022-01-29\\\",\\\"2022-01-28\\\",\\\"2022-01-27\\\",\\\"2022-01-26\\\",\\\"2022-01-25\\\",\\\"2022-01-24\\\",\\\"2022-01-23\\\",\\\"2022-01-22\\\",\\\"2022-01-21\\\",\\\"2022-01-20\\\",\\\"2022-01-19\\\",\\\"2022-01-18\\\",\\\"2022-01-17\\\",\\\"2022-01-16\\\",\\\"2022-01-15\\\",\\\"2022-01-14\\\",\\\"2022-01-13\\\",\\\"2022-01-12\\\",\\\"2022-01-11\\\",\\\"2022-01-10\\\",\\\"2022-01-09\\\",\\\"2022-01-08\\\",\\\"2022-01-07\\\",\\\"2022-01-06\\\",\\\"2022-01-05\\\",\\\"2022-01-04\\\",\\\"2022-01-03\\\",\\\"2022-01-02\\\",\\\"2022-01-01\\\",\\\"2021-12-31\\\",\\\"2021-12-30\\\",\\\"2021-12-29\\\",\\\"2021-12-28\\\",\\\"2021-12-27\\\",\\\"2021-12-26\\\",\\\"2021-12-25\\\",\\\"2021-12-24\\\",\\\"2021-12-23\\\",\\\"2021-12-22\\\",\\\"2021-12-21\\\",\\\"2021-12-20\\\",\\\"2021-12-19\\\",\\\"2021-12-18\\\",\\\"2021-12-17\\\",\\\"2021-12-16\\\",\\\"2021-12-15\\\",\\\"2021-12-14\\\",\\\"2021-12-13\\\",\\\"2021-12-12\\\",\\\"2021-12-11\\\",\\\"2021-12-10\\\",\\\"2021-12-09\\\",\\\"2021-12-08\\\",\\\"2021-12-07\\\",\\\"2021-12-06\\\",\\\"2021-12-05\\\",\\\"2021-12-04\\\",\\\"2021-12-03\\\",\\\"2021-12-02\\\",\\\"2021-12-01\\\",\\\"2021-11-30\\\",\\\"2021-11-29\\\",\\\"2021-11-28\\\",\\\"2021-11-27\\\",\\\"2021-11-26\\\",\\\"2021-11-25\\\",\\\"2021-11-24\\\",\\\"2021-11-23\\\",\\\"2021-11-22\\\",\\\"2021-11-21\\\",\\\"2021-11-20\\\",\\\"2021-11-19\\\",\\\"2021-11-18\\\",\\\"2021-11-17\\\",\\\"2021-11-16\\\",\\\"2021-11-15\\\",\\\"2021-11-14\\\",\\\"2021-11-13\\\",\\\"2021-11-12\\\",\\\"2021-11-11\\\",\\\"2021-11-10\\\",\\\"2021-11-09\\\",\\\"2021-11-08\\\",\\\"2021-11-07\\\",\\\"2021-11-06\\\",\\\"2021-11-05\\\",\\\"2021-11-04\\\",\\\"2021-11-03\\\",\\\"2021-11-02\\\",\\\"2021-11-01\\\",\\\"2021-10-31\\\",\\\"2021-10-30\\\",\\\"2021-10-29\\\",\\\"2021-10-28\\\",\\\"2021-10-27\\\",\\\"2021-10-26\\\",\\\"2021-10-25\\\",\\\"2021-10-24\\\",\\\"2021-10-23\\\",\\\"2021-10-22\\\",\\\"2021-10-21\\\",\\\"2021-10-20\\\",\\\"2021-10-19\\\",\\\"2021-10-18\\\",\\\"2021-10-17\\\",\\\"2021-10-16\\\",\\\"2021-10-15\\\",\\\"2021-10-14\\\",\\\"2021-10-13\\\",\\\"2021-10-12\\\",\\\"2021-10-11\\\",\\\"2021-10-10\\\",\\\"2021-10-09\\\",\\\"2021-10-08\\\",\\\"2021-10-07\\\",\\\"2021-10-06\\\",\\\"2021-10-05\\\",\\\"2021-10-04\\\",\\\"2021-10-03\\\",\\\"2021-10-02\\\",\\\"2021-10-01\\\",\\\"2021-09-30\\\",\\\"2021-09-29\\\",\\\"2021-09-28\\\",\\\"2021-09-27\\\",\\\"2021-09-26\\\",\\\"2021-09-25\\\",\\\"2021-09-24\\\",\\\"2021-09-23\\\",\\\"2021-09-22\\\",\\\"2021-09-21\\\",\\\"2021-09-20\\\",\\\"2021-09-19\\\",\\\"2021-09-18\\\",\\\"2021-09-17\\\",\\\"2021-09-16\\\",\\\"2021-09-15\\\",\\\"2021-09-14\\\",\\\"2021-09-13\\\",\\\"2021-09-12\\\",\\\"2021-09-11\\\",\\\"2021-09-10\\\",\\\"2021-09-09\\\",\\\"2021-09-08\\\",\\\"2021-09-07\\\",\\\"2021-09-06\\\",\\\"2021-09-05\\\",\\\"2021-09-04\\\",\\\"2021-09-03\\\",\\\"2021-09-02\\\",\\\"2021-09-01\\\",\\\"2021-08-31\\\",\\\"2021-08-30\\\",\\\"2021-08-29\\\",\\\"2021-08-28\\\",\\\"2021-08-27\\\",\\\"2021-08-26\\\",\\\"2021-08-25\\\",\\\"2021-08-24\\\",\\\"2021-08-23\\\",\\\"2021-08-22\\\",\\\"2021-08-21\\\",\\\"2021-08-20\\\",\\\"2021-08-19\\\",\\\"2021-08-18\\\",\\\"2021-08-17\\\",\\\"2021-08-16\\\",\\\"2021-08-15\\\",\\\"2021-08-14\\\",\\\"2021-08-13\\\",\\\"2021-08-12\\\",\\\"2021-08-11\\\",\\\"2021-08-10\\\",\\\"2021-08-09\\\",\\\"2021-08-08\\\",\\\"2021-08-07\\\",\\\"2021-08-06\\\",\\\"2021-08-05\\\",\\\"2021-08-04\\\",\\\"2021-08-03\\\",\\\"2021-08-02\\\",\\\"2021-08-01\\\",\\\"2021-07-31\\\",\\\"2021-07-30\\\",\\\"2021-07-29\\\",\\\"2021-07-28\\\",\\\"2021-07-27\\\",\\\"2021-07-26\\\",\\\"2021-07-25\\\",\\\"2021-07-24\\\",\\\"2021-07-23\\\",\\\"2021-07-22\\\",\\\"2021-07-21\\\",\\\"2021-07-20\\\",\\\"2021-07-19\\\",\\\"2021-07-18\\\",\\\"2021-07-17\\\",\\\"2021-07-16\\\",\\\"2021-07-15\\\",\\\"2021-07-14\\\",\\\"2021-07-13\\\",\\\"2021-07-12\\\",\\\"2021-07-11\\\",\\\"2021-07-10\\\",\\\"2021-07-09\\\",\\\"2021-07-08\\\",\\\"2021-07-07\\\",\\\"2021-07-06\\\",\\\"2021-07-05\\\",\\\"2021-07-04\\\",\\\"2021-07-03\\\",\\\"2021-07-02\\\",\\\"2021-07-01\\\",\\\"2021-06-30\\\",\\\"2021-06-29\\\",\\\"2021-06-28\\\",\\\"2021-06-27\\\",\\\"2021-06-26\\\",\\\"2021-06-25\\\",\\\"2021-06-24\\\",\\\"2021-06-23\\\",\\\"2021-06-22\\\",\\\"2021-06-21\\\",\\\"2021-06-20\\\",\\\"2021-06-19\\\",\\\"2021-06-18\\\",\\\"2021-06-17\\\",\\\"2021-06-16\\\",\\\"2021-06-15\\\",\\\"2021-06-14\\\",\\\"2021-06-13\\\",\\\"2021-06-12\\\",\\\"2021-06-11\\\",\\\"2021-06-10\\\",\\\"2021-06-09\\\",\\\"2021-06-08\\\",\\\"2021-06-07\\\",\\\"2021-06-06\\\",\\\"2021-06-05\\\",\\\"2021-06-04\\\",\\\"2021-06-03\\\",\\\"2021-06-02\\\",\\\"2021-06-01\\\",\\\"2021-05-31\\\",\\\"2021-05-30\\\",\\\"2021-05-29\\\",\\\"2021-05-28\\\",\\\"2021-05-27\\\",\\\"2021-05-26\\\",\\\"2021-05-25\\\",\\\"2021-05-24\\\",\\\"2021-05-23\\\",\\\"2021-05-22\\\",\\\"2021-05-21\\\",\\\"2021-05-20\\\",\\\"2021-05-19\\\",\\\"2021-05-18\\\",\\\"2021-05-17\\\",\\\"2021-05-16\\\",\\\"2021-05-15\\\",\\\"2021-05-14\\\",\\\"2021-05-13\\\",\\\"2021-05-12\\\",\\\"2021-05-11\\\",\\\"2021-05-10\\\",\\\"2021-05-09\\\",\\\"2021-05-08\\\",\\\"2021-05-07\\\",\\\"2021-05-06\\\",\\\"2021-05-05\\\",\\\"2021-05-04\\\",\\\"2021-05-03\\\",\\\"2021-05-02\\\",\\\"2021-05-01\\\",\\\"2021-04-30\\\",\\\"2021-04-29\\\",\\\"2021-04-28\\\",\\\"2021-04-27\\\",\\\"2021-04-26\\\",\\\"2021-04-25\\\",\\\"2021-04-24\\\",\\\"2021-04-23\\\",\\\"2021-04-22\\\",\\\"2021-04-21\\\",\\\"2021-04-20\\\",\\\"2021-04-19\\\",\\\"2021-04-18\\\",\\\"2021-04-17\\\",\\\"2021-04-16\\\",\\\"2021-04-15\\\",\\\"2021-04-14\\\",\\\"2021-04-13\\\",\\\"2021-04-12\\\",\\\"2021-04-11\\\",\\\"2021-04-10\\\",\\\"2021-04-09\\\",\\\"2021-04-08\\\",\\\"2021-04-07\\\",\\\"2021-04-06\\\",\\\"2021-04-05\\\",\\\"2021-04-04\\\",\\\"2021-04-03\\\",\\\"2021-04-02\\\",\\\"2021-04-01\\\",\\\"2021-03-31\\\",\\\"2021-03-30\\\",\\\"2021-03-29\\\",\\\"2021-03-28\\\",\\\"2021-03-27\\\",\\\"2021-03-26\\\",\\\"2021-03-25\\\",\\\"2021-03-24\\\",\\\"2021-03-23\\\",\\\"2021-03-22\\\",\\\"2021-03-21\\\",\\\"2021-03-20\\\",\\\"2021-03-19\\\",\\\"2021-03-18\\\",\\\"2021-03-17\\\",\\\"2021-03-16\\\",\\\"2021-03-15\\\",\\\"2021-03-14\\\",\\\"2021-03-13\\\",\\\"2021-03-12\\\",\\\"2021-03-11\\\"]},{\\\"y\\\":[28460.570566818235,29022.099771500565,29576.036533953156,30122.422777553787,30661.300425680587,31192.71140171145,31716.69762902474,32233.30103099835,32742.563531010062,33244.527052438236,33739.23351866088,34226.724853055784,34707.0429790013,35180.229819875385,35646.327299055876,36105.37733992108,36557.421865848824,37002.50280021742,37440.66206640465,37871.941587788635,38296.38328774733,38714.029089659045,39124.92091690155,39529.10069285304,39926.61034089152,40317.49178439495,40701.78694674134,41079.53775130893,41450.78612147563,41815.57398061955,42173.943252118595,42525.93585935095,42871.593725694576,43210.958774527535,43544.0729292279,43870.97811317368,44191.716249742894,44506.32926231361,44814.85907426383,45117.3476089717,45413.836789815105,45704.36854017223,45988.98478342104,46267.72744293959,46540.638442105905,46807.75970429805,47069.133152894094,47324.80071127199,47574.80430280988,47819.18585088564,48057.98727887758,48291.25051016355,48519.01746812154,48741.33007612976,48958.230257566145,49169.75993580872,49375.9610342356,49576.87547622481,49772.545185154304,49963.01208440226,50148.31809734664,50328.505147365504,50503.615157836815,50673.69005213876,50838.771753649286,50998.90218574641,51154.1232718082,51304.47693521273,51450.005099338014,51590.749687562115,51726.75262326305,51858.055829818826,51984.70123060758,52106.730749007256,52224.18630839599,52337.10983215168,52445.5432436525,52549.52846627642,52649.107423401496,52744.32203840581,52835.214234667365,52921.82593556424,53004.19906447438,53082.375544775976,53156.39729984687,53226.30625306524,53292.14432780916,53353.95344745653,53411.77553538559,53465.65251497412,53515.626309600426,53561.73884264234,53604.03203747794,53642.547817485465,53677.328106042696,53708.41482652782,53735.84990231885,53759.675256793795,53779.93281333073,53796.66449530766,53809.912226102664,53819.71792909381,53826.12352765899,53829.17094517645,53828.902105024084,53825.35893058003,53818.58334522223,53808.61727232882,53795.50263527775,53779.28135744715,53759.99536221492,53737.6865729593,53712.39691305818,53684.168305889645,53653.042674831755,53619.061943262524,53582.268034559995,53542.70287210221,53500.40837926726,53455.42647943308,53407.799095977825,53357.56815227948,53304.775571716076,53249.463277665665,53191.673193506314,53131.44724261601,53068.82734837284,53003.85543415477,52936.573423339956,52867.02323930635,52795.24680543205,52721.2860450951,52645.18288167345,52566.97923854523,52486.71703908837,52404.43820668111,52320.184664701315,52233.99833652712,52145.9211455365,52055.99501510756,51964.261868618254,51870.76362944671,51775.54222097088,51678.63956656895,51580.09758961879,51479.958213498554,51378.26336158623,51275.05495725988,51170.37492389756,51064.265184877266,50956.767663577106,50847.92428337503,50737.776967649144,50626.36763977748,50513.73822313809,50399.93064110898,50284.98681706819,50168.94867439379,50051.85813646382,49933.7571266563,49814.68756834927,49694.69138492076,49573.810499748855,49452.08683621159,49329.56231768694,49206.27886755305,49082.27840918786,48957.60286596944,48832.29416127587,48706.39421848519,48579.94496097538,48452.98831212454,48325.566195310676,48197.72053391184,48069.49325130606,47940.926270871394,47812.0615159859,47682.940910027595,47553.60637637449,47424.09983840468,47294.46321949619,47164.73844302702,47034.9674323753,46905.19211091896,46775.45440203612,46645.79622910477,46516.259515503014,46386.886184608826,46257.71815980031,46128.797364455444,46000.165721952275,45871.8651556689,45743.93758898333,45616.42494527361,45489.36914791775,45362.81212029379,45236.79578577983,45111.36206775386,44986.552889593935,44862.41017467811,44738.97584638442,44616.29182809085,44494.40004317551,44373.34241501642,44253.16086699163,44133.89732247917,44015.59370485708,43898.29193750337,43782.03394379614,43666.86164711336,43552.81697083317,43439.941838333514,43328.27817299249,43217.867898188124,43108.75293729843,43000.9752137015,42894.57665077534,42789.59917189799,42686.08470044749,42584.07515980191,42483.612473339264,42384.738564437575,42287.495356474916,42191.92477282933,42098.068736878835,42005.96917200151,41915.66800157534,41827.2071489784,41740.628537588724,41655.974090784366,41573.28573194334,41492.6053844437,41413.97497166348,41337.43641698075,41263.03164377353,41190.80257541983,41120.79113529774,41053.03924678528,40987.588833260495,40924.4818181014,40863.76012468609,40805.465676392545,40749.64039659884,40696.32620868302,40645.56503602312,40597.39880199716,40551.86942998321,40509.0188433593,40468.88896550346,40431.52171979373,40396.95902960816,40365.2428183248,40336.415009321674,40310.51752597683,40287.59229166832,40267.681229774156,40250.826263672396,40237.069316741094,40226.45231235828,40219.01717390197,40214.80582475025,40213.86018828112,40216.222187872656,40221.933746902854,40231.036788749785,40243.573236791504,40259.585014406024,40279.114044971386,40302.202251865645,40328.89155846683,40359.223888153,40393.241164302184,40430.98531029242,40472.49824950173,40517.8219053082,40566.99820108984,40620.06906022469,40677.076406090804,40738.06216206622,40803.06825152896,40872.13659785709,40945.30912442864,41022.62775462166,41104.134411814164,41189.87101938422,41279.87950070985,41374.20177916912,41472.879778140035,41575.95542100066,41683.470631129036,41795.46733190319,41911.987446701176,42033.07289890104,42158.765611880786,42289.10750901851,42424.1405136922,42563.906549279935,42708.44753915974,42857.805406709645,43012.022075307716,43171.13946833196,43335.19950916046,43504.244121171214,43678.31522774231,43857.454752251746,44041.704618077565,44231.106748597835,44425.70306719059,44625.53549723385,44830.64596210568,45041.07638518409,45256.86868984715,45478.064799472886,45704.706637439354,45936.83612712459,46174.495191906615,46417.72575516348,46666.56974027323,46921.069070613914,47181.265669563574,47447.20146050022,47718.918366801925,47996.45831184671,48279.863219012615,48569.1750116777,48864.43561322,49165.686947017544,49472.97093644838,49786.32950489056,50105.80457572208,50431.438072321034,50763.27191806544,51101.34803633334,51445.708350502784,51796.39478395178,52153.44926005841,52516.91370220068,52886.830033756676,53263.24017810439,53646.18605862188,54035.7095986872,54431.85272167838,54834.65735097345,55244.165409950474,55660.41882198747,56083.459510462504,56513.32939875358,56950.070410238775,57393.72446829612,57844.33349630363,58301.93941763939,58766.5841556814,59238.30963380773,59717.157775396394,60203.17050382546,60696.38974247294,61196.8574147169,61704.61544393538,62219.705753506394,62742.17026680801,63272.05090721826,63809.38959811518,64354.22826287681,64906.6088248812,65466.57320750638,66034.16333413041,66609.4211281313,67192.38851288712],\\\"type\\\":\\\"scatter\\\",\\\"x\\\":[\\\"2022-03-13\\\",\\\"2022-03-12\\\",\\\"2022-03-11\\\",\\\"2022-03-10\\\",\\\"2022-03-09\\\",\\\"2022-03-08\\\",\\\"2022-03-07\\\",\\\"2022-03-06\\\",\\\"2022-03-05\\\",\\\"2022-03-04\\\",\\\"2022-03-03\\\",\\\"2022-03-02\\\",\\\"2022-03-01\\\",\\\"2022-02-28\\\",\\\"2022-02-27\\\",\\\"2022-02-26\\\",\\\"2022-02-25\\\",\\\"2022-02-24\\\",\\\"2022-02-23\\\",\\\"2022-02-22\\\",\\\"2022-02-21\\\",\\\"2022-02-20\\\",\\\"2022-02-19\\\",\\\"2022-02-18\\\",\\\"2022-02-17\\\",\\\"2022-02-16\\\",\\\"2022-02-15\\\",\\\"2022-02-14\\\",\\\"2022-02-13\\\",\\\"2022-02-12\\\",\\\"2022-02-11\\\",\\\"2022-02-10\\\",\\\"2022-02-09\\\",\\\"2022-02-08\\\",\\\"2022-02-07\\\",\\\"2022-02-06\\\",\\\"2022-02-05\\\",\\\"2022-02-04\\\",\\\"2022-02-03\\\",\\\"2022-02-02\\\",\\\"2022-02-01\\\",\\\"2022-01-31\\\",\\\"2022-01-30\\\",\\\"2022-01-29\\\",\\\"2022-01-28\\\",\\\"2022-01-27\\\",\\\"2022-01-26\\\",\\\"2022-01-25\\\",\\\"2022-01-24\\\",\\\"2022-01-23\\\",\\\"2022-01-22\\\",\\\"2022-01-21\\\",\\\"2022-01-20\\\",\\\"2022-01-19\\\",\\\"2022-01-18\\\",\\\"2022-01-17\\\",\\\"2022-01-16\\\",\\\"2022-01-15\\\",\\\"2022-01-14\\\",\\\"2022-01-13\\\",\\\"2022-01-12\\\",\\\"2022-01-11\\\",\\\"2022-01-10\\\",\\\"2022-01-09\\\",\\\"2022-01-08\\\",\\\"2022-01-07\\\",\\\"2022-01-06\\\",\\\"2022-01-05\\\",\\\"2022-01-04\\\",\\\"2022-01-03\\\",\\\"2022-01-02\\\",\\\"2022-01-01\\\",\\\"2021-12-31\\\",\\\"2021-12-30\\\",\\\"2021-12-29\\\",\\\"2021-12-28\\\",\\\"2021-12-27\\\",\\\"2021-12-26\\\",\\\"2021-12-25\\\",\\\"2021-12-24\\\",\\\"2021-12-23\\\",\\\"2021-12-22\\\",\\\"2021-12-21\\\",\\\"2021-12-20\\\",\\\"2021-12-19\\\",\\\"2021-12-18\\\",\\\"2021-12-17\\\",\\\"2021-12-16\\\",\\\"2021-12-15\\\",\\\"2021-12-14\\\",\\\"2021-12-13\\\",\\\"2021-12-12\\\",\\\"2021-12-11\\\",\\\"2021-12-10\\\",\\\"2021-12-09\\\",\\\"2021-12-08\\\",\\\"2021-12-07\\\",\\\"2021-12-06\\\",\\\"2021-12-05\\\",\\\"2021-12-04\\\",\\\"2021-12-03\\\",\\\"2021-12-02\\\",\\\"2021-12-01\\\",\\\"2021-11-30\\\",\\\"2021-11-29\\\",\\\"2021-11-28\\\",\\\"2021-11-27\\\",\\\"2021-11-26\\\",\\\"2021-11-25\\\",\\\"2021-11-24\\\",\\\"2021-11-23\\\",\\\"2021-11-22\\\",\\\"2021-11-21\\\",\\\"2021-11-20\\\",\\\"2021-11-19\\\",\\\"2021-11-18\\\",\\\"2021-11-17\\\",\\\"2021-11-16\\\",\\\"2021-11-15\\\",\\\"2021-11-14\\\",\\\"2021-11-13\\\",\\\"2021-11-12\\\",\\\"2021-11-11\\\",\\\"2021-11-10\\\",\\\"2021-11-09\\\",\\\"2021-11-08\\\",\\\"2021-11-07\\\",\\\"2021-11-06\\\",\\\"2021-11-05\\\",\\\"2021-11-04\\\",\\\"2021-11-03\\\",\\\"2021-11-02\\\",\\\"2021-11-01\\\",\\\"2021-10-31\\\",\\\"2021-10-30\\\",\\\"2021-10-29\\\",\\\"2021-10-28\\\",\\\"2021-10-27\\\",\\\"2021-10-26\\\",\\\"2021-10-25\\\",\\\"2021-10-24\\\",\\\"2021-10-23\\\",\\\"2021-10-22\\\",\\\"2021-10-21\\\",\\\"2021-10-20\\\",\\\"2021-10-19\\\",\\\"2021-10-18\\\",\\\"2021-10-17\\\",\\\"2021-10-16\\\",\\\"2021-10-15\\\",\\\"2021-10-14\\\",\\\"2021-10-13\\\",\\\"2021-10-12\\\",\\\"2021-10-11\\\",\\\"2021-10-10\\\",\\\"2021-10-09\\\",\\\"2021-10-08\\\",\\\"2021-10-07\\\",\\\"2021-10-06\\\",\\\"2021-10-05\\\",\\\"2021-10-04\\\",\\\"2021-10-03\\\",\\\"2021-10-02\\\",\\\"2021-10-01\\\",\\\"2021-09-30\\\",\\\"2021-09-29\\\",\\\"2021-09-28\\\",\\\"2021-09-27\\\",\\\"2021-09-26\\\",\\\"2021-09-25\\\",\\\"2021-09-24\\\",\\\"2021-09-23\\\",\\\"2021-09-22\\\",\\\"2021-09-21\\\",\\\"2021-09-20\\\",\\\"2021-09-19\\\",\\\"2021-09-18\\\",\\\"2021-09-17\\\",\\\"2021-09-16\\\",\\\"2021-09-15\\\",\\\"2021-09-14\\\",\\\"2021-09-13\\\",\\\"2021-09-12\\\",\\\"2021-09-11\\\",\\\"2021-09-10\\\",\\\"2021-09-09\\\",\\\"2021-09-08\\\",\\\"2021-09-07\\\",\\\"2021-09-06\\\",\\\"2021-09-05\\\",\\\"2021-09-04\\\",\\\"2021-09-03\\\",\\\"2021-09-02\\\",\\\"2021-09-01\\\",\\\"2021-08-31\\\",\\\"2021-08-30\\\",\\\"2021-08-29\\\",\\\"2021-08-28\\\",\\\"2021-08-27\\\",\\\"2021-08-26\\\",\\\"2021-08-25\\\",\\\"2021-08-24\\\",\\\"2021-08-23\\\",\\\"2021-08-22\\\",\\\"2021-08-21\\\",\\\"2021-08-20\\\",\\\"2021-08-19\\\",\\\"2021-08-18\\\",\\\"2021-08-17\\\",\\\"2021-08-16\\\",\\\"2021-08-15\\\",\\\"2021-08-14\\\",\\\"2021-08-13\\\",\\\"2021-08-12\\\",\\\"2021-08-11\\\",\\\"2021-08-10\\\",\\\"2021-08-09\\\",\\\"2021-08-08\\\",\\\"2021-08-07\\\",\\\"2021-08-06\\\",\\\"2021-08-05\\\",\\\"2021-08-04\\\",\\\"2021-08-03\\\",\\\"2021-08-02\\\",\\\"2021-08-01\\\",\\\"2021-07-31\\\",\\\"2021-07-30\\\",\\\"2021-07-29\\\",\\\"2021-07-28\\\",\\\"2021-07-27\\\",\\\"2021-07-26\\\",\\\"2021-07-25\\\",\\\"2021-07-24\\\",\\\"2021-07-23\\\",\\\"2021-07-22\\\",\\\"2021-07-21\\\",\\\"2021-07-20\\\",\\\"2021-07-19\\\",\\\"2021-07-18\\\",\\\"2021-07-17\\\",\\\"2021-07-16\\\",\\\"2021-07-15\\\",\\\"2021-07-14\\\",\\\"2021-07-13\\\",\\\"2021-07-12\\\",\\\"2021-07-11\\\",\\\"2021-07-10\\\",\\\"2021-07-09\\\",\\\"2021-07-08\\\",\\\"2021-07-07\\\",\\\"2021-07-06\\\",\\\"2021-07-05\\\",\\\"2021-07-04\\\",\\\"2021-07-03\\\",\\\"2021-07-02\\\",\\\"2021-07-01\\\",\\\"2021-06-30\\\",\\\"2021-06-29\\\",\\\"2021-06-28\\\",\\\"2021-06-27\\\",\\\"2021-06-26\\\",\\\"2021-06-25\\\",\\\"2021-06-24\\\",\\\"2021-06-23\\\",\\\"2021-06-22\\\",\\\"2021-06-21\\\",\\\"2021-06-20\\\",\\\"2021-06-19\\\",\\\"2021-06-18\\\",\\\"2021-06-17\\\",\\\"2021-06-16\\\",\\\"2021-06-15\\\",\\\"2021-06-14\\\",\\\"2021-06-13\\\",\\\"2021-06-12\\\",\\\"2021-06-11\\\",\\\"2021-06-10\\\",\\\"2021-06-09\\\",\\\"2021-06-08\\\",\\\"2021-06-07\\\",\\\"2021-06-06\\\",\\\"2021-06-05\\\",\\\"2021-06-04\\\",\\\"2021-06-03\\\",\\\"2021-06-02\\\",\\\"2021-06-01\\\",\\\"2021-05-31\\\",\\\"2021-05-30\\\",\\\"2021-05-29\\\",\\\"2021-05-28\\\",\\\"2021-05-27\\\",\\\"2021-05-26\\\",\\\"2021-05-25\\\",\\\"2021-05-24\\\",\\\"2021-05-23\\\",\\\"2021-05-22\\\",\\\"2021-05-21\\\",\\\"2021-05-20\\\",\\\"2021-05-19\\\",\\\"2021-05-18\\\",\\\"2021-05-17\\\",\\\"2021-05-16\\\",\\\"2021-05-15\\\",\\\"2021-05-14\\\",\\\"2021-05-13\\\",\\\"2021-05-12\\\",\\\"2021-05-11\\\",\\\"2021-05-10\\\",\\\"2021-05-09\\\",\\\"2021-05-08\\\",\\\"2021-05-07\\\",\\\"2021-05-06\\\",\\\"2021-05-05\\\",\\\"2021-05-04\\\",\\\"2021-05-03\\\",\\\"2021-05-02\\\",\\\"2021-05-01\\\",\\\"2021-04-30\\\",\\\"2021-04-29\\\",\\\"2021-04-28\\\",\\\"2021-04-27\\\",\\\"2021-04-26\\\",\\\"2021-04-25\\\",\\\"2021-04-24\\\",\\\"2021-04-23\\\",\\\"2021-04-22\\\",\\\"2021-04-21\\\",\\\"2021-04-20\\\",\\\"2021-04-19\\\",\\\"2021-04-18\\\",\\\"2021-04-17\\\",\\\"2021-04-16\\\",\\\"2021-04-15\\\",\\\"2021-04-14\\\",\\\"2021-04-13\\\",\\\"2021-04-12\\\",\\\"2021-04-11\\\",\\\"2021-04-10\\\",\\\"2021-04-09\\\",\\\"2021-04-08\\\",\\\"2021-04-07\\\",\\\"2021-04-06\\\",\\\"2021-04-05\\\",\\\"2021-04-04\\\",\\\"2021-04-03\\\",\\\"2021-04-02\\\",\\\"2021-04-01\\\",\\\"2021-03-31\\\",\\\"2021-03-30\\\",\\\"2021-03-29\\\",\\\"2021-03-28\\\",\\\"2021-03-27\\\",\\\"2021-03-26\\\",\\\"2021-03-25\\\",\\\"2021-03-24\\\",\\\"2021-03-23\\\",\\\"2021-03-22\\\",\\\"2021-03-21\\\",\\\"2021-03-20\\\",\\\"2021-03-19\\\",\\\"2021-03-18\\\",\\\"2021-03-17\\\",\\\"2021-03-16\\\",\\\"2021-03-15\\\",\\\"2021-03-14\\\",\\\"2021-03-13\\\",\\\"2021-03-12\\\",\\\"2021-03-11\\\"]},{\\\"y\\\":[32108.47316050314,32471.206583513558,32831.23598515452,33188.540788446495,33543.10075981796,33894.896009105985,34243.9069895561,34590.11449782294,34933.499673968734,35274.04400146546,35611.72930719261,35946.53776143893,36278.45187790156,36607.45451368569,36933.528869305825,37256.65848868442,37576.827259153215,37894.01941145153,38208.21951972818,38519.412501540006,38827.58361785242,39132.71847303977,39434.80301488447,39733.823534578,40029.76666671978,40322.619389318366,40612.36902379073,40899.00323496212,41182.51003106678,41462.87776374709,41740.095128054236,42014.151162448165,42285.03524879669,42552.73711237704,42817.246821874374,43078.55478938273,43336.65177040451,43591.52886385092,43843.17751204144,44091.58950070443,44336.75695897659,44578.67235940305,44817.32851793786,45052.7185939434,45284.83609019048,45513.67485285897,45739.229071536916,45961.4932792208,46180.46235231607,46396.131510636245,46608.49631740403,46817.55267924999,47023.29684621375,47225.72541174354,47424.83531269556,47620.62382933538,47813.08858533643,48002.22754778102,48188.03902716012,48370.521677373006,48549.67449572774,48725.4968229408,48897.9883431373,49067.14908385073,49232.97941602336,49395.480054006126,49554.65205555818,49710.49682184738,49863.016097450425,50012.21197035184,50158.08687194571,50300.64357703386,50439.88520382707,50575.815213944516,50708.43741241419,50837.755947672296,50963.77531156383,51086.50033934211,51205.9362096695,51322.088444616296,51434.962909661874,51544.56581369392,51650.90370900878,51753.98349131126,51853.812399714836,51950.398016741194,52043.748268321186,52133.87142379384,52220.77609590677,52304.47124081626,52384.96615808703,52462.270490692375,52536.39422501426,52607.34769084332,52675.14156137817,52739.78685322672,52801.29492640501,52859.677484337735,52914.94657385809,52967.11458520821,53016.194252038054,53062.19865140677,53105.141203781925,53145.03567303959,53181.89616646427,53215.73713474913,53246.573371996026,53274.420015715325,53299.29254682574,53321.206789654876,53340.17891193851,53356.22542482142,53369.36318285656,53379.60938400561,53386.98156963892,53391.497624535245,53393.17577688181,53392.03459827473,53388.09300371837,53381.37025162571,53371.88594381848,53359.66002552678,53344.712785389325,53327.06485545342,53306.73721117491,53283.75117141813,53258.12839845612,53229.89089797035,53199.06101905096,53165.661454196495,53129.715239314275,53091.24575372002,53050.27672013805,53006.83220470126,52960.93661695112,52912.614709837566,52861.891579719246,52808.79266636323,52753.34375294522,52695.57096604952,52635.5007756689,52573.15999520473,52508.575781467014,52441.77563467407,52372.78739845308,52301.63925983966,52228.359749277945,52152.97774062078,52075.52245112924,51996.02344147342,51914.510615731684,51831.01422139085,51745.56484934657,51658.19343390301,51568.931252772716,51477.80992707699,51384.861421345544,51290.1180435168,51193.61244493765,51095.37762036346,50995.44690795832,50893.8539892948,50790.63288935414,50685.81797652592,50579.44396260847,50471.54590280857,50362.159195741726,50251.319583431716,50139.06315131119,50025.42632822115,49910.445886411224,49794.15894153957,49676.602952673056,49557.81572228695,49437.83539626511,49316.700463899935,49194.44975789243,49071.122454352255,48946.75807279738,48821.39647615452,48695.077870759,48567.84280635455,48439.732176093516,48310.787216536846,48181.04950765397,48050.56097282301,47919.36387883051,47787.500835871644,47655.01479755016,47521.9490608783,47388.347266276956,47254.25339757548,47119.71178201186,46984.767090232606,46849.46433629284,46713.848877656186,46577.96641519486,46441.86299318963,46305.58499932983,46169.17916471334,46032.692563846605,45896.172614644616,45759.667078431004,45623.22405993788,45486.89200730589,45350.71971208438,45214.75630923104,45079.05127711238,44943.654437503195,44808.61595558708,44673.986339956085,44539.81644261081,44406.15745896041,44273.06092782269,44140.57873142386,44008.763095398856,43877.666588791035,43747.34212405242,43617.842957043555,43489.22268703353,43361.53525669999,43234.8349521292,43109.176402815916,42984.6145816635,42861.20480498382,42739.00273249743,42618.06436733323,42498.446056028915,42380.20448853058,42263.39669819297,42148.0800617793,42034.31229946146,41922.151474819795,41811.6559948433,41702.88460992944,41595.896413884315,41490.750843922586,41387.50768066733,41286.22704815047,41186.96941381223,41089.79558850145,40994.76672647566,40901.944325400815,40811.39022635145,40723.16661381069,40637.336015670226,40553.96130323033,40473.10569119976,40394.83273769588,40319.206344244594,40246.29075578044,40176.15056064643,40108.85069059418,40044.45642078381,39983.03336978411,39924.647499572355,39869.36511553431,39817.25286646448,39768.3777445658,39722.80708544982,39680.60856813657,39641.85021505472,39606.60039204154,39574.92780834276,39546.901516612656,39522.5909129142,39502.06573671882,39485.396070906536,39472.65234176588,39463.90531899406,39459.22611569671,39458.6861883881,39462.35733699108,39470.31170483696,39482.62177866577,39499.360388625944,39520.600708274535,39546.41625457719,39576.880887908104,39612.06881204999,39652.05457419414,39696.91306494044,39746.71951829734,39801.54951168177,39861.4789659193,39926.58414524402,39996.94165729862,40072.628453134326,40153.72182721088,40240.299417396694,40332.43920496864,40430.21951461219,40533.71901442138,40643.016715898804,40758.191973955596,40879.32448691147,41006.49429649472,41139.78178784216,41279.26768949918,41425.03307341975,41577.159354966396,41735.72829291016,41900.821989430704,42072.52289011621,42250.913783963435,42436.0778033777,42628.0984241729,42827.059465571445,43033.04509020436,43246.13980411119,43466.42845674008,43693.99624094768,43928.928692999245,44171.31169256859,44421.23146273807,44678.77456999861,44944.0279242497,45217.07877879938,45498.014730364244,45786.92371906948,46083.8940284488,46389.014285444515,46702.373460407456,47024.06086709703,47354.16616268123,47692.77934773655,48039.99076624811,48395.89110560957,48760.57139662313,49134.123013499535,49516.637673858175,49908.2074387269,50308.92471254218,50718.88224314904,51138.173121801054,51566.89078316033,52005.12900529761,52452.98190969216,52910.543961231735,53377.90996821278,53855.1750823402,54342.4347987275,54839.78495589675,55347.32173577857,55865.14166371215,56393.34160844523,56932.01878213411,57481.27074034367,58041.1953820473,58611.89094962703,59193.45602887338,59785.98954898546,60389.590782570966,61004.35934564607,61630.39519763563,62267.79864137295,62916.67032309996,63577.11123246711,64249.22270253348,64933.10640976661,65628.86437404268,66336.59895864638,67056.41287027104,67788.40915901844,68532.691218399,69289.36278533167,70058.52794014398,70840.291106572],\\\"type\\\":\\\"scatter\\\",\\\"x\\\":[\\\"2022-03-13\\\",\\\"2022-03-12\\\",\\\"2022-03-11\\\",\\\"2022-03-10\\\",\\\"2022-03-09\\\",\\\"2022-03-08\\\",\\\"2022-03-07\\\",\\\"2022-03-06\\\",\\\"2022-03-05\\\",\\\"2022-03-04\\\",\\\"2022-03-03\\\",\\\"2022-03-02\\\",\\\"2022-03-01\\\",\\\"2022-02-28\\\",\\\"2022-02-27\\\",\\\"2022-02-26\\\",\\\"2022-02-25\\\",\\\"2022-02-24\\\",\\\"2022-02-23\\\",\\\"2022-02-22\\\",\\\"2022-02-21\\\",\\\"2022-02-20\\\",\\\"2022-02-19\\\",\\\"2022-02-18\\\",\\\"2022-02-17\\\",\\\"2022-02-16\\\",\\\"2022-02-15\\\",\\\"2022-02-14\\\",\\\"2022-02-13\\\",\\\"2022-02-12\\\",\\\"2022-02-11\\\",\\\"2022-02-10\\\",\\\"2022-02-09\\\",\\\"2022-02-08\\\",\\\"2022-02-07\\\",\\\"2022-02-06\\\",\\\"2022-02-05\\\",\\\"2022-02-04\\\",\\\"2022-02-03\\\",\\\"2022-02-02\\\",\\\"2022-02-01\\\",\\\"2022-01-31\\\",\\\"2022-01-30\\\",\\\"2022-01-29\\\",\\\"2022-01-28\\\",\\\"2022-01-27\\\",\\\"2022-01-26\\\",\\\"2022-01-25\\\",\\\"2022-01-24\\\",\\\"2022-01-23\\\",\\\"2022-01-22\\\",\\\"2022-01-21\\\",\\\"2022-01-20\\\",\\\"2022-01-19\\\",\\\"2022-01-18\\\",\\\"2022-01-17\\\",\\\"2022-01-16\\\",\\\"2022-01-15\\\",\\\"2022-01-14\\\",\\\"2022-01-13\\\",\\\"2022-01-12\\\",\\\"2022-01-11\\\",\\\"2022-01-10\\\",\\\"2022-01-09\\\",\\\"2022-01-08\\\",\\\"2022-01-07\\\",\\\"2022-01-06\\\",\\\"2022-01-05\\\",\\\"2022-01-04\\\",\\\"2022-01-03\\\",\\\"2022-01-02\\\",\\\"2022-01-01\\\",\\\"2021-12-31\\\",\\\"2021-12-30\\\",\\\"2021-12-29\\\",\\\"2021-12-28\\\",\\\"2021-12-27\\\",\\\"2021-12-26\\\",\\\"2021-12-25\\\",\\\"2021-12-24\\\",\\\"2021-12-23\\\",\\\"2021-12-22\\\",\\\"2021-12-21\\\",\\\"2021-12-20\\\",\\\"2021-12-19\\\",\\\"2021-12-18\\\",\\\"2021-12-17\\\",\\\"2021-12-16\\\",\\\"2021-12-15\\\",\\\"2021-12-14\\\",\\\"2021-12-13\\\",\\\"2021-12-12\\\",\\\"2021-12-11\\\",\\\"2021-12-10\\\",\\\"2021-12-09\\\",\\\"2021-12-08\\\",\\\"2021-12-07\\\",\\\"2021-12-06\\\",\\\"2021-12-05\\\",\\\"2021-12-04\\\",\\\"2021-12-03\\\",\\\"2021-12-02\\\",\\\"2021-12-01\\\",\\\"2021-11-30\\\",\\\"2021-11-29\\\",\\\"2021-11-28\\\",\\\"2021-11-27\\\",\\\"2021-11-26\\\",\\\"2021-11-25\\\",\\\"2021-11-24\\\",\\\"2021-11-23\\\",\\\"2021-11-22\\\",\\\"2021-11-21\\\",\\\"2021-11-20\\\",\\\"2021-11-19\\\",\\\"2021-11-18\\\",\\\"2021-11-17\\\",\\\"2021-11-16\\\",\\\"2021-11-15\\\",\\\"2021-11-14\\\",\\\"2021-11-13\\\",\\\"2021-11-12\\\",\\\"2021-11-11\\\",\\\"2021-11-10\\\",\\\"2021-11-09\\\",\\\"2021-11-08\\\",\\\"2021-11-07\\\",\\\"2021-11-06\\\",\\\"2021-11-05\\\",\\\"2021-11-04\\\",\\\"2021-11-03\\\",\\\"2021-11-02\\\",\\\"2021-11-01\\\",\\\"2021-10-31\\\",\\\"2021-10-30\\\",\\\"2021-10-29\\\",\\\"2021-10-28\\\",\\\"2021-10-27\\\",\\\"2021-10-26\\\",\\\"2021-10-25\\\",\\\"2021-10-24\\\",\\\"2021-10-23\\\",\\\"2021-10-22\\\",\\\"2021-10-21\\\",\\\"2021-10-20\\\",\\\"2021-10-19\\\",\\\"2021-10-18\\\",\\\"2021-10-17\\\",\\\"2021-10-16\\\",\\\"2021-10-15\\\",\\\"2021-10-14\\\",\\\"2021-10-13\\\",\\\"2021-10-12\\\",\\\"2021-10-11\\\",\\\"2021-10-10\\\",\\\"2021-10-09\\\",\\\"2021-10-08\\\",\\\"2021-10-07\\\",\\\"2021-10-06\\\",\\\"2021-10-05\\\",\\\"2021-10-04\\\",\\\"2021-10-03\\\",\\\"2021-10-02\\\",\\\"2021-10-01\\\",\\\"2021-09-30\\\",\\\"2021-09-29\\\",\\\"2021-09-28\\\",\\\"2021-09-27\\\",\\\"2021-09-26\\\",\\\"2021-09-25\\\",\\\"2021-09-24\\\",\\\"2021-09-23\\\",\\\"2021-09-22\\\",\\\"2021-09-21\\\",\\\"2021-09-20\\\",\\\"2021-09-19\\\",\\\"2021-09-18\\\",\\\"2021-09-17\\\",\\\"2021-09-16\\\",\\\"2021-09-15\\\",\\\"2021-09-14\\\",\\\"2021-09-13\\\",\\\"2021-09-12\\\",\\\"2021-09-11\\\",\\\"2021-09-10\\\",\\\"2021-09-09\\\",\\\"2021-09-08\\\",\\\"2021-09-07\\\",\\\"2021-09-06\\\",\\\"2021-09-05\\\",\\\"2021-09-04\\\",\\\"2021-09-03\\\",\\\"2021-09-02\\\",\\\"2021-09-01\\\",\\\"2021-08-31\\\",\\\"2021-08-30\\\",\\\"2021-08-29\\\",\\\"2021-08-28\\\",\\\"2021-08-27\\\",\\\"2021-08-26\\\",\\\"2021-08-25\\\",\\\"2021-08-24\\\",\\\"2021-08-23\\\",\\\"2021-08-22\\\",\\\"2021-08-21\\\",\\\"2021-08-20\\\",\\\"2021-08-19\\\",\\\"2021-08-18\\\",\\\"2021-08-17\\\",\\\"2021-08-16\\\",\\\"2021-08-15\\\",\\\"2021-08-14\\\",\\\"2021-08-13\\\",\\\"2021-08-12\\\",\\\"2021-08-11\\\",\\\"2021-08-10\\\",\\\"2021-08-09\\\",\\\"2021-08-08\\\",\\\"2021-08-07\\\",\\\"2021-08-06\\\",\\\"2021-08-05\\\",\\\"2021-08-04\\\",\\\"2021-08-03\\\",\\\"2021-08-02\\\",\\\"2021-08-01\\\",\\\"2021-07-31\\\",\\\"2021-07-30\\\",\\\"2021-07-29\\\",\\\"2021-07-28\\\",\\\"2021-07-27\\\",\\\"2021-07-26\\\",\\\"2021-07-25\\\",\\\"2021-07-24\\\",\\\"2021-07-23\\\",\\\"2021-07-22\\\",\\\"2021-07-21\\\",\\\"2021-07-20\\\",\\\"2021-07-19\\\",\\\"2021-07-18\\\",\\\"2021-07-17\\\",\\\"2021-07-16\\\",\\\"2021-07-15\\\",\\\"2021-07-14\\\",\\\"2021-07-13\\\",\\\"2021-07-12\\\",\\\"2021-07-11\\\",\\\"2021-07-10\\\",\\\"2021-07-09\\\",\\\"2021-07-08\\\",\\\"2021-07-07\\\",\\\"2021-07-06\\\",\\\"2021-07-05\\\",\\\"2021-07-04\\\",\\\"2021-07-03\\\",\\\"2021-07-02\\\",\\\"2021-07-01\\\",\\\"2021-06-30\\\",\\\"2021-06-29\\\",\\\"2021-06-28\\\",\\\"2021-06-27\\\",\\\"2021-06-26\\\",\\\"2021-06-25\\\",\\\"2021-06-24\\\",\\\"2021-06-23\\\",\\\"2021-06-22\\\",\\\"2021-06-21\\\",\\\"2021-06-20\\\",\\\"2021-06-19\\\",\\\"2021-06-18\\\",\\\"2021-06-17\\\",\\\"2021-06-16\\\",\\\"2021-06-15\\\",\\\"2021-06-14\\\",\\\"2021-06-13\\\",\\\"2021-06-12\\\",\\\"2021-06-11\\\",\\\"2021-06-10\\\",\\\"2021-06-09\\\",\\\"2021-06-08\\\",\\\"2021-06-07\\\",\\\"2021-06-06\\\",\\\"2021-06-05\\\",\\\"2021-06-04\\\",\\\"2021-06-03\\\",\\\"2021-06-02\\\",\\\"2021-06-01\\\",\\\"2021-05-31\\\",\\\"2021-05-30\\\",\\\"2021-05-29\\\",\\\"2021-05-28\\\",\\\"2021-05-27\\\",\\\"2021-05-26\\\",\\\"2021-05-25\\\",\\\"2021-05-24\\\",\\\"2021-05-23\\\",\\\"2021-05-22\\\",\\\"2021-05-21\\\",\\\"2021-05-20\\\",\\\"2021-05-19\\\",\\\"2021-05-18\\\",\\\"2021-05-17\\\",\\\"2021-05-16\\\",\\\"2021-05-15\\\",\\\"2021-05-14\\\",\\\"2021-05-13\\\",\\\"2021-05-12\\\",\\\"2021-05-11\\\",\\\"2021-05-10\\\",\\\"2021-05-09\\\",\\\"2021-05-08\\\",\\\"2021-05-07\\\",\\\"2021-05-06\\\",\\\"2021-05-05\\\",\\\"2021-05-04\\\",\\\"2021-05-03\\\",\\\"2021-05-02\\\",\\\"2021-05-01\\\",\\\"2021-04-30\\\",\\\"2021-04-29\\\",\\\"2021-04-28\\\",\\\"2021-04-27\\\",\\\"2021-04-26\\\",\\\"2021-04-25\\\",\\\"2021-04-24\\\",\\\"2021-04-23\\\",\\\"2021-04-22\\\",\\\"2021-04-21\\\",\\\"2021-04-20\\\",\\\"2021-04-19\\\",\\\"2021-04-18\\\",\\\"2021-04-17\\\",\\\"2021-04-16\\\",\\\"2021-04-15\\\",\\\"2021-04-14\\\",\\\"2021-04-13\\\",\\\"2021-04-12\\\",\\\"2021-04-11\\\",\\\"2021-04-10\\\",\\\"2021-04-09\\\",\\\"2021-04-08\\\",\\\"2021-04-07\\\",\\\"2021-04-06\\\",\\\"2021-04-05\\\",\\\"2021-04-04\\\",\\\"2021-04-03\\\",\\\"2021-04-02\\\",\\\"2021-04-01\\\",\\\"2021-03-31\\\",\\\"2021-03-30\\\",\\\"2021-03-29\\\",\\\"2021-03-28\\\",\\\"2021-03-27\\\",\\\"2021-03-26\\\",\\\"2021-03-25\\\",\\\"2021-03-24\\\",\\\"2021-03-23\\\",\\\"2021-03-22\\\",\\\"2021-03-21\\\",\\\"2021-03-20\\\",\\\"2021-03-19\\\",\\\"2021-03-18\\\",\\\"2021-03-17\\\",\\\"2021-03-16\\\",\\\"2021-03-15\\\",\\\"2021-03-14\\\",\\\"2021-03-13\\\",\\\"2021-03-12\\\",\\\"2021-03-11\\\"]},{\\\"y\\\":[47063.575258966535,46203.820772019215,45388.1240963256,44615.43973802589,43884.735217343085,43194.99099877477,42545.20042128302,41934.36962848157,41361.51749882288,40825.67557578813,40325.887998082675,39861.211429812945,39430.714990686625,39033.48018619791,38668.600837817416,38335.18301317468,38032.34495626204,37759.21701760311,37514.94158446416,37298.673011025414,37109.57754858211,36946.83327572234,36809.63002853189,36697.16933076363,36608.66432404332,36543.3396980511,36500.43162071146,36479.187668384984,36478.86675605178,36498.73906750325,36538.08598553948,36596.20002214238,36672.38474867726,36765.95472607901,36876.23543503741,37002.56320619071,37144.28515031375,37300.75908850273,37471.35348237492,37655.44736424554,37852.430267320015,38061.70215589274,38282.6733555235,38514.76448323298,38757.40637768945,39010.040029401425,39272.11651090346,39543.0969069479,39822.45224468643,40109.663423873484,40404.22114704177,40705.62584969867,41013.38763051201,41327.02618150134,41646.07071822509,41970.05990997329,42298.541809950955,42631.07378547313,42967.222448149696,43306.563584076706,43648.68208402628,43993.171873630956,44339.63584358012,44687.68577980017,45036.94229365559,45387.03475212492,45737.60120799765,46088.288330064155,46438.75133329956,46788.653909057844,47137.668155257124,47485.47450657096,47831.76166461874,48176.22652815003,48518.57412323868,48858.517533469014,49195.777830126695,49530.084002384916,49861.172887499444,50188.78910099156,50512.68496683892,50832.62044766545,51148.36307493225,51459.68787912186,51766.377319932915,52068.22121646535,52365.01667741127,52656.568031241186,52942.68675639853,53223.19141148543,53497.90756544983,53766.66772778006,54029.311278688256,54285.68439930258,54535.64000185719,54779.03765987791,55015.74353837455,55245.63032402913,55468.57715538354,55684.46955303033,55893.19934980245,56094.6646209599,56288.769614380086,56475.42468074709,56654.546203741804,56826.05653022905,56989.88390044798,57145.96237820038,57294.231781040784,57434.63761046389,57567.130982096074,57691.66855588346,57808.212466279045,57916.7302524352,58017.19478839077,58109.58421325986,58193.88186142268,58270.07619271288,58338.16072260868,58398.13395241927,58449.999299475225,58493.76502731978,58529.444175893674,58557.05449172878,58576.618358132895,58588.16272538225,58591.719040908385,58587.32317948947,58575.015373436734,58554.84014278604,58526.84622548544,58491.0865075849,58447.61795342597,58396.50153582846,58337.80216628406,58271.588625139324,58197.93349179183,58116.913074873155,58028.607342440635,57933.099852168,57830.47768153087,57720.83135799912,57604.25478922506,57480.845193229616,57350.70302859775,57213.93192466092,57070.63861169049,56920.93285108451,56764.92736555915,56602.73776933551,56434.482498329715,56260.282740342314,56080.26236524666,55894.547855179175,55703.26823472674,55506.555001117755,55304.542054409976,55097.36562767939,54885.16421721096,54668.07851268526,54446.25132737076,54219.82752830966,53988.953966509085,53753.77940712997,53514.45445967547,53271.13150818064,53023.96464140108,52773.10958300228,52518.72362174932,52260.965541695245,51999.995552369975,51735.975218970445,51469.06739254866,51199.43614020152,50927.246675259084,50652.66528747522,50375.85927321494,50096.99686564505,49816.24716492172,49533.780068381224,49249.76620072778,48964.37684422347,48677.78386887687,48390.15966263233,48101.6770615587,47812.50928003981,47522.82984096161,47232.8125059029,46942.63120532362,46652.45996875415,46362.472854984284,46072.84388225316,45783.746958436735,45495.355811238755,45207.84391837864,44921.38443778071,44636.15013776411,44352.31332723086,44070.04578585585,43789.51869427529,43510.9025642763,43234.367168985715,42960.081473059196,42688.213562870864,42418.93057670194,42152.39863492956,41888.782770216465,41628.24685770011,41370.95354518149,41117.064183314156,40866.73875579366,40620.135809546744,40377.412384919764,40138.72394586878,39904.22431014804,39674.06557949894,39448.398069839925,39227.37024145448,39011.12862918162,38799.81777260371,38593.5801462362,38392.556089716934,38196.88373799471,38006.6989515188,37822.13524642805,37643.32372473963,37470.393004538695,37303.469150167075,37142.67560241243,36988.133108697686,36839.95965326976,36698.27038738897,36563.177559517906,36434.79044551068,36313.21527880209,36198.555180596624,36090.910090057645,35990.37669449637,35897.048359561115,35811.01505942663,35732.36330698266,35661.17608402349,35597.53277143698,35541.50907939351,35493.17697753542,35452.60462516578,35419.85630143764,35394.99233554315,35378.06903690289,35369.138625354506,35368.249161342304,35375.44447610591,35390.76410186995,35414.24320203248,35445.91250135485,35485.798216150084,35533.92198447259,35590.30079630694,35654.94692375699,35727.86785123519,35809.066205651594,35898.53968660286,35996.28099656155,36102.2777710652,36216.51250890532,36338.96250231656,36469.599767166,36608.39097314199,36755.297373943424,36910.27473746883,37073.2732760055,37244.23757641853,37423.10653034004,37609.8132643582,37804.28507020639,38006.44333495228,38216.20347118703,38433.47484721433,38658.16071723943,38890.158151558484,39129.35796674743,39375.64465585131,39628.896318573185,39888.984591463435,40155.774578108656,40429.12477932105,40708.887023327305,40994.90639595782,41287.02117083581,41585.06273956641,41888.85554192575,42198.216996050134,42512.95742862516,42832.88000507472,43157.780659750264,43487.44802611983,43821.6633669572,44160.20050453092,44502.82575079356,44849.29783757073,45199.36784675018,45552.77914047103,45909.26729131273,46268.56001248429,46630.37708801335,46994.430302935325,47360.423373482445,47728.05187727296,48097.003183500216,48466.95638312174,48837.5822190484,49208.54301633351,49579.49261236192,49950.07628703916,50319.930692980546,50688.68378570026,51055.95475380054,51421.35394916073,51784.48281712639,52144.933826698485,52502.2904007224,52856.126846077146,53206.0082838644,53551.49057959767,53892.120273391374,54227.43451015002,54556.96096975721,54880.21779726486,55196.713533082235,55505.94704316516,55807.40744920501,56100.57405881795,56384.91629573393,56659.89362998589,56924.95550809886,57179.54128327902,57423.08014560288,57654.99105220636,57874.68265747392,58081.55324322764,58274.990648916384,58454.372201804894,58619.06464716287,58768.424078454176,58901.79586752582,59018.51459479722,59117.903979449184,59199.27680961311,59261.934872560065,59305.16888488991,59328.25842272041,59330.47185187636,59311.066258078696,59269.287377133565,59204.36952512153,59115.53552858661,59001.99665472541,58862.95254157624,58697.591128208274,58505.08858491057,58284.60924338126,58035.30552691667,57756.31788060036,57446.77470149233,57105.79226881805,56732.47467415764,56325.91375163495,55885.189008106696],\\\"type\\\":\\\"scatter\\\",\\\"x\\\":[\\\"2022-03-13\\\",\\\"2022-03-12\\\",\\\"2022-03-11\\\",\\\"2022-03-10\\\",\\\"2022-03-09\\\",\\\"2022-03-08\\\",\\\"2022-03-07\\\",\\\"2022-03-06\\\",\\\"2022-03-05\\\",\\\"2022-03-04\\\",\\\"2022-03-03\\\",\\\"2022-03-02\\\",\\\"2022-03-01\\\",\\\"2022-02-28\\\",\\\"2022-02-27\\\",\\\"2022-02-26\\\",\\\"2022-02-25\\\",\\\"2022-02-24\\\",\\\"2022-02-23\\\",\\\"2022-02-22\\\",\\\"2022-02-21\\\",\\\"2022-02-20\\\",\\\"2022-02-19\\\",\\\"2022-02-18\\\",\\\"2022-02-17\\\",\\\"2022-02-16\\\",\\\"2022-02-15\\\",\\\"2022-02-14\\\",\\\"2022-02-13\\\",\\\"2022-02-12\\\",\\\"2022-02-11\\\",\\\"2022-02-10\\\",\\\"2022-02-09\\\",\\\"2022-02-08\\\",\\\"2022-02-07\\\",\\\"2022-02-06\\\",\\\"2022-02-05\\\",\\\"2022-02-04\\\",\\\"2022-02-03\\\",\\\"2022-02-02\\\",\\\"2022-02-01\\\",\\\"2022-01-31\\\",\\\"2022-01-30\\\",\\\"2022-01-29\\\",\\\"2022-01-28\\\",\\\"2022-01-27\\\",\\\"2022-01-26\\\",\\\"2022-01-25\\\",\\\"2022-01-24\\\",\\\"2022-01-23\\\",\\\"2022-01-22\\\",\\\"2022-01-21\\\",\\\"2022-01-20\\\",\\\"2022-01-19\\\",\\\"2022-01-18\\\",\\\"2022-01-17\\\",\\\"2022-01-16\\\",\\\"2022-01-15\\\",\\\"2022-01-14\\\",\\\"2022-01-13\\\",\\\"2022-01-12\\\",\\\"2022-01-11\\\",\\\"2022-01-10\\\",\\\"2022-01-09\\\",\\\"2022-01-08\\\",\\\"2022-01-07\\\",\\\"2022-01-06\\\",\\\"2022-01-05\\\",\\\"2022-01-04\\\",\\\"2022-01-03\\\",\\\"2022-01-02\\\",\\\"2022-01-01\\\",\\\"2021-12-31\\\",\\\"2021-12-30\\\",\\\"2021-12-29\\\",\\\"2021-12-28\\\",\\\"2021-12-27\\\",\\\"2021-12-26\\\",\\\"2021-12-25\\\",\\\"2021-12-24\\\",\\\"2021-12-23\\\",\\\"2021-12-22\\\",\\\"2021-12-21\\\",\\\"2021-12-20\\\",\\\"2021-12-19\\\",\\\"2021-12-18\\\",\\\"2021-12-17\\\",\\\"2021-12-16\\\",\\\"2021-12-15\\\",\\\"2021-12-14\\\",\\\"2021-12-13\\\",\\\"2021-12-12\\\",\\\"2021-12-11\\\",\\\"2021-12-10\\\",\\\"2021-12-09\\\",\\\"2021-12-08\\\",\\\"2021-12-07\\\",\\\"2021-12-06\\\",\\\"2021-12-05\\\",\\\"2021-12-04\\\",\\\"2021-12-03\\\",\\\"2021-12-02\\\",\\\"2021-12-01\\\",\\\"2021-11-30\\\",\\\"2021-11-29\\\",\\\"2021-11-28\\\",\\\"2021-11-27\\\",\\\"2021-11-26\\\",\\\"2021-11-25\\\",\\\"2021-11-24\\\",\\\"2021-11-23\\\",\\\"2021-11-22\\\",\\\"2021-11-21\\\",\\\"2021-11-20\\\",\\\"2021-11-19\\\",\\\"2021-11-18\\\",\\\"2021-11-17\\\",\\\"2021-11-16\\\",\\\"2021-11-15\\\",\\\"2021-11-14\\\",\\\"2021-11-13\\\",\\\"2021-11-12\\\",\\\"2021-11-11\\\",\\\"2021-11-10\\\",\\\"2021-11-09\\\",\\\"2021-11-08\\\",\\\"2021-11-07\\\",\\\"2021-11-06\\\",\\\"2021-11-05\\\",\\\"2021-11-04\\\",\\\"2021-11-03\\\",\\\"2021-11-02\\\",\\\"2021-11-01\\\",\\\"2021-10-31\\\",\\\"2021-10-30\\\",\\\"2021-10-29\\\",\\\"2021-10-28\\\",\\\"2021-10-27\\\",\\\"2021-10-26\\\",\\\"2021-10-25\\\",\\\"2021-10-24\\\",\\\"2021-10-23\\\",\\\"2021-10-22\\\",\\\"2021-10-21\\\",\\\"2021-10-20\\\",\\\"2021-10-19\\\",\\\"2021-10-18\\\",\\\"2021-10-17\\\",\\\"2021-10-16\\\",\\\"2021-10-15\\\",\\\"2021-10-14\\\",\\\"2021-10-13\\\",\\\"2021-10-12\\\",\\\"2021-10-11\\\",\\\"2021-10-10\\\",\\\"2021-10-09\\\",\\\"2021-10-08\\\",\\\"2021-10-07\\\",\\\"2021-10-06\\\",\\\"2021-10-05\\\",\\\"2021-10-04\\\",\\\"2021-10-03\\\",\\\"2021-10-02\\\",\\\"2021-10-01\\\",\\\"2021-09-30\\\",\\\"2021-09-29\\\",\\\"2021-09-28\\\",\\\"2021-09-27\\\",\\\"2021-09-26\\\",\\\"2021-09-25\\\",\\\"2021-09-24\\\",\\\"2021-09-23\\\",\\\"2021-09-22\\\",\\\"2021-09-21\\\",\\\"2021-09-20\\\",\\\"2021-09-19\\\",\\\"2021-09-18\\\",\\\"2021-09-17\\\",\\\"2021-09-16\\\",\\\"2021-09-15\\\",\\\"2021-09-14\\\",\\\"2021-09-13\\\",\\\"2021-09-12\\\",\\\"2021-09-11\\\",\\\"2021-09-10\\\",\\\"2021-09-09\\\",\\\"2021-09-08\\\",\\\"2021-09-07\\\",\\\"2021-09-06\\\",\\\"2021-09-05\\\",\\\"2021-09-04\\\",\\\"2021-09-03\\\",\\\"2021-09-02\\\",\\\"2021-09-01\\\",\\\"2021-08-31\\\",\\\"2021-08-30\\\",\\\"2021-08-29\\\",\\\"2021-08-28\\\",\\\"2021-08-27\\\",\\\"2021-08-26\\\",\\\"2021-08-25\\\",\\\"2021-08-24\\\",\\\"2021-08-23\\\",\\\"2021-08-22\\\",\\\"2021-08-21\\\",\\\"2021-08-20\\\",\\\"2021-08-19\\\",\\\"2021-08-18\\\",\\\"2021-08-17\\\",\\\"2021-08-16\\\",\\\"2021-08-15\\\",\\\"2021-08-14\\\",\\\"2021-08-13\\\",\\\"2021-08-12\\\",\\\"2021-08-11\\\",\\\"2021-08-10\\\",\\\"2021-08-09\\\",\\\"2021-08-08\\\",\\\"2021-08-07\\\",\\\"2021-08-06\\\",\\\"2021-08-05\\\",\\\"2021-08-04\\\",\\\"2021-08-03\\\",\\\"2021-08-02\\\",\\\"2021-08-01\\\",\\\"2021-07-31\\\",\\\"2021-07-30\\\",\\\"2021-07-29\\\",\\\"2021-07-28\\\",\\\"2021-07-27\\\",\\\"2021-07-26\\\",\\\"2021-07-25\\\",\\\"2021-07-24\\\",\\\"2021-07-23\\\",\\\"2021-07-22\\\",\\\"2021-07-21\\\",\\\"2021-07-20\\\",\\\"2021-07-19\\\",\\\"2021-07-18\\\",\\\"2021-07-17\\\",\\\"2021-07-16\\\",\\\"2021-07-15\\\",\\\"2021-07-14\\\",\\\"2021-07-13\\\",\\\"2021-07-12\\\",\\\"2021-07-11\\\",\\\"2021-07-10\\\",\\\"2021-07-09\\\",\\\"2021-07-08\\\",\\\"2021-07-07\\\",\\\"2021-07-06\\\",\\\"2021-07-05\\\",\\\"2021-07-04\\\",\\\"2021-07-03\\\",\\\"2021-07-02\\\",\\\"2021-07-01\\\",\\\"2021-06-30\\\",\\\"2021-06-29\\\",\\\"2021-06-28\\\",\\\"2021-06-27\\\",\\\"2021-06-26\\\",\\\"2021-06-25\\\",\\\"2021-06-24\\\",\\\"2021-06-23\\\",\\\"2021-06-22\\\",\\\"2021-06-21\\\",\\\"2021-06-20\\\",\\\"2021-06-19\\\",\\\"2021-06-18\\\",\\\"2021-06-17\\\",\\\"2021-06-16\\\",\\\"2021-06-15\\\",\\\"2021-06-14\\\",\\\"2021-06-13\\\",\\\"2021-06-12\\\",\\\"2021-06-11\\\",\\\"2021-06-10\\\",\\\"2021-06-09\\\",\\\"2021-06-08\\\",\\\"2021-06-07\\\",\\\"2021-06-06\\\",\\\"2021-06-05\\\",\\\"2021-06-04\\\",\\\"2021-06-03\\\",\\\"2021-06-02\\\",\\\"2021-06-01\\\",\\\"2021-05-31\\\",\\\"2021-05-30\\\",\\\"2021-05-29\\\",\\\"2021-05-28\\\",\\\"2021-05-27\\\",\\\"2021-05-26\\\",\\\"2021-05-25\\\",\\\"2021-05-24\\\",\\\"2021-05-23\\\",\\\"2021-05-22\\\",\\\"2021-05-21\\\",\\\"2021-05-20\\\",\\\"2021-05-19\\\",\\\"2021-05-18\\\",\\\"2021-05-17\\\",\\\"2021-05-16\\\",\\\"2021-05-15\\\",\\\"2021-05-14\\\",\\\"2021-05-13\\\",\\\"2021-05-12\\\",\\\"2021-05-11\\\",\\\"2021-05-10\\\",\\\"2021-05-09\\\",\\\"2021-05-08\\\",\\\"2021-05-07\\\",\\\"2021-05-06\\\",\\\"2021-05-05\\\",\\\"2021-05-04\\\",\\\"2021-05-03\\\",\\\"2021-05-02\\\",\\\"2021-05-01\\\",\\\"2021-04-30\\\",\\\"2021-04-29\\\",\\\"2021-04-28\\\",\\\"2021-04-27\\\",\\\"2021-04-26\\\",\\\"2021-04-25\\\",\\\"2021-04-24\\\",\\\"2021-04-23\\\",\\\"2021-04-22\\\",\\\"2021-04-21\\\",\\\"2021-04-20\\\",\\\"2021-04-19\\\",\\\"2021-04-18\\\",\\\"2021-04-17\\\",\\\"2021-04-16\\\",\\\"2021-04-15\\\",\\\"2021-04-14\\\",\\\"2021-04-13\\\",\\\"2021-04-12\\\",\\\"2021-04-11\\\",\\\"2021-04-10\\\",\\\"2021-04-09\\\",\\\"2021-04-08\\\",\\\"2021-04-07\\\",\\\"2021-04-06\\\",\\\"2021-04-05\\\",\\\"2021-04-04\\\",\\\"2021-04-03\\\",\\\"2021-04-02\\\",\\\"2021-04-01\\\",\\\"2021-03-31\\\",\\\"2021-03-30\\\",\\\"2021-03-29\\\",\\\"2021-03-28\\\",\\\"2021-03-27\\\",\\\"2021-03-26\\\",\\\"2021-03-25\\\",\\\"2021-03-24\\\",\\\"2021-03-23\\\",\\\"2021-03-22\\\",\\\"2021-03-21\\\",\\\"2021-03-20\\\",\\\"2021-03-19\\\",\\\"2021-03-18\\\",\\\"2021-03-17\\\",\\\"2021-03-16\\\",\\\"2021-03-15\\\",\\\"2021-03-14\\\",\\\"2021-03-13\\\",\\\"2021-03-12\\\",\\\"2021-03-11\\\"]},{\\\"y\\\":[\\\"37792.4\\\",\\\"38814.3\\\",\\\"38730.2\\\",\\\"39416.3\\\",\\\"41929.0\\\",\\\"38744.8\\\",\\\"38024.8\\\",\\\"38403.1\\\",\\\"39395.8\\\",\\\"39142.7\\\",\\\"42463.0\\\",\\\"43912.8\\\",\\\"44420.3\\\",\\\"43188.2\\\",\\\"37689.1\\\",\\\"39115.5\\\",\\\"39209.6\\\",\\\"38339.2\\\",\\\"37224.6\\\",\\\"38248.2\\\",\\\"37017.7\\\",\\\"38355.0\\\",\\\"40090.3\\\",\\\"40000.1\\\",\\\"40552.8\\\",\\\"43883.6\\\",\\\"44544.4\\\",\\\"42550.3\\\",\\\"42061.1\\\",\\\"42205.2\\\",\\\"42388.4\\\",\\\"43521.0\\\",\\\"44388.9\\\",\\\"44038.2\\\",\\\"43833.9\\\",\\\"42392.2\\\",\\\"41412.1\\\",\\\"41567.6\\\",\\\"37287.8\\\",\\\"36890.2\\\",\\\"38709.7\\\",\\\"38498.6\\\",\\\"37917.7\\\",\\\"38170.8\\\",\\\"37745.1\\\",\\\"37164.3\\\",\\\"36800.4\\\",\\\"36950.6\\\",\\\"36686.3\\\",\\\"36269.5\\\",\\\"35075.2\\\",\\\"36475.5\\\",\\\"40715.9\\\",\\\"41677.8\\\",\\\"42364.6\\\",\\\"42209.3\\\",\\\"43079.1\\\",\\\"43097.0\\\",\\\"43073.3\\\",\\\"42560.0\\\",\\\"43901.0\\\",\\\"42733.2\\\",\\\"41832.2\\\",\\\"41848.3\\\",\\\"41672.0\\\",\\\"41546.7\\\",\\\"43097.5\\\",\\\"43425.9\\\",\\\"45837.3\\\",\\\"46430.2\\\",\\\"47311.8\\\",\\\"47738.0\\\",\\\"46219.5\\\",\\\"47123.3\\\",\\\"46461.7\\\",\\\"47545.2\\\",\\\"50678.2\\\",\\\"50779.9\\\",\\\"50406.4\\\",\\\"50786.1\\\",\\\"50801.0\\\",\\\"48599.7\\\",\\\"48902.0\\\",\\\"46895.2\\\",\\\"46704.5\\\",\\\"46856.2\\\",\\\"46172.2\\\",\\\"47628.2\\\",\\\"48871.5\\\",\\\"48366.5\\\",\\\"46703.6\\\",\\\"50081.0\\\",\\\"49314.5\\\",\\\"47137.2\\\",\\\"47596.6\\\",\\\"50473.9\\\",\\\"50595.2\\\",\\\"50562.1\\\",\\\"49405.5\\\",\\\"49195.2\\\",\\\"53631.5\\\",\\\"56496.0\\\",\\\"57210.3\\\",\\\"56882.9\\\",\\\"57794.8\\\",\\\"57291.5\\\",\\\"54765.9\\\",\\\"53730.9\\\",\\\"58935.1\\\",\\\"57171.7\\\",\\\"57573.2\\\",\\\"56308.8\\\",\\\"58714.3\\\",\\\"59717.6\\\",\\\"58083.4\\\",\\\"56955.3\\\",\\\"60367.8\\\",\\\"60089.1\\\",\\\"63597.9\\\",\\\"65508.2\\\",\\\"64398.6\\\",\\\"64134.5\\\",\\\"64806.7\\\",\\\"64932.6\\\",\\\"66904.4\\\",\\\"67527.9\\\",\\\"63273.2\\\",\\\"61483.9\\\",\\\"60974.3\\\",\\\"61412.6\\\",\\\"62918.5\\\",\\\"63221.7\\\",\\\"60915.3\\\",\\\"61309.6\\\",\\\"61840.1\\\",\\\"62242.8\\\",\\\"60582.5\\\",\\\"58438.1\\\",\\\"60310.8\\\",\\\"63067.0\\\",\\\"60866.5\\\",\\\"61312.5\\\",\\\"60690.3\\\",\\\"62210.2\\\",\\\"65979.1\\\",\\\"64278.5\\\",\\\"62056.3\\\",\\\"61527.5\\\",\\\"60861.1\\\",\\\"61672.5\\\",\\\"57345.8\\\",\\\"57380.1\\\",\\\"56015.9\\\",\\\"57477.3\\\",\\\"54687.7\\\",\\\"54942.5\\\",\\\"53914.7\\\",\\\"53783.9\\\",\\\"55323.2\\\",\\\"51469.3\\\",\\\"49227.3\\\",\\\"48200.1\\\",\\\"47666.9\\\",\\\"48146.0\\\",\\\"43823.3\\\",\\\"41536.8\\\",\\\"41022.3\\\",\\\"42172.6\\\",\\\"43203.4\\\",\\\"42686.8\\\",\\\"42819.9\\\",\\\"44869.2\\\",\\\"43551.6\\\",\\\"40651.3\\\",\\\"42870.6\\\",\\\"47238.7\\\",\\\"48306.7\\\",\\\"47282.8\\\",\\\"47748.0\\\",\\\"48130.6\\\",\\\"47077.5\\\",\\\"44949.5\\\",\\\"46062.3\\\",\\\"45161.9\\\",\\\"44842.8\\\",\\\"46385.6\\\",\\\"46061.4\\\",\\\"46779.6\\\",\\\"52672.1\\\",\\\"51768.6\\\",\\\"49918.4\\\",\\\"49999.0\\\",\\\"49274.3\\\",\\\"48819.4\\\",\\\"47130.4\\\",\\\"46992.7\\\",\\\"48777.4\\\",\\\"48897.1\\\",\\\"49064.3\\\",\\\"46831.6\\\",\\\"48994.5\\\",\\\"47714.7\\\",\\\"49539.7\\\",\\\"49254.5\\\",\\\"48875.8\\\",\\\"49324.0\\\",\\\"46755.9\\\",\\\"44723.8\\\",\\\"44691.6\\\",\\\"45996.3\\\",\\\"46991.3\\\",\\\"47081.5\\\",\\\"47809.1\\\",\\\"44403.4\\\",\\\"45564.3\\\",\\\"45593.8\\\",\\\"46284.3\\\",\\\"43792.8\\\",\\\"44614.2\\\",\\\"42795.4\\\",\\\"40867.2\\\",\\\"39736.9\\\",\\\"38130.3\\\",\\\"39168.4\\\",\\\"39878.3\\\",\\\"41553.7\\\",\\\"42203.4\\\",\\\"40001.4\\\",\\\"40003.2\\\",\\\"39452.0\\\",\\\"37276.6\\\",\\\"35391.1\\\",\\\"33824.8\\\",\\\"33603.3\\\",\\\"32298.9\\\",\\\"32131.4\\\",\\\"29793.8\\\",\\\"30837.2\\\",\\\"31785.4\\\",\\\"31518.6\\\",\\\"31394.0\\\",\\\"31840.5\\\",\\\"32820.7\\\",\\\"32728.1\\\",\\\"33113.0\\\",\\\"34227.7\\\",\\\"33510.6\\\",\\\"33797.4\\\",\\\"32866.3\\\",\\\"33867.8\\\",\\\"34225.6\\\",\\\"33687.8\\\",\\\"35298.2\\\",\\\"34742.8\\\",\\\"33813.4\\\",\\\"33543.6\\\",\\\"35026.9\\\",\\\"35834.7\\\",\\\"34475.9\\\",\\\"34678.5\\\",\\\"32243.4\\\",\\\"31594.0\\\",\\\"34665.8\\\",\\\"33674.3\\\",\\\"32496.4\\\",\\\"31692.0\\\",\\\"35595.8\\\",\\\"35513.4\\\",\\\"35749.4\\\",\\\"38052.0\\\",\\\"38336.0\\\",\\\"40156.1\\\",\\\"40529.4\\\",\\\"39022.9\\\",\\\"35467.5\\\",\\\"37314.6\\\",\\\"36649.4\\\",\\\"37332.2\\\",\\\"33382.9\\\",\\\"33578.0\\\",\\\"35815.4\\\",\\\"35520.0\\\",\\\"36851.3\\\",\\\"39187.3\\\",\\\"37555.8\\\",\\\"36687.6\\\",\\\"37298.6\\\",\\\"35652.8\\\",\\\"34584.6\\\",\\\"35662.5\\\",\\\"38417.3\\\",\\\"39249.2\\\",\\\"38378.3\\\",\\\"38750.6\\\",\\\"34679.7\\\",\\\"37448.3\\\",\\\"37297.4\\\",\\\"40717.2\\\",\\\"36720.5\\\",\\\"42897.3\\\",\\\"43541.3\\\",\\\"46426.4\\\",\\\"46708.8\\\",\\\"49839.8\\\",\\\"49704.6\\\",\\\"49384.2\\\",\\\"56695.7\\\",\\\"55848.9\\\",\\\"58238.3\\\",\\\"58840.1\\\",\\\"57337.2\\\",\\\"56405.4\\\",\\\"57441.3\\\",\\\"53741.5\\\",\\\"57169.8\\\",\\\"56603.8\\\",\\\"57807.1\\\",\\\"57720.3\\\",\\\"53560.8\\\",\\\"54841.4\\\",\\\"55036.5\\\",\\\"54020.5\\\",\\\"48963.6\\\",\\\"50088.9\\\",\\\"51143.6\\\",\\\"51729.5\\\",\\\"53820.2\\\",\\\"56483.2\\\",\\\"55646.1\\\",\\\"56207.1\\\",\\\"60041.9\\\",\\\"61379.7\\\",\\\"63216.0\\\",\\\"62980.4\\\",\\\"63540.9\\\",\\\"59863.8\\\",\\\"59978.7\\\",\\\"59748.4\\\",\\\"58118.7\\\",\\\"58077.4\\\",\\\"55948.7\\\",\\\"57996.3\\\",\\\"58993.4\\\",\\\"58199.9\\\",\\\"57059.9\\\",\\\"58977.3\\\",\\\"58718.3\\\",\\\"58763.7\\\",\\\"58771.3\\\",\\\"57616.2\\\",\\\"55765.2\\\",\\\"55862.9\\\",\\\"55036.1\\\",\\\"51322.3\\\",\\\"52325.4\\\",\\\"54452.5\\\",\\\"54158.3\\\",\\\"57383.8\\\",\\\"58093.4\\\",\\\"58088.0\\\",\\\"57656.0\\\",\\\"58913.5\\\",\\\"56889.7\\\",\\\"55791.3\\\",\\\"59113.7\\\",\\\"61195.3\\\",\\\"57265.1\\\",\\\"57799.5\\\"],\\\"type\\\":\\\"scatter\\\",\\\"x\\\":[\\\"2022-03-13\\\",\\\"2022-03-12\\\",\\\"2022-03-11\\\",\\\"2022-03-10\\\",\\\"2022-03-09\\\",\\\"2022-03-08\\\",\\\"2022-03-07\\\",\\\"2022-03-06\\\",\\\"2022-03-05\\\",\\\"2022-03-04\\\",\\\"2022-03-03\\\",\\\"2022-03-02\\\",\\\"2022-03-01\\\",\\\"2022-02-28\\\",\\\"2022-02-27\\\",\\\"2022-02-26\\\",\\\"2022-02-25\\\",\\\"2022-02-24\\\",\\\"2022-02-23\\\",\\\"2022-02-22\\\",\\\"2022-02-21\\\",\\\"2022-02-20\\\",\\\"2022-02-19\\\",\\\"2022-02-18\\\",\\\"2022-02-17\\\",\\\"2022-02-16\\\",\\\"2022-02-15\\\",\\\"2022-02-14\\\",\\\"2022-02-13\\\",\\\"2022-02-12\\\",\\\"2022-02-11\\\",\\\"2022-02-10\\\",\\\"2022-02-09\\\",\\\"2022-02-08\\\",\\\"2022-02-07\\\",\\\"2022-02-06\\\",\\\"2022-02-05\\\",\\\"2022-02-04\\\",\\\"2022-02-03\\\",\\\"2022-02-02\\\",\\\"2022-02-01\\\",\\\"2022-01-31\\\",\\\"2022-01-30\\\",\\\"2022-01-29\\\",\\\"2022-01-28\\\",\\\"2022-01-27\\\",\\\"2022-01-26\\\",\\\"2022-01-25\\\",\\\"2022-01-24\\\",\\\"2022-01-23\\\",\\\"2022-01-22\\\",\\\"2022-01-21\\\",\\\"2022-01-20\\\",\\\"2022-01-19\\\",\\\"2022-01-18\\\",\\\"2022-01-17\\\",\\\"2022-01-16\\\",\\\"2022-01-15\\\",\\\"2022-01-14\\\",\\\"2022-01-13\\\",\\\"2022-01-12\\\",\\\"2022-01-11\\\",\\\"2022-01-10\\\",\\\"2022-01-09\\\",\\\"2022-01-08\\\",\\\"2022-01-07\\\",\\\"2022-01-06\\\",\\\"2022-01-05\\\",\\\"2022-01-04\\\",\\\"2022-01-03\\\",\\\"2022-01-02\\\",\\\"2022-01-01\\\",\\\"2021-12-31\\\",\\\"2021-12-30\\\",\\\"2021-12-29\\\",\\\"2021-12-28\\\",\\\"2021-12-27\\\",\\\"2021-12-26\\\",\\\"2021-12-25\\\",\\\"2021-12-24\\\",\\\"2021-12-23\\\",\\\"2021-12-22\\\",\\\"2021-12-21\\\",\\\"2021-12-20\\\",\\\"2021-12-19\\\",\\\"2021-12-18\\\",\\\"2021-12-17\\\",\\\"2021-12-16\\\",\\\"2021-12-15\\\",\\\"2021-12-14\\\",\\\"2021-12-13\\\",\\\"2021-12-12\\\",\\\"2021-12-11\\\",\\\"2021-12-10\\\",\\\"2021-12-09\\\",\\\"2021-12-08\\\",\\\"2021-12-07\\\",\\\"2021-12-06\\\",\\\"2021-12-05\\\",\\\"2021-12-04\\\",\\\"2021-12-03\\\",\\\"2021-12-02\\\",\\\"2021-12-01\\\",\\\"2021-11-30\\\",\\\"2021-11-29\\\",\\\"2021-11-28\\\",\\\"2021-11-27\\\",\\\"2021-11-26\\\",\\\"2021-11-25\\\",\\\"2021-11-24\\\",\\\"2021-11-23\\\",\\\"2021-11-22\\\",\\\"2021-11-21\\\",\\\"2021-11-20\\\",\\\"2021-11-19\\\",\\\"2021-11-18\\\",\\\"2021-11-17\\\",\\\"2021-11-16\\\",\\\"2021-11-15\\\",\\\"2021-11-14\\\",\\\"2021-11-13\\\",\\\"2021-11-12\\\",\\\"2021-11-11\\\",\\\"2021-11-10\\\",\\\"2021-11-09\\\",\\\"2021-11-08\\\",\\\"2021-11-07\\\",\\\"2021-11-06\\\",\\\"2021-11-05\\\",\\\"2021-11-04\\\",\\\"2021-11-03\\\",\\\"2021-11-02\\\",\\\"2021-11-01\\\",\\\"2021-10-31\\\",\\\"2021-10-30\\\",\\\"2021-10-29\\\",\\\"2021-10-28\\\",\\\"2021-10-27\\\",\\\"2021-10-26\\\",\\\"2021-10-25\\\",\\\"2021-10-24\\\",\\\"2021-10-23\\\",\\\"2021-10-22\\\",\\\"2021-10-21\\\",\\\"2021-10-20\\\",\\\"2021-10-19\\\",\\\"2021-10-18\\\",\\\"2021-10-17\\\",\\\"2021-10-16\\\",\\\"2021-10-15\\\",\\\"2021-10-14\\\",\\\"2021-10-13\\\",\\\"2021-10-12\\\",\\\"2021-10-11\\\",\\\"2021-10-10\\\",\\\"2021-10-09\\\",\\\"2021-10-08\\\",\\\"2021-10-07\\\",\\\"2021-10-06\\\",\\\"2021-10-05\\\",\\\"2021-10-04\\\",\\\"2021-10-03\\\",\\\"2021-10-02\\\",\\\"2021-10-01\\\",\\\"2021-09-30\\\",\\\"2021-09-29\\\",\\\"2021-09-28\\\",\\\"2021-09-27\\\",\\\"2021-09-26\\\",\\\"2021-09-25\\\",\\\"2021-09-24\\\",\\\"2021-09-23\\\",\\\"2021-09-22\\\",\\\"2021-09-21\\\",\\\"2021-09-20\\\",\\\"2021-09-19\\\",\\\"2021-09-18\\\",\\\"2021-09-17\\\",\\\"2021-09-16\\\",\\\"2021-09-15\\\",\\\"2021-09-14\\\",\\\"2021-09-13\\\",\\\"2021-09-12\\\",\\\"2021-09-11\\\",\\\"2021-09-10\\\",\\\"2021-09-09\\\",\\\"2021-09-08\\\",\\\"2021-09-07\\\",\\\"2021-09-06\\\",\\\"2021-09-05\\\",\\\"2021-09-04\\\",\\\"2021-09-03\\\",\\\"2021-09-02\\\",\\\"2021-09-01\\\",\\\"2021-08-31\\\",\\\"2021-08-30\\\",\\\"2021-08-29\\\",\\\"2021-08-28\\\",\\\"2021-08-27\\\",\\\"2021-08-26\\\",\\\"2021-08-25\\\",\\\"2021-08-24\\\",\\\"2021-08-23\\\",\\\"2021-08-22\\\",\\\"2021-08-21\\\",\\\"2021-08-20\\\",\\\"2021-08-19\\\",\\\"2021-08-18\\\",\\\"2021-08-17\\\",\\\"2021-08-16\\\",\\\"2021-08-15\\\",\\\"2021-08-14\\\",\\\"2021-08-13\\\",\\\"2021-08-12\\\",\\\"2021-08-11\\\",\\\"2021-08-10\\\",\\\"2021-08-09\\\",\\\"2021-08-08\\\",\\\"2021-08-07\\\",\\\"2021-08-06\\\",\\\"2021-08-05\\\",\\\"2021-08-04\\\",\\\"2021-08-03\\\",\\\"2021-08-02\\\",\\\"2021-08-01\\\",\\\"2021-07-31\\\",\\\"2021-07-30\\\",\\\"2021-07-29\\\",\\\"2021-07-28\\\",\\\"2021-07-27\\\",\\\"2021-07-26\\\",\\\"2021-07-25\\\",\\\"2021-07-24\\\",\\\"2021-07-23\\\",\\\"2021-07-22\\\",\\\"2021-07-21\\\",\\\"2021-07-20\\\",\\\"2021-07-19\\\",\\\"2021-07-18\\\",\\\"2021-07-17\\\",\\\"2021-07-16\\\",\\\"2021-07-15\\\",\\\"2021-07-14\\\",\\\"2021-07-13\\\",\\\"2021-07-12\\\",\\\"2021-07-11\\\",\\\"2021-07-10\\\",\\\"2021-07-09\\\",\\\"2021-07-08\\\",\\\"2021-07-07\\\",\\\"2021-07-06\\\",\\\"2021-07-05\\\",\\\"2021-07-04\\\",\\\"2021-07-03\\\",\\\"2021-07-02\\\",\\\"2021-07-01\\\",\\\"2021-06-30\\\",\\\"2021-06-29\\\",\\\"2021-06-28\\\",\\\"2021-06-27\\\",\\\"2021-06-26\\\",\\\"2021-06-25\\\",\\\"2021-06-24\\\",\\\"2021-06-23\\\",\\\"2021-06-22\\\",\\\"2021-06-21\\\",\\\"2021-06-20\\\",\\\"2021-06-19\\\",\\\"2021-06-18\\\",\\\"2021-06-17\\\",\\\"2021-06-16\\\",\\\"2021-06-15\\\",\\\"2021-06-14\\\",\\\"2021-06-13\\\",\\\"2021-06-12\\\",\\\"2021-06-11\\\",\\\"2021-06-10\\\",\\\"2021-06-09\\\",\\\"2021-06-08\\\",\\\"2021-06-07\\\",\\\"2021-06-06\\\",\\\"2021-06-05\\\",\\\"2021-06-04\\\",\\\"2021-06-03\\\",\\\"2021-06-02\\\",\\\"2021-06-01\\\",\\\"2021-05-31\\\",\\\"2021-05-30\\\",\\\"2021-05-29\\\",\\\"2021-05-28\\\",\\\"2021-05-27\\\",\\\"2021-05-26\\\",\\\"2021-05-25\\\",\\\"2021-05-24\\\",\\\"2021-05-23\\\",\\\"2021-05-22\\\",\\\"2021-05-21\\\",\\\"2021-05-20\\\",\\\"2021-05-19\\\",\\\"2021-05-18\\\",\\\"2021-05-17\\\",\\\"2021-05-16\\\",\\\"2021-05-15\\\",\\\"2021-05-14\\\",\\\"2021-05-13\\\",\\\"2021-05-12\\\",\\\"2021-05-11\\\",\\\"2021-05-10\\\",\\\"2021-05-09\\\",\\\"2021-05-08\\\",\\\"2021-05-07\\\",\\\"2021-05-06\\\",\\\"2021-05-05\\\",\\\"2021-05-04\\\",\\\"2021-05-03\\\",\\\"2021-05-02\\\",\\\"2021-05-01\\\",\\\"2021-04-30\\\",\\\"2021-04-29\\\",\\\"2021-04-28\\\",\\\"2021-04-27\\\",\\\"2021-04-26\\\",\\\"2021-04-25\\\",\\\"2021-04-24\\\",\\\"2021-04-23\\\",\\\"2021-04-22\\\",\\\"2021-04-21\\\",\\\"2021-04-20\\\",\\\"2021-04-19\\\",\\\"2021-04-18\\\",\\\"2021-04-17\\\",\\\"2021-04-16\\\",\\\"2021-04-15\\\",\\\"2021-04-14\\\",\\\"2021-04-13\\\",\\\"2021-04-12\\\",\\\"2021-04-11\\\",\\\"2021-04-10\\\",\\\"2021-04-09\\\",\\\"2021-04-08\\\",\\\"2021-04-07\\\",\\\"2021-04-06\\\",\\\"2021-04-05\\\",\\\"2021-04-04\\\",\\\"2021-04-03\\\",\\\"2021-04-02\\\",\\\"2021-04-01\\\",\\\"2021-03-31\\\",\\\"2021-03-30\\\",\\\"2021-03-29\\\",\\\"2021-03-28\\\",\\\"2021-03-27\\\",\\\"2021-03-26\\\",\\\"2021-03-25\\\",\\\"2021-03-24\\\",\\\"2021-03-23\\\",\\\"2021-03-22\\\",\\\"2021-03-21\\\",\\\"2021-03-20\\\",\\\"2021-03-19\\\",\\\"2021-03-18\\\",\\\"2021-03-17\\\",\\\"2021-03-16\\\",\\\"2021-03-15\\\",\\\"2021-03-14\\\",\\\"2021-03-13\\\",\\\"2021-03-12\\\",\\\"2021-03-11\\\"]}],{\\\"template\\\":{\\\"layout\\\":{\\\"coloraxis\\\":{\\\"colorbar\\\":{\\\"ticks\\\":\\\"\\\",\\\"outlinewidth\\\":0}},\\\"xaxis\\\":{\\\"gridcolor\\\":\\\"white\\\",\\\"zerolinewidth\\\":2,\\\"title\\\":{\\\"standoff\\\":15},\\\"ticks\\\":\\\"\\\",\\\"zerolinecolor\\\":\\\"white\\\",\\\"automargin\\\":true,\\\"linecolor\\\":\\\"white\\\"},\\\"hovermode\\\":\\\"closest\\\",\\\"paper_bgcolor\\\":\\\"white\\\",\\\"geo\\\":{\\\"showlakes\\\":true,\\\"showland\\\":true,\\\"landcolor\\\":\\\"#E5ECF6\\\",\\\"bgcolor\\\":\\\"white\\\",\\\"subunitcolor\\\":\\\"white\\\",\\\"lakecolor\\\":\\\"white\\\"},\\\"colorscale\\\":{\\\"sequential\\\":[[0.0,\\\"#0d0887\\\"],[0.1111111111111111,\\\"#46039f\\\"],[0.2222222222222222,\\\"#7201a8\\\"],[0.3333333333333333,\\\"#9c179e\\\"],[0.4444444444444444,\\\"#bd3786\\\"],[0.5555555555555556,\\\"#d8576b\\\"],[0.6666666666666666,\\\"#ed7953\\\"],[0.7777777777777778,\\\"#fb9f3a\\\"],[0.8888888888888888,\\\"#fdca26\\\"],[1.0,\\\"#f0f921\\\"]],\\\"diverging\\\":[[0,\\\"#8e0152\\\"],[0.1,\\\"#c51b7d\\\"],[0.2,\\\"#de77ae\\\"],[0.3,\\\"#f1b6da\\\"],[0.4,\\\"#fde0ef\\\"],[0.5,\\\"#f7f7f7\\\"],[0.6,\\\"#e6f5d0\\\"],[0.7,\\\"#b8e186\\\"],[0.8,\\\"#7fbc41\\\"],[0.9,\\\"#4d9221\\\"],[1,\\\"#276419\\\"]],\\\"sequentialminus\\\":[[0.0,\\\"#0d0887\\\"],[0.1111111111111111,\\\"#46039f\\\"],[0.2222222222222222,\\\"#7201a8\\\"],[0.3333333333333333,\\\"#9c179e\\\"],[0.4444444444444444,\\\"#bd3786\\\"],[0.5555555555555556,\\\"#d8576b\\\"],[0.6666666666666666,\\\"#ed7953\\\"],[0.7777777777777778,\\\"#fb9f3a\\\"],[0.8888888888888888,\\\"#fdca26\\\"],[1.0,\\\"#f0f921\\\"]]},\\\"yaxis\\\":{\\\"gridcolor\\\":\\\"white\\\",\\\"zerolinewidth\\\":2,\\\"title\\\":{\\\"standoff\\\":15},\\\"ticks\\\":\\\"\\\",\\\"zerolinecolor\\\":\\\"white\\\",\\\"automargin\\\":true,\\\"linecolor\\\":\\\"white\\\"},\\\"shapedefaults\\\":{\\\"line\\\":{\\\"color\\\":\\\"#2a3f5f\\\"}},\\\"hoverlabel\\\":{\\\"align\\\":\\\"left\\\"},\\\"mapbox\\\":{\\\"style\\\":\\\"light\\\"},\\\"polar\\\":{\\\"angularaxis\\\":{\\\"gridcolor\\\":\\\"white\\\",\\\"ticks\\\":\\\"\\\",\\\"linecolor\\\":\\\"white\\\"},\\\"bgcolor\\\":\\\"#E5ECF6\\\",\\\"radialaxis\\\":{\\\"gridcolor\\\":\\\"white\\\",\\\"ticks\\\":\\\"\\\",\\\"linecolor\\\":\\\"white\\\"}},\\\"autotypenumbers\\\":\\\"strict\\\",\\\"font\\\":{\\\"color\\\":\\\"#2a3f5f\\\"},\\\"ternary\\\":{\\\"baxis\\\":{\\\"gridcolor\\\":\\\"white\\\",\\\"ticks\\\":\\\"\\\",\\\"linecolor\\\":\\\"white\\\"},\\\"bgcolor\\\":\\\"#E5ECF6\\\",\\\"caxis\\\":{\\\"gridcolor\\\":\\\"white\\\",\\\"ticks\\\":\\\"\\\",\\\"linecolor\\\":\\\"white\\\"},\\\"aaxis\\\":{\\\"gridcolor\\\":\\\"white\\\",\\\"ticks\\\":\\\"\\\",\\\"linecolor\\\":\\\"white\\\"}},\\\"annotationdefaults\\\":{\\\"arrowhead\\\":0,\\\"arrowwidth\\\":1,\\\"arrowcolor\\\":\\\"#2a3f5f\\\"},\\\"plot_bgcolor\\\":\\\"#E5ECF6\\\",\\\"title\\\":{\\\"x\\\":0.05},\\\"scene\\\":{\\\"xaxis\\\":{\\\"gridcolor\\\":\\\"white\\\",\\\"gridwidth\\\":2,\\\"backgroundcolor\\\":\\\"#E5ECF6\\\",\\\"ticks\\\":\\\"\\\",\\\"showbackground\\\":true,\\\"zerolinecolor\\\":\\\"white\\\",\\\"linecolor\\\":\\\"white\\\"},\\\"zaxis\\\":{\\\"gridcolor\\\":\\\"white\\\",\\\"gridwidth\\\":2,\\\"backgroundcolor\\\":\\\"#E5ECF6\\\",\\\"ticks\\\":\\\"\\\",\\\"showbackground\\\":true,\\\"zerolinecolor\\\":\\\"white\\\",\\\"linecolor\\\":\\\"white\\\"},\\\"yaxis\\\":{\\\"gridcolor\\\":\\\"white\\\",\\\"gridwidth\\\":2,\\\"backgroundcolor\\\":\\\"#E5ECF6\\\",\\\"ticks\\\":\\\"\\\",\\\"showbackground\\\":true,\\\"zerolinecolor\\\":\\\"white\\\",\\\"linecolor\\\":\\\"white\\\"}},\\\"colorway\\\":[\\\"#636efa\\\",\\\"#EF553B\\\",\\\"#00cc96\\\",\\\"#ab63fa\\\",\\\"#FFA15A\\\",\\\"#19d3f3\\\",\\\"#FF6692\\\",\\\"#B6E880\\\",\\\"#FF97FF\\\",\\\"#FECB52\\\"]},\\\"data\\\":{\\\"barpolar\\\":[{\\\"type\\\":\\\"barpolar\\\",\\\"marker\\\":{\\\"line\\\":{\\\"color\\\":\\\"#E5ECF6\\\",\\\"width\\\":0.5}}}],\\\"carpet\\\":[{\\\"aaxis\\\":{\\\"gridcolor\\\":\\\"white\\\",\\\"endlinecolor\\\":\\\"#2a3f5f\\\",\\\"minorgridcolor\\\":\\\"white\\\",\\\"startlinecolor\\\":\\\"#2a3f5f\\\",\\\"linecolor\\\":\\\"white\\\"},\\\"type\\\":\\\"carpet\\\",\\\"baxis\\\":{\\\"gridcolor\\\":\\\"white\\\",\\\"endlinecolor\\\":\\\"#2a3f5f\\\",\\\"minorgridcolor\\\":\\\"white\\\",\\\"startlinecolor\\\":\\\"#2a3f5f\\\",\\\"linecolor\\\":\\\"white\\\"}}],\\\"scatterpolar\\\":[{\\\"type\\\":\\\"scatterpolar\\\",\\\"marker\\\":{\\\"colorbar\\\":{\\\"ticks\\\":\\\"\\\",\\\"outlinewidth\\\":0}}}],\\\"parcoords\\\":[{\\\"line\\\":{\\\"colorbar\\\":{\\\"ticks\\\":\\\"\\\",\\\"outlinewidth\\\":0}},\\\"type\\\":\\\"parcoords\\\"}],\\\"scatter\\\":[{\\\"type\\\":\\\"scatter\\\",\\\"marker\\\":{\\\"colorbar\\\":{\\\"ticks\\\":\\\"\\\",\\\"outlinewidth\\\":0}}}],\\\"histogram2dcontour\\\":[{\\\"colorbar\\\":{\\\"ticks\\\":\\\"\\\",\\\"outlinewidth\\\":0},\\\"type\\\":\\\"histogram2dcontour\\\",\\\"colorscale\\\":[[0.0,\\\"#0d0887\\\"],[0.1111111111111111,\\\"#46039f\\\"],[0.2222222222222222,\\\"#7201a8\\\"],[0.3333333333333333,\\\"#9c179e\\\"],[0.4444444444444444,\\\"#bd3786\\\"],[0.5555555555555556,\\\"#d8576b\\\"],[0.6666666666666666,\\\"#ed7953\\\"],[0.7777777777777778,\\\"#fb9f3a\\\"],[0.8888888888888888,\\\"#fdca26\\\"],[1.0,\\\"#f0f921\\\"]]}],\\\"contour\\\":[{\\\"colorbar\\\":{\\\"ticks\\\":\\\"\\\",\\\"outlinewidth\\\":0},\\\"type\\\":\\\"contour\\\",\\\"colorscale\\\":[[0.0,\\\"#0d0887\\\"],[0.1111111111111111,\\\"#46039f\\\"],[0.2222222222222222,\\\"#7201a8\\\"],[0.3333333333333333,\\\"#9c179e\\\"],[0.4444444444444444,\\\"#bd3786\\\"],[0.5555555555555556,\\\"#d8576b\\\"],[0.6666666666666666,\\\"#ed7953\\\"],[0.7777777777777778,\\\"#fb9f3a\\\"],[0.8888888888888888,\\\"#fdca26\\\"],[1.0,\\\"#f0f921\\\"]]}],\\\"scattercarpet\\\":[{\\\"type\\\":\\\"scattercarpet\\\",\\\"marker\\\":{\\\"colorbar\\\":{\\\"ticks\\\":\\\"\\\",\\\"outlinewidth\\\":0}}}],\\\"mesh3d\\\":[{\\\"colorbar\\\":{\\\"ticks\\\":\\\"\\\",\\\"outlinewidth\\\":0},\\\"type\\\":\\\"mesh3d\\\"}],\\\"surface\\\":[{\\\"colorbar\\\":{\\\"ticks\\\":\\\"\\\",\\\"outlinewidth\\\":0},\\\"type\\\":\\\"surface\\\",\\\"colorscale\\\":[[0.0,\\\"#0d0887\\\"],[0.1111111111111111,\\\"#46039f\\\"],[0.2222222222222222,\\\"#7201a8\\\"],[0.3333333333333333,\\\"#9c179e\\\"],[0.4444444444444444,\\\"#bd3786\\\"],[0.5555555555555556,\\\"#d8576b\\\"],[0.6666666666666666,\\\"#ed7953\\\"],[0.7777777777777778,\\\"#fb9f3a\\\"],[0.8888888888888888,\\\"#fdca26\\\"],[1.0,\\\"#f0f921\\\"]]}],\\\"scattermapbox\\\":[{\\\"type\\\":\\\"scattermapbox\\\",\\\"marker\\\":{\\\"colorbar\\\":{\\\"ticks\\\":\\\"\\\",\\\"outlinewidth\\\":0}}}],\\\"scattergeo\\\":[{\\\"type\\\":\\\"scattergeo\\\",\\\"marker\\\":{\\\"colorbar\\\":{\\\"ticks\\\":\\\"\\\",\\\"outlinewidth\\\":0}}}],\\\"histogram\\\":[{\\\"type\\\":\\\"histogram\\\",\\\"marker\\\":{\\\"colorbar\\\":{\\\"ticks\\\":\\\"\\\",\\\"outlinewidth\\\":0}}}],\\\"pie\\\":[{\\\"type\\\":\\\"pie\\\",\\\"automargin\\\":true}],\\\"choropleth\\\":[{\\\"colorbar\\\":{\\\"ticks\\\":\\\"\\\",\\\"outlinewidth\\\":0},\\\"type\\\":\\\"choropleth\\\"}],\\\"heatmapgl\\\":[{\\\"colorbar\\\":{\\\"ticks\\\":\\\"\\\",\\\"outlinewidth\\\":0},\\\"type\\\":\\\"heatmapgl\\\",\\\"colorscale\\\":[[0.0,\\\"#0d0887\\\"],[0.1111111111111111,\\\"#46039f\\\"],[0.2222222222222222,\\\"#7201a8\\\"],[0.3333333333333333,\\\"#9c179e\\\"],[0.4444444444444444,\\\"#bd3786\\\"],[0.5555555555555556,\\\"#d8576b\\\"],[0.6666666666666666,\\\"#ed7953\\\"],[0.7777777777777778,\\\"#fb9f3a\\\"],[0.8888888888888888,\\\"#fdca26\\\"],[1.0,\\\"#f0f921\\\"]]}],\\\"bar\\\":[{\\\"type\\\":\\\"bar\\\",\\\"error_y\\\":{\\\"color\\\":\\\"#2a3f5f\\\"},\\\"error_x\\\":{\\\"color\\\":\\\"#2a3f5f\\\"},\\\"marker\\\":{\\\"line\\\":{\\\"color\\\":\\\"#E5ECF6\\\",\\\"width\\\":0.5}}}],\\\"heatmap\\\":[{\\\"colorbar\\\":{\\\"ticks\\\":\\\"\\\",\\\"outlinewidth\\\":0},\\\"type\\\":\\\"heatmap\\\",\\\"colorscale\\\":[[0.0,\\\"#0d0887\\\"],[0.1111111111111111,\\\"#46039f\\\"],[0.2222222222222222,\\\"#7201a8\\\"],[0.3333333333333333,\\\"#9c179e\\\"],[0.4444444444444444,\\\"#bd3786\\\"],[0.5555555555555556,\\\"#d8576b\\\"],[0.6666666666666666,\\\"#ed7953\\\"],[0.7777777777777778,\\\"#fb9f3a\\\"],[0.8888888888888888,\\\"#fdca26\\\"],[1.0,\\\"#f0f921\\\"]]}],\\\"contourcarpet\\\":[{\\\"colorbar\\\":{\\\"ticks\\\":\\\"\\\",\\\"outlinewidth\\\":0},\\\"type\\\":\\\"contourcarpet\\\"}],\\\"table\\\":[{\\\"type\\\":\\\"table\\\",\\\"header\\\":{\\\"line\\\":{\\\"color\\\":\\\"white\\\"},\\\"fill\\\":{\\\"color\\\":\\\"#C8D4E3\\\"}},\\\"cells\\\":{\\\"line\\\":{\\\"color\\\":\\\"white\\\"},\\\"fill\\\":{\\\"color\\\":\\\"#EBF0F8\\\"}}}],\\\"scatter3d\\\":[{\\\"line\\\":{\\\"colorbar\\\":{\\\"ticks\\\":\\\"\\\",\\\"outlinewidth\\\":0}},\\\"type\\\":\\\"scatter3d\\\",\\\"marker\\\":{\\\"colorbar\\\":{\\\"ticks\\\":\\\"\\\",\\\"outlinewidth\\\":0}}}],\\\"scattergl\\\":[{\\\"type\\\":\\\"scattergl\\\",\\\"marker\\\":{\\\"colorbar\\\":{\\\"ticks\\\":\\\"\\\",\\\"outlinewidth\\\":0}}}],\\\"histogram2d\\\":[{\\\"colorbar\\\":{\\\"ticks\\\":\\\"\\\",\\\"outlinewidth\\\":0},\\\"type\\\":\\\"histogram2d\\\",\\\"colorscale\\\":[[0.0,\\\"#0d0887\\\"],[0.1111111111111111,\\\"#46039f\\\"],[0.2222222222222222,\\\"#7201a8\\\"],[0.3333333333333333,\\\"#9c179e\\\"],[0.4444444444444444,\\\"#bd3786\\\"],[0.5555555555555556,\\\"#d8576b\\\"],[0.6666666666666666,\\\"#ed7953\\\"],[0.7777777777777778,\\\"#fb9f3a\\\"],[0.8888888888888888,\\\"#fdca26\\\"],[1.0,\\\"#f0f921\\\"]]}],\\\"scatterternary\\\":[{\\\"type\\\":\\\"scatterternary\\\",\\\"marker\\\":{\\\"colorbar\\\":{\\\"ticks\\\":\\\"\\\",\\\"outlinewidth\\\":0}}}],\\\"scatterpolargl\\\":[{\\\"type\\\":\\\"scatterpolargl\\\",\\\"marker\\\":{\\\"colorbar\\\":{\\\"ticks\\\":\\\"\\\",\\\"outlinewidth\\\":0}}}]}},\\\"margin\\\":{\\\"l\\\":50,\\\"b\\\":50,\\\"r\\\":50,\\\"t\\\":60}},{\\\"showLink\\\":false,\\\"editable\\\":false,\\\"responsive\\\":true,\\\"staticPlot\\\":false,\\\"scrollZoom\\\":true}); gd.on(\\\"plotly_hover\\\",(function (data){var filtered_data=WebIO.PlotlyCommands.filterEventData(gd,data,\\\"hover\\\"); return !(filtered_data.isnil) ? (WebIO.setval({\\\"name\\\":\\\"hover\\\",\\\"scope\\\":\\\"6805809658851702907\\\",\\\"id\\\":\\\"232228632300236257\\\",\\\"type\\\":\\\"observable\\\"},filtered_data.out)) : undefined})); gd.on(\\\"plotly_unhover\\\",(function (){return WebIO.setval({\\\"name\\\":\\\"hover\\\",\\\"scope\\\":\\\"6805809658851702907\\\",\\\"id\\\":\\\"232228632300236257\\\",\\\"type\\\":\\\"observable\\\"},{})})); gd.on(\\\"plotly_selected\\\",(function (data){var filtered_data=WebIO.PlotlyCommands.filterEventData(gd,data,\\\"selected\\\"); return !(filtered_data.isnil) ? (WebIO.setval({\\\"name\\\":\\\"selected\\\",\\\"scope\\\":\\\"6805809658851702907\\\",\\\"id\\\":\\\"4972041569700709658\\\",\\\"type\\\":\\\"observable\\\"},filtered_data.out)) : undefined})); gd.on(\\\"plotly_deselect\\\",(function (){return WebIO.setval({\\\"name\\\":\\\"selected\\\",\\\"scope\\\":\\\"6805809658851702907\\\",\\\"id\\\":\\\"4972041569700709658\\\",\\\"type\\\":\\\"observable\\\"},{})})); gd.on(\\\"plotly_relayout\\\",(function (data){var filtered_data=WebIO.PlotlyCommands.filterEventData(gd,data,\\\"relayout\\\"); return !(filtered_data.isnil) ? (WebIO.setval({\\\"name\\\":\\\"relayout\\\",\\\"scope\\\":\\\"6805809658851702907\\\",\\\"id\\\":\\\"3329746244320317943\\\",\\\"type\\\":\\\"observable\\\"},filtered_data.out)) : undefined})); return gd.on(\\\"plotly_click\\\",(function (data){var filtered_data=WebIO.PlotlyCommands.filterEventData(gd,data,\\\"click\\\"); return !(filtered_data.isnil) ? (WebIO.setval({\\\"name\\\":\\\"click\\\",\\\"scope\\\":\\\"6805809658851702907\\\",\\\"id\\\":\\\"17065096985966728404\\\",\\\"type\\\":\\\"observable\\\"},filtered_data.out)) : undefined}))}));\\n    (WebIO.importBlock({\\\"data\\\":[{\\\"name\\\":\\\"Plotly\\\",\\\"type\\\":\\\"js\\\",\\\"url\\\":\\\"\\/assetserver\\/db01643933f428e933e6fe3f9bf0c39e9fab8888-plotly.min.js\\\"},{\\\"name\\\":null,\\\"type\\\":\\\"js\\\",\\\"url\\\":\\\"\\/assetserver\\/2838d48eaeffaf0924c124c65d5596d45c0b86cd-plotly_webio.bundle.js\\\"}],\\\"type\\\":\\\"async_block\\\"})).then((imports) => handler.apply(this, imports));\\n}\\n\"],\"observables\":{\"_toImage\":{\"sync\":false,\"id\":\"10916538165698952174\",\"value\":{}},\"hover\":{\"sync\":false,\"id\":\"232228632300236257\",\"value\":{}},\"selected\":{\"sync\":false,\"id\":\"4972041569700709658\",\"value\":{}},\"__gd_contents\":{\"sync\":false,\"id\":\"13293681683287333148\",\"value\":{}},\"click\":{\"sync\":false,\"id\":\"17065096985966728404\",\"value\":{}},\"image\":{\"sync\":true,\"id\":\"3908266038574575467\",\"value\":\"\"},\"__get_gd_contents\":{\"sync\":false,\"id\":\"15084152549372570900\",\"value\":\"\"},\"_downloadImage\":{\"sync\":false,\"id\":\"10002638810528962536\",\"value\":{}},\"relayout\":{\"sync\":false,\"id\":\"3329746244320317943\",\"value\":{}},\"_commands\":{\"sync\":false,\"id\":\"16662649133428330095\",\"value\":[\"restyle\",{\"name\":[\"n=2\",\"n=3\",\"n=4\",\"n=5\",\"precio Bitcoin\"]}]}}},\"children\":[{\"props\":{\"id\":\"plot-b0bdc491-4906-48f3-add7-3a97001879da\"},\"nodeType\":\"DOM\",\"type\":\"node\",\"instanceArgs\":{\"namespace\":\"html\",\"tag\":\"div\"},\"children\":[]}]},\n",
       "        window,\n",
       "    );\n",
       "    })()\n",
       "    </script>\n",
       "</div>\n"
      ],
      "text/plain": [
       "data: [\n",
       "  \"scatter with fields name, type, x, and y\",\n",
       "  \"scatter with fields name, type, x, and y\",\n",
       "  \"scatter with fields name, type, x, and y\",\n",
       "  \"scatter with fields name, type, x, and y\",\n",
       "  \"scatter with fields name, type, x, and y\"\n",
       "]\n",
       "\n",
       "layout: \"layout with fields margin and template\"\n",
       "\n"
      ]
     },
     "execution_count": 5,
     "metadata": {},
     "output_type": "execute_result"
    }
   ],
   "source": [
    "models=plot(dataBitcoin.Date[11:378],[predictions[:,2:5] dataBitcoin.Price[11:378]])\n",
    "restyle!(models, name=[\"n=2\",\"n=3\",\"n=4\",\"n=5\",\"precio Bitcoin\"])\n",
    "models"
   ]
  },
  {
   "cell_type": "markdown",
   "id": "250d0a12",
   "metadata": {},
   "source": [
    "de acuerdo a la gráfica los modelos con polinomios de grado 3 y 4 tenderán a decrecer de manera muy rapida y el de grado 2 no va a tener mucha variación, por lo que haremos las predicciones de los precios de la semana únicamente con el modelo del polinomio de grado  5."
   ]
  },
  {
   "cell_type": "markdown",
   "id": "14f20311",
   "metadata": {},
   "source": [
    "Realizamos la predicción de una semana"
   ]
  },
  {
   "cell_type": "code",
   "execution_count": 6,
   "id": "eb743038",
   "metadata": {},
   "outputs": [
    {
     "data": {
      "application/vnd.plotly.v1+json": {
       "config": {
        "editable": false,
        "responsive": true,
        "scrollZoom": true,
        "showLink": false,
        "staticPlot": false
       },
       "data": [
        {
         "type": "scatter",
         "x": [
          "2022-03-23",
          "2022-03-22",
          "2022-03-21",
          "2022-03-20",
          "2022-03-19",
          "2022-03-18",
          "2022-03-17",
          "2022-03-16",
          "2022-03-15",
          "2022-03-14"
         ],
         "y": [
          58323.75322799757,
          56963.00545294583,
          55657.50156076532,
          54406.06207715999,
          53207.52124002203,
          52060.726929625496,
          50964.54059881903,
          49917.8372032037,
          48919.505131339654,
          47968.446134919766
         ]
        },
        {
         "type": "scatter",
         "x": [
          "2022-03-23",
          "2022-03-22",
          "2022-03-21",
          "2022-03-20",
          "2022-03-19",
          "2022-03-18",
          "2022-03-17",
          "2022-03-16",
          "2022-03-15",
          "2022-03-14"
         ],
         "y": [
          42912,
          42373,
          41022,
          41276,
          42233,
          41767.8,
          40914.8,
          41118.7,
          39285.7,
          39671.1
         ]
        }
       ],
       "frames": [],
       "layout": {
        "margin": {
         "b": 50,
         "l": 50,
         "r": 50,
         "t": 60
        },
        "template": {
         "data": {
          "bar": [
           {
            "error_x": {
             "color": "#2a3f5f"
            },
            "error_y": {
             "color": "#2a3f5f"
            },
            "marker": {
             "line": {
              "color": "#E5ECF6",
              "width": 0.5
             }
            },
            "type": "bar"
           }
          ],
          "barpolar": [
           {
            "marker": {
             "line": {
              "color": "#E5ECF6",
              "width": 0.5
             }
            },
            "type": "barpolar"
           }
          ],
          "carpet": [
           {
            "aaxis": {
             "endlinecolor": "#2a3f5f",
             "gridcolor": "white",
             "linecolor": "white",
             "minorgridcolor": "white",
             "startlinecolor": "#2a3f5f"
            },
            "baxis": {
             "endlinecolor": "#2a3f5f",
             "gridcolor": "white",
             "linecolor": "white",
             "minorgridcolor": "white",
             "startlinecolor": "#2a3f5f"
            },
            "type": "carpet"
           }
          ],
          "choropleth": [
           {
            "colorbar": {
             "outlinewidth": 0,
             "ticks": ""
            },
            "type": "choropleth"
           }
          ],
          "contour": [
           {
            "colorbar": {
             "outlinewidth": 0,
             "ticks": ""
            },
            "colorscale": [
             [
              0,
              "#0d0887"
             ],
             [
              0.1111111111111111,
              "#46039f"
             ],
             [
              0.2222222222222222,
              "#7201a8"
             ],
             [
              0.3333333333333333,
              "#9c179e"
             ],
             [
              0.4444444444444444,
              "#bd3786"
             ],
             [
              0.5555555555555556,
              "#d8576b"
             ],
             [
              0.6666666666666666,
              "#ed7953"
             ],
             [
              0.7777777777777778,
              "#fb9f3a"
             ],
             [
              0.8888888888888888,
              "#fdca26"
             ],
             [
              1,
              "#f0f921"
             ]
            ],
            "type": "contour"
           }
          ],
          "contourcarpet": [
           {
            "colorbar": {
             "outlinewidth": 0,
             "ticks": ""
            },
            "type": "contourcarpet"
           }
          ],
          "heatmap": [
           {
            "colorbar": {
             "outlinewidth": 0,
             "ticks": ""
            },
            "colorscale": [
             [
              0,
              "#0d0887"
             ],
             [
              0.1111111111111111,
              "#46039f"
             ],
             [
              0.2222222222222222,
              "#7201a8"
             ],
             [
              0.3333333333333333,
              "#9c179e"
             ],
             [
              0.4444444444444444,
              "#bd3786"
             ],
             [
              0.5555555555555556,
              "#d8576b"
             ],
             [
              0.6666666666666666,
              "#ed7953"
             ],
             [
              0.7777777777777778,
              "#fb9f3a"
             ],
             [
              0.8888888888888888,
              "#fdca26"
             ],
             [
              1,
              "#f0f921"
             ]
            ],
            "type": "heatmap"
           }
          ],
          "heatmapgl": [
           {
            "colorbar": {
             "outlinewidth": 0,
             "ticks": ""
            },
            "colorscale": [
             [
              0,
              "#0d0887"
             ],
             [
              0.1111111111111111,
              "#46039f"
             ],
             [
              0.2222222222222222,
              "#7201a8"
             ],
             [
              0.3333333333333333,
              "#9c179e"
             ],
             [
              0.4444444444444444,
              "#bd3786"
             ],
             [
              0.5555555555555556,
              "#d8576b"
             ],
             [
              0.6666666666666666,
              "#ed7953"
             ],
             [
              0.7777777777777778,
              "#fb9f3a"
             ],
             [
              0.8888888888888888,
              "#fdca26"
             ],
             [
              1,
              "#f0f921"
             ]
            ],
            "type": "heatmapgl"
           }
          ],
          "histogram": [
           {
            "marker": {
             "colorbar": {
              "outlinewidth": 0,
              "ticks": ""
             }
            },
            "type": "histogram"
           }
          ],
          "histogram2d": [
           {
            "colorbar": {
             "outlinewidth": 0,
             "ticks": ""
            },
            "colorscale": [
             [
              0,
              "#0d0887"
             ],
             [
              0.1111111111111111,
              "#46039f"
             ],
             [
              0.2222222222222222,
              "#7201a8"
             ],
             [
              0.3333333333333333,
              "#9c179e"
             ],
             [
              0.4444444444444444,
              "#bd3786"
             ],
             [
              0.5555555555555556,
              "#d8576b"
             ],
             [
              0.6666666666666666,
              "#ed7953"
             ],
             [
              0.7777777777777778,
              "#fb9f3a"
             ],
             [
              0.8888888888888888,
              "#fdca26"
             ],
             [
              1,
              "#f0f921"
             ]
            ],
            "type": "histogram2d"
           }
          ],
          "histogram2dcontour": [
           {
            "colorbar": {
             "outlinewidth": 0,
             "ticks": ""
            },
            "colorscale": [
             [
              0,
              "#0d0887"
             ],
             [
              0.1111111111111111,
              "#46039f"
             ],
             [
              0.2222222222222222,
              "#7201a8"
             ],
             [
              0.3333333333333333,
              "#9c179e"
             ],
             [
              0.4444444444444444,
              "#bd3786"
             ],
             [
              0.5555555555555556,
              "#d8576b"
             ],
             [
              0.6666666666666666,
              "#ed7953"
             ],
             [
              0.7777777777777778,
              "#fb9f3a"
             ],
             [
              0.8888888888888888,
              "#fdca26"
             ],
             [
              1,
              "#f0f921"
             ]
            ],
            "type": "histogram2dcontour"
           }
          ],
          "mesh3d": [
           {
            "colorbar": {
             "outlinewidth": 0,
             "ticks": ""
            },
            "type": "mesh3d"
           }
          ],
          "parcoords": [
           {
            "line": {
             "colorbar": {
              "outlinewidth": 0,
              "ticks": ""
             }
            },
            "type": "parcoords"
           }
          ],
          "pie": [
           {
            "automargin": true,
            "type": "pie"
           }
          ],
          "scatter": [
           {
            "marker": {
             "colorbar": {
              "outlinewidth": 0,
              "ticks": ""
             }
            },
            "type": "scatter"
           }
          ],
          "scatter3d": [
           {
            "line": {
             "colorbar": {
              "outlinewidth": 0,
              "ticks": ""
             }
            },
            "marker": {
             "colorbar": {
              "outlinewidth": 0,
              "ticks": ""
             }
            },
            "type": "scatter3d"
           }
          ],
          "scattercarpet": [
           {
            "marker": {
             "colorbar": {
              "outlinewidth": 0,
              "ticks": ""
             }
            },
            "type": "scattercarpet"
           }
          ],
          "scattergeo": [
           {
            "marker": {
             "colorbar": {
              "outlinewidth": 0,
              "ticks": ""
             }
            },
            "type": "scattergeo"
           }
          ],
          "scattergl": [
           {
            "marker": {
             "colorbar": {
              "outlinewidth": 0,
              "ticks": ""
             }
            },
            "type": "scattergl"
           }
          ],
          "scattermapbox": [
           {
            "marker": {
             "colorbar": {
              "outlinewidth": 0,
              "ticks": ""
             }
            },
            "type": "scattermapbox"
           }
          ],
          "scatterpolar": [
           {
            "marker": {
             "colorbar": {
              "outlinewidth": 0,
              "ticks": ""
             }
            },
            "type": "scatterpolar"
           }
          ],
          "scatterpolargl": [
           {
            "marker": {
             "colorbar": {
              "outlinewidth": 0,
              "ticks": ""
             }
            },
            "type": "scatterpolargl"
           }
          ],
          "scatterternary": [
           {
            "marker": {
             "colorbar": {
              "outlinewidth": 0,
              "ticks": ""
             }
            },
            "type": "scatterternary"
           }
          ],
          "surface": [
           {
            "colorbar": {
             "outlinewidth": 0,
             "ticks": ""
            },
            "colorscale": [
             [
              0,
              "#0d0887"
             ],
             [
              0.1111111111111111,
              "#46039f"
             ],
             [
              0.2222222222222222,
              "#7201a8"
             ],
             [
              0.3333333333333333,
              "#9c179e"
             ],
             [
              0.4444444444444444,
              "#bd3786"
             ],
             [
              0.5555555555555556,
              "#d8576b"
             ],
             [
              0.6666666666666666,
              "#ed7953"
             ],
             [
              0.7777777777777778,
              "#fb9f3a"
             ],
             [
              0.8888888888888888,
              "#fdca26"
             ],
             [
              1,
              "#f0f921"
             ]
            ],
            "type": "surface"
           }
          ],
          "table": [
           {
            "cells": {
             "fill": {
              "color": "#EBF0F8"
             },
             "line": {
              "color": "white"
             }
            },
            "header": {
             "fill": {
              "color": "#C8D4E3"
             },
             "line": {
              "color": "white"
             }
            },
            "type": "table"
           }
          ]
         },
         "layout": {
          "annotationdefaults": {
           "arrowcolor": "#2a3f5f",
           "arrowhead": 0,
           "arrowwidth": 1
          },
          "autotypenumbers": "strict",
          "coloraxis": {
           "colorbar": {
            "outlinewidth": 0,
            "ticks": ""
           }
          },
          "colorscale": {
           "diverging": [
            [
             0,
             "#8e0152"
            ],
            [
             0.1,
             "#c51b7d"
            ],
            [
             0.2,
             "#de77ae"
            ],
            [
             0.3,
             "#f1b6da"
            ],
            [
             0.4,
             "#fde0ef"
            ],
            [
             0.5,
             "#f7f7f7"
            ],
            [
             0.6,
             "#e6f5d0"
            ],
            [
             0.7,
             "#b8e186"
            ],
            [
             0.8,
             "#7fbc41"
            ],
            [
             0.9,
             "#4d9221"
            ],
            [
             1,
             "#276419"
            ]
           ],
           "sequential": [
            [
             0,
             "#0d0887"
            ],
            [
             0.1111111111111111,
             "#46039f"
            ],
            [
             0.2222222222222222,
             "#7201a8"
            ],
            [
             0.3333333333333333,
             "#9c179e"
            ],
            [
             0.4444444444444444,
             "#bd3786"
            ],
            [
             0.5555555555555556,
             "#d8576b"
            ],
            [
             0.6666666666666666,
             "#ed7953"
            ],
            [
             0.7777777777777778,
             "#fb9f3a"
            ],
            [
             0.8888888888888888,
             "#fdca26"
            ],
            [
             1,
             "#f0f921"
            ]
           ],
           "sequentialminus": [
            [
             0,
             "#0d0887"
            ],
            [
             0.1111111111111111,
             "#46039f"
            ],
            [
             0.2222222222222222,
             "#7201a8"
            ],
            [
             0.3333333333333333,
             "#9c179e"
            ],
            [
             0.4444444444444444,
             "#bd3786"
            ],
            [
             0.5555555555555556,
             "#d8576b"
            ],
            [
             0.6666666666666666,
             "#ed7953"
            ],
            [
             0.7777777777777778,
             "#fb9f3a"
            ],
            [
             0.8888888888888888,
             "#fdca26"
            ],
            [
             1,
             "#f0f921"
            ]
           ]
          },
          "colorway": [
           "#636efa",
           "#EF553B",
           "#00cc96",
           "#ab63fa",
           "#FFA15A",
           "#19d3f3",
           "#FF6692",
           "#B6E880",
           "#FF97FF",
           "#FECB52"
          ],
          "font": {
           "color": "#2a3f5f"
          },
          "geo": {
           "bgcolor": "white",
           "lakecolor": "white",
           "landcolor": "#E5ECF6",
           "showlakes": true,
           "showland": true,
           "subunitcolor": "white"
          },
          "hoverlabel": {
           "align": "left"
          },
          "hovermode": "closest",
          "mapbox": {
           "style": "light"
          },
          "paper_bgcolor": "white",
          "plot_bgcolor": "#E5ECF6",
          "polar": {
           "angularaxis": {
            "gridcolor": "white",
            "linecolor": "white",
            "ticks": ""
           },
           "bgcolor": "#E5ECF6",
           "radialaxis": {
            "gridcolor": "white",
            "linecolor": "white",
            "ticks": ""
           }
          },
          "scene": {
           "xaxis": {
            "backgroundcolor": "#E5ECF6",
            "gridcolor": "white",
            "gridwidth": 2,
            "linecolor": "white",
            "showbackground": true,
            "ticks": "",
            "zerolinecolor": "white"
           },
           "yaxis": {
            "backgroundcolor": "#E5ECF6",
            "gridcolor": "white",
            "gridwidth": 2,
            "linecolor": "white",
            "showbackground": true,
            "ticks": "",
            "zerolinecolor": "white"
           },
           "zaxis": {
            "backgroundcolor": "#E5ECF6",
            "gridcolor": "white",
            "gridwidth": 2,
            "linecolor": "white",
            "showbackground": true,
            "ticks": "",
            "zerolinecolor": "white"
           }
          },
          "shapedefaults": {
           "line": {
            "color": "#2a3f5f"
           }
          },
          "ternary": {
           "aaxis": {
            "gridcolor": "white",
            "linecolor": "white",
            "ticks": ""
           },
           "baxis": {
            "gridcolor": "white",
            "linecolor": "white",
            "ticks": ""
           },
           "bgcolor": "#E5ECF6",
           "caxis": {
            "gridcolor": "white",
            "linecolor": "white",
            "ticks": ""
           }
          },
          "title": {
           "x": 0.05
          },
          "xaxis": {
           "automargin": true,
           "gridcolor": "white",
           "linecolor": "white",
           "ticks": "",
           "title": {
            "standoff": 15
           },
           "zerolinecolor": "white",
           "zerolinewidth": 2
          },
          "yaxis": {
           "automargin": true,
           "gridcolor": "white",
           "linecolor": "white",
           "ticks": "",
           "title": {
            "standoff": 15
           },
           "zerolinecolor": "white",
           "zerolinewidth": 2
          }
         }
        }
       }
      },
      "text/html": [
       "<div\n",
       "    class=\"webio-mountpoint\"\n",
       "    data-webio-mountpoint=\"13112188554613063947\"\n",
       ">\n",
       "    <script>\n",
       "    (function(){\n",
       "    // Some integrations (namely, IJulia/Jupyter) use an alternate render pathway than\n",
       "    // just putting the html on the page. If WebIO isn't defined, then it's pretty likely\n",
       "    // that we're in one of those situations and the integration just isn't installed\n",
       "    // correctly.\n",
       "    if (typeof window.WebIO === \"undefined\") {\n",
       "        document\n",
       "            .querySelector('[data-webio-mountpoint=\"13112188554613063947\"]')\n",
       "            .innerHTML = (\n",
       "                '<div style=\"padding: 1em; background-color: #f8d6da; border: 1px solid #f5c6cb; font-weight: bold;\">' +\n",
       "                '<p><strong>WebIO not detected.</strong></p>' +\n",
       "                '<p>Please read ' +\n",
       "                '<a href=\"https://juliagizmos.github.io/WebIO.jl/latest/troubleshooting/not-detected/\" target=\"_blank\">the troubleshooting guide</a> ' +\n",
       "                'for more information on how to resolve this issue.</p>' +\n",
       "                '<p><a href=\"https://juliagizmos.github.io/WebIO.jl/latest/troubleshooting/not-detected/\" target=\"_blank\">https://juliagizmos.github.io/WebIO.jl/latest/troubleshooting/not-detected/</a></p>' +\n",
       "                '</div>'\n",
       "            );\n",
       "        return;\n",
       "    }\n",
       "    WebIO.mount(\n",
       "        document.querySelector('[data-webio-mountpoint=\"13112188554613063947\"]'),\n",
       "        {\"props\":{},\"nodeType\":\"Scope\",\"type\":\"node\",\"instanceArgs\":{\"imports\":{\"data\":[{\"name\":\"Plotly\",\"type\":\"js\",\"url\":\"\\/assetserver\\/db01643933f428e933e6fe3f9bf0c39e9fab8888-plotly.min.js\"},{\"name\":null,\"type\":\"js\",\"url\":\"\\/assetserver\\/2838d48eaeffaf0924c124c65d5596d45c0b86cd-plotly_webio.bundle.js\"}],\"type\":\"async_block\"},\"id\":\"8285710492042412025\",\"handlers\":{\"_toImage\":[\"(function (options){return this.Plotly.toImage(this.plotElem,options).then((function (data){return WebIO.setval({\\\"name\\\":\\\"image\\\",\\\"scope\\\":\\\"8285710492042412025\\\",\\\"id\\\":\\\"4779330878642443717\\\",\\\"type\\\":\\\"observable\\\"},data)}))})\"],\"__get_gd_contents\":[\"(function (prop){prop==\\\"data\\\" ? (WebIO.setval({\\\"name\\\":\\\"__gd_contents\\\",\\\"scope\\\":\\\"8285710492042412025\\\",\\\"id\\\":\\\"3799480163865432024\\\",\\\"type\\\":\\\"observable\\\"},this.plotElem.data)) : undefined; return prop==\\\"layout\\\" ? (WebIO.setval({\\\"name\\\":\\\"__gd_contents\\\",\\\"scope\\\":\\\"8285710492042412025\\\",\\\"id\\\":\\\"3799480163865432024\\\",\\\"type\\\":\\\"observable\\\"},this.plotElem.layout)) : undefined})\"],\"_downloadImage\":[\"(function (options){return this.Plotly.downloadImage(this.plotElem,options)})\"],\"_commands\":[\"(function (args){var fn=args.shift(); var elem=this.plotElem; var Plotly=this.Plotly; args.unshift(elem); return Plotly[fn].apply(this,args)})\"]},\"systemjs_options\":null,\"mount_callbacks\":[\"function () {\\n    var handler = ((function (Plotly,PlotlyWebIO){PlotlyWebIO.init(WebIO); var gd=this.dom.querySelector(\\\"#plot-383daf17-7d61-4270-b2e0-f852d17ebd1a\\\"); this.plotElem=gd; this.Plotly=Plotly; (window.Blink!==undefined) ? (gd.style.width=\\\"100%\\\", gd.style.height=\\\"100vh\\\", gd.style.marginLeft=\\\"0%\\\", gd.style.marginTop=\\\"0vh\\\") : undefined; window.onresize=(function (){return Plotly.Plots.resize(gd)}); Plotly.newPlot(gd,[{\\\"y\\\":[58323.75322799757,56963.00545294583,55657.50156076532,54406.06207715999,53207.52124002203,52060.726929625496,50964.54059881903,49917.8372032037,48919.505131339654,47968.446134919766],\\\"type\\\":\\\"scatter\\\",\\\"x\\\":[\\\"2022-03-23\\\",\\\"2022-03-22\\\",\\\"2022-03-21\\\",\\\"2022-03-20\\\",\\\"2022-03-19\\\",\\\"2022-03-18\\\",\\\"2022-03-17\\\",\\\"2022-03-16\\\",\\\"2022-03-15\\\",\\\"2022-03-14\\\"]},{\\\"y\\\":[42912.0,42373.0,41022.0,41276.0,42233.0,41767.8,40914.8,41118.7,39285.7,39671.1],\\\"type\\\":\\\"scatter\\\",\\\"x\\\":[\\\"2022-03-23\\\",\\\"2022-03-22\\\",\\\"2022-03-21\\\",\\\"2022-03-20\\\",\\\"2022-03-19\\\",\\\"2022-03-18\\\",\\\"2022-03-17\\\",\\\"2022-03-16\\\",\\\"2022-03-15\\\",\\\"2022-03-14\\\"]}],{\\\"template\\\":{\\\"layout\\\":{\\\"coloraxis\\\":{\\\"colorbar\\\":{\\\"ticks\\\":\\\"\\\",\\\"outlinewidth\\\":0}},\\\"xaxis\\\":{\\\"gridcolor\\\":\\\"white\\\",\\\"zerolinewidth\\\":2,\\\"title\\\":{\\\"standoff\\\":15},\\\"ticks\\\":\\\"\\\",\\\"zerolinecolor\\\":\\\"white\\\",\\\"automargin\\\":true,\\\"linecolor\\\":\\\"white\\\"},\\\"hovermode\\\":\\\"closest\\\",\\\"paper_bgcolor\\\":\\\"white\\\",\\\"geo\\\":{\\\"showlakes\\\":true,\\\"showland\\\":true,\\\"landcolor\\\":\\\"#E5ECF6\\\",\\\"bgcolor\\\":\\\"white\\\",\\\"subunitcolor\\\":\\\"white\\\",\\\"lakecolor\\\":\\\"white\\\"},\\\"colorscale\\\":{\\\"sequential\\\":[[0.0,\\\"#0d0887\\\"],[0.1111111111111111,\\\"#46039f\\\"],[0.2222222222222222,\\\"#7201a8\\\"],[0.3333333333333333,\\\"#9c179e\\\"],[0.4444444444444444,\\\"#bd3786\\\"],[0.5555555555555556,\\\"#d8576b\\\"],[0.6666666666666666,\\\"#ed7953\\\"],[0.7777777777777778,\\\"#fb9f3a\\\"],[0.8888888888888888,\\\"#fdca26\\\"],[1.0,\\\"#f0f921\\\"]],\\\"diverging\\\":[[0,\\\"#8e0152\\\"],[0.1,\\\"#c51b7d\\\"],[0.2,\\\"#de77ae\\\"],[0.3,\\\"#f1b6da\\\"],[0.4,\\\"#fde0ef\\\"],[0.5,\\\"#f7f7f7\\\"],[0.6,\\\"#e6f5d0\\\"],[0.7,\\\"#b8e186\\\"],[0.8,\\\"#7fbc41\\\"],[0.9,\\\"#4d9221\\\"],[1,\\\"#276419\\\"]],\\\"sequentialminus\\\":[[0.0,\\\"#0d0887\\\"],[0.1111111111111111,\\\"#46039f\\\"],[0.2222222222222222,\\\"#7201a8\\\"],[0.3333333333333333,\\\"#9c179e\\\"],[0.4444444444444444,\\\"#bd3786\\\"],[0.5555555555555556,\\\"#d8576b\\\"],[0.6666666666666666,\\\"#ed7953\\\"],[0.7777777777777778,\\\"#fb9f3a\\\"],[0.8888888888888888,\\\"#fdca26\\\"],[1.0,\\\"#f0f921\\\"]]},\\\"yaxis\\\":{\\\"gridcolor\\\":\\\"white\\\",\\\"zerolinewidth\\\":2,\\\"title\\\":{\\\"standoff\\\":15},\\\"ticks\\\":\\\"\\\",\\\"zerolinecolor\\\":\\\"white\\\",\\\"automargin\\\":true,\\\"linecolor\\\":\\\"white\\\"},\\\"shapedefaults\\\":{\\\"line\\\":{\\\"color\\\":\\\"#2a3f5f\\\"}},\\\"hoverlabel\\\":{\\\"align\\\":\\\"left\\\"},\\\"mapbox\\\":{\\\"style\\\":\\\"light\\\"},\\\"polar\\\":{\\\"angularaxis\\\":{\\\"gridcolor\\\":\\\"white\\\",\\\"ticks\\\":\\\"\\\",\\\"linecolor\\\":\\\"white\\\"},\\\"bgcolor\\\":\\\"#E5ECF6\\\",\\\"radialaxis\\\":{\\\"gridcolor\\\":\\\"white\\\",\\\"ticks\\\":\\\"\\\",\\\"linecolor\\\":\\\"white\\\"}},\\\"autotypenumbers\\\":\\\"strict\\\",\\\"font\\\":{\\\"color\\\":\\\"#2a3f5f\\\"},\\\"ternary\\\":{\\\"baxis\\\":{\\\"gridcolor\\\":\\\"white\\\",\\\"ticks\\\":\\\"\\\",\\\"linecolor\\\":\\\"white\\\"},\\\"bgcolor\\\":\\\"#E5ECF6\\\",\\\"caxis\\\":{\\\"gridcolor\\\":\\\"white\\\",\\\"ticks\\\":\\\"\\\",\\\"linecolor\\\":\\\"white\\\"},\\\"aaxis\\\":{\\\"gridcolor\\\":\\\"white\\\",\\\"ticks\\\":\\\"\\\",\\\"linecolor\\\":\\\"white\\\"}},\\\"annotationdefaults\\\":{\\\"arrowhead\\\":0,\\\"arrowwidth\\\":1,\\\"arrowcolor\\\":\\\"#2a3f5f\\\"},\\\"plot_bgcolor\\\":\\\"#E5ECF6\\\",\\\"title\\\":{\\\"x\\\":0.05},\\\"scene\\\":{\\\"xaxis\\\":{\\\"gridcolor\\\":\\\"white\\\",\\\"gridwidth\\\":2,\\\"backgroundcolor\\\":\\\"#E5ECF6\\\",\\\"ticks\\\":\\\"\\\",\\\"showbackground\\\":true,\\\"zerolinecolor\\\":\\\"white\\\",\\\"linecolor\\\":\\\"white\\\"},\\\"zaxis\\\":{\\\"gridcolor\\\":\\\"white\\\",\\\"gridwidth\\\":2,\\\"backgroundcolor\\\":\\\"#E5ECF6\\\",\\\"ticks\\\":\\\"\\\",\\\"showbackground\\\":true,\\\"zerolinecolor\\\":\\\"white\\\",\\\"linecolor\\\":\\\"white\\\"},\\\"yaxis\\\":{\\\"gridcolor\\\":\\\"white\\\",\\\"gridwidth\\\":2,\\\"backgroundcolor\\\":\\\"#E5ECF6\\\",\\\"ticks\\\":\\\"\\\",\\\"showbackground\\\":true,\\\"zerolinecolor\\\":\\\"white\\\",\\\"linecolor\\\":\\\"white\\\"}},\\\"colorway\\\":[\\\"#636efa\\\",\\\"#EF553B\\\",\\\"#00cc96\\\",\\\"#ab63fa\\\",\\\"#FFA15A\\\",\\\"#19d3f3\\\",\\\"#FF6692\\\",\\\"#B6E880\\\",\\\"#FF97FF\\\",\\\"#FECB52\\\"]},\\\"data\\\":{\\\"barpolar\\\":[{\\\"type\\\":\\\"barpolar\\\",\\\"marker\\\":{\\\"line\\\":{\\\"color\\\":\\\"#E5ECF6\\\",\\\"width\\\":0.5}}}],\\\"carpet\\\":[{\\\"aaxis\\\":{\\\"gridcolor\\\":\\\"white\\\",\\\"endlinecolor\\\":\\\"#2a3f5f\\\",\\\"minorgridcolor\\\":\\\"white\\\",\\\"startlinecolor\\\":\\\"#2a3f5f\\\",\\\"linecolor\\\":\\\"white\\\"},\\\"type\\\":\\\"carpet\\\",\\\"baxis\\\":{\\\"gridcolor\\\":\\\"white\\\",\\\"endlinecolor\\\":\\\"#2a3f5f\\\",\\\"minorgridcolor\\\":\\\"white\\\",\\\"startlinecolor\\\":\\\"#2a3f5f\\\",\\\"linecolor\\\":\\\"white\\\"}}],\\\"scatterpolar\\\":[{\\\"type\\\":\\\"scatterpolar\\\",\\\"marker\\\":{\\\"colorbar\\\":{\\\"ticks\\\":\\\"\\\",\\\"outlinewidth\\\":0}}}],\\\"parcoords\\\":[{\\\"line\\\":{\\\"colorbar\\\":{\\\"ticks\\\":\\\"\\\",\\\"outlinewidth\\\":0}},\\\"type\\\":\\\"parcoords\\\"}],\\\"scatter\\\":[{\\\"type\\\":\\\"scatter\\\",\\\"marker\\\":{\\\"colorbar\\\":{\\\"ticks\\\":\\\"\\\",\\\"outlinewidth\\\":0}}}],\\\"histogram2dcontour\\\":[{\\\"colorbar\\\":{\\\"ticks\\\":\\\"\\\",\\\"outlinewidth\\\":0},\\\"type\\\":\\\"histogram2dcontour\\\",\\\"colorscale\\\":[[0.0,\\\"#0d0887\\\"],[0.1111111111111111,\\\"#46039f\\\"],[0.2222222222222222,\\\"#7201a8\\\"],[0.3333333333333333,\\\"#9c179e\\\"],[0.4444444444444444,\\\"#bd3786\\\"],[0.5555555555555556,\\\"#d8576b\\\"],[0.6666666666666666,\\\"#ed7953\\\"],[0.7777777777777778,\\\"#fb9f3a\\\"],[0.8888888888888888,\\\"#fdca26\\\"],[1.0,\\\"#f0f921\\\"]]}],\\\"contour\\\":[{\\\"colorbar\\\":{\\\"ticks\\\":\\\"\\\",\\\"outlinewidth\\\":0},\\\"type\\\":\\\"contour\\\",\\\"colorscale\\\":[[0.0,\\\"#0d0887\\\"],[0.1111111111111111,\\\"#46039f\\\"],[0.2222222222222222,\\\"#7201a8\\\"],[0.3333333333333333,\\\"#9c179e\\\"],[0.4444444444444444,\\\"#bd3786\\\"],[0.5555555555555556,\\\"#d8576b\\\"],[0.6666666666666666,\\\"#ed7953\\\"],[0.7777777777777778,\\\"#fb9f3a\\\"],[0.8888888888888888,\\\"#fdca26\\\"],[1.0,\\\"#f0f921\\\"]]}],\\\"scattercarpet\\\":[{\\\"type\\\":\\\"scattercarpet\\\",\\\"marker\\\":{\\\"colorbar\\\":{\\\"ticks\\\":\\\"\\\",\\\"outlinewidth\\\":0}}}],\\\"mesh3d\\\":[{\\\"colorbar\\\":{\\\"ticks\\\":\\\"\\\",\\\"outlinewidth\\\":0},\\\"type\\\":\\\"mesh3d\\\"}],\\\"surface\\\":[{\\\"colorbar\\\":{\\\"ticks\\\":\\\"\\\",\\\"outlinewidth\\\":0},\\\"type\\\":\\\"surface\\\",\\\"colorscale\\\":[[0.0,\\\"#0d0887\\\"],[0.1111111111111111,\\\"#46039f\\\"],[0.2222222222222222,\\\"#7201a8\\\"],[0.3333333333333333,\\\"#9c179e\\\"],[0.4444444444444444,\\\"#bd3786\\\"],[0.5555555555555556,\\\"#d8576b\\\"],[0.6666666666666666,\\\"#ed7953\\\"],[0.7777777777777778,\\\"#fb9f3a\\\"],[0.8888888888888888,\\\"#fdca26\\\"],[1.0,\\\"#f0f921\\\"]]}],\\\"scattermapbox\\\":[{\\\"type\\\":\\\"scattermapbox\\\",\\\"marker\\\":{\\\"colorbar\\\":{\\\"ticks\\\":\\\"\\\",\\\"outlinewidth\\\":0}}}],\\\"scattergeo\\\":[{\\\"type\\\":\\\"scattergeo\\\",\\\"marker\\\":{\\\"colorbar\\\":{\\\"ticks\\\":\\\"\\\",\\\"outlinewidth\\\":0}}}],\\\"histogram\\\":[{\\\"type\\\":\\\"histogram\\\",\\\"marker\\\":{\\\"colorbar\\\":{\\\"ticks\\\":\\\"\\\",\\\"outlinewidth\\\":0}}}],\\\"pie\\\":[{\\\"type\\\":\\\"pie\\\",\\\"automargin\\\":true}],\\\"choropleth\\\":[{\\\"colorbar\\\":{\\\"ticks\\\":\\\"\\\",\\\"outlinewidth\\\":0},\\\"type\\\":\\\"choropleth\\\"}],\\\"heatmapgl\\\":[{\\\"colorbar\\\":{\\\"ticks\\\":\\\"\\\",\\\"outlinewidth\\\":0},\\\"type\\\":\\\"heatmapgl\\\",\\\"colorscale\\\":[[0.0,\\\"#0d0887\\\"],[0.1111111111111111,\\\"#46039f\\\"],[0.2222222222222222,\\\"#7201a8\\\"],[0.3333333333333333,\\\"#9c179e\\\"],[0.4444444444444444,\\\"#bd3786\\\"],[0.5555555555555556,\\\"#d8576b\\\"],[0.6666666666666666,\\\"#ed7953\\\"],[0.7777777777777778,\\\"#fb9f3a\\\"],[0.8888888888888888,\\\"#fdca26\\\"],[1.0,\\\"#f0f921\\\"]]}],\\\"bar\\\":[{\\\"type\\\":\\\"bar\\\",\\\"error_y\\\":{\\\"color\\\":\\\"#2a3f5f\\\"},\\\"error_x\\\":{\\\"color\\\":\\\"#2a3f5f\\\"},\\\"marker\\\":{\\\"line\\\":{\\\"color\\\":\\\"#E5ECF6\\\",\\\"width\\\":0.5}}}],\\\"heatmap\\\":[{\\\"colorbar\\\":{\\\"ticks\\\":\\\"\\\",\\\"outlinewidth\\\":0},\\\"type\\\":\\\"heatmap\\\",\\\"colorscale\\\":[[0.0,\\\"#0d0887\\\"],[0.1111111111111111,\\\"#46039f\\\"],[0.2222222222222222,\\\"#7201a8\\\"],[0.3333333333333333,\\\"#9c179e\\\"],[0.4444444444444444,\\\"#bd3786\\\"],[0.5555555555555556,\\\"#d8576b\\\"],[0.6666666666666666,\\\"#ed7953\\\"],[0.7777777777777778,\\\"#fb9f3a\\\"],[0.8888888888888888,\\\"#fdca26\\\"],[1.0,\\\"#f0f921\\\"]]}],\\\"contourcarpet\\\":[{\\\"colorbar\\\":{\\\"ticks\\\":\\\"\\\",\\\"outlinewidth\\\":0},\\\"type\\\":\\\"contourcarpet\\\"}],\\\"table\\\":[{\\\"type\\\":\\\"table\\\",\\\"header\\\":{\\\"line\\\":{\\\"color\\\":\\\"white\\\"},\\\"fill\\\":{\\\"color\\\":\\\"#C8D4E3\\\"}},\\\"cells\\\":{\\\"line\\\":{\\\"color\\\":\\\"white\\\"},\\\"fill\\\":{\\\"color\\\":\\\"#EBF0F8\\\"}}}],\\\"scatter3d\\\":[{\\\"line\\\":{\\\"colorbar\\\":{\\\"ticks\\\":\\\"\\\",\\\"outlinewidth\\\":0}},\\\"type\\\":\\\"scatter3d\\\",\\\"marker\\\":{\\\"colorbar\\\":{\\\"ticks\\\":\\\"\\\",\\\"outlinewidth\\\":0}}}],\\\"scattergl\\\":[{\\\"type\\\":\\\"scattergl\\\",\\\"marker\\\":{\\\"colorbar\\\":{\\\"ticks\\\":\\\"\\\",\\\"outlinewidth\\\":0}}}],\\\"histogram2d\\\":[{\\\"colorbar\\\":{\\\"ticks\\\":\\\"\\\",\\\"outlinewidth\\\":0},\\\"type\\\":\\\"histogram2d\\\",\\\"colorscale\\\":[[0.0,\\\"#0d0887\\\"],[0.1111111111111111,\\\"#46039f\\\"],[0.2222222222222222,\\\"#7201a8\\\"],[0.3333333333333333,\\\"#9c179e\\\"],[0.4444444444444444,\\\"#bd3786\\\"],[0.5555555555555556,\\\"#d8576b\\\"],[0.6666666666666666,\\\"#ed7953\\\"],[0.7777777777777778,\\\"#fb9f3a\\\"],[0.8888888888888888,\\\"#fdca26\\\"],[1.0,\\\"#f0f921\\\"]]}],\\\"scatterternary\\\":[{\\\"type\\\":\\\"scatterternary\\\",\\\"marker\\\":{\\\"colorbar\\\":{\\\"ticks\\\":\\\"\\\",\\\"outlinewidth\\\":0}}}],\\\"scatterpolargl\\\":[{\\\"type\\\":\\\"scatterpolargl\\\",\\\"marker\\\":{\\\"colorbar\\\":{\\\"ticks\\\":\\\"\\\",\\\"outlinewidth\\\":0}}}]}},\\\"margin\\\":{\\\"l\\\":50,\\\"b\\\":50,\\\"r\\\":50,\\\"t\\\":60}},{\\\"showLink\\\":false,\\\"editable\\\":false,\\\"responsive\\\":true,\\\"staticPlot\\\":false,\\\"scrollZoom\\\":true}); gd.on(\\\"plotly_hover\\\",(function (data){var filtered_data=WebIO.PlotlyCommands.filterEventData(gd,data,\\\"hover\\\"); return !(filtered_data.isnil) ? (WebIO.setval({\\\"name\\\":\\\"hover\\\",\\\"scope\\\":\\\"8285710492042412025\\\",\\\"id\\\":\\\"16998228211822112464\\\",\\\"type\\\":\\\"observable\\\"},filtered_data.out)) : undefined})); gd.on(\\\"plotly_unhover\\\",(function (){return WebIO.setval({\\\"name\\\":\\\"hover\\\",\\\"scope\\\":\\\"8285710492042412025\\\",\\\"id\\\":\\\"16998228211822112464\\\",\\\"type\\\":\\\"observable\\\"},{})})); gd.on(\\\"plotly_selected\\\",(function (data){var filtered_data=WebIO.PlotlyCommands.filterEventData(gd,data,\\\"selected\\\"); return !(filtered_data.isnil) ? (WebIO.setval({\\\"name\\\":\\\"selected\\\",\\\"scope\\\":\\\"8285710492042412025\\\",\\\"id\\\":\\\"7374299366465474451\\\",\\\"type\\\":\\\"observable\\\"},filtered_data.out)) : undefined})); gd.on(\\\"plotly_deselect\\\",(function (){return WebIO.setval({\\\"name\\\":\\\"selected\\\",\\\"scope\\\":\\\"8285710492042412025\\\",\\\"id\\\":\\\"7374299366465474451\\\",\\\"type\\\":\\\"observable\\\"},{})})); gd.on(\\\"plotly_relayout\\\",(function (data){var filtered_data=WebIO.PlotlyCommands.filterEventData(gd,data,\\\"relayout\\\"); return !(filtered_data.isnil) ? (WebIO.setval({\\\"name\\\":\\\"relayout\\\",\\\"scope\\\":\\\"8285710492042412025\\\",\\\"id\\\":\\\"4103896644104908014\\\",\\\"type\\\":\\\"observable\\\"},filtered_data.out)) : undefined})); return gd.on(\\\"plotly_click\\\",(function (data){var filtered_data=WebIO.PlotlyCommands.filterEventData(gd,data,\\\"click\\\"); return !(filtered_data.isnil) ? (WebIO.setval({\\\"name\\\":\\\"click\\\",\\\"scope\\\":\\\"8285710492042412025\\\",\\\"id\\\":\\\"17646859642806926243\\\",\\\"type\\\":\\\"observable\\\"},filtered_data.out)) : undefined}))}));\\n    (WebIO.importBlock({\\\"data\\\":[{\\\"name\\\":\\\"Plotly\\\",\\\"type\\\":\\\"js\\\",\\\"url\\\":\\\"\\/assetserver\\/db01643933f428e933e6fe3f9bf0c39e9fab8888-plotly.min.js\\\"},{\\\"name\\\":null,\\\"type\\\":\\\"js\\\",\\\"url\\\":\\\"\\/assetserver\\/2838d48eaeffaf0924c124c65d5596d45c0b86cd-plotly_webio.bundle.js\\\"}],\\\"type\\\":\\\"async_block\\\"})).then((imports) => handler.apply(this, imports));\\n}\\n\"],\"observables\":{\"_toImage\":{\"sync\":false,\"id\":\"3342039633792654938\",\"value\":{}},\"hover\":{\"sync\":false,\"id\":\"16998228211822112464\",\"value\":{}},\"selected\":{\"sync\":false,\"id\":\"7374299366465474451\",\"value\":{}},\"__gd_contents\":{\"sync\":false,\"id\":\"3799480163865432024\",\"value\":{}},\"click\":{\"sync\":false,\"id\":\"17646859642806926243\",\"value\":{}},\"image\":{\"sync\":true,\"id\":\"4779330878642443717\",\"value\":\"\"},\"__get_gd_contents\":{\"sync\":false,\"id\":\"12521726220377174857\",\"value\":\"\"},\"_downloadImage\":{\"sync\":false,\"id\":\"13278937106862499461\",\"value\":{}},\"relayout\":{\"sync\":false,\"id\":\"4103896644104908014\",\"value\":{}},\"_commands\":{\"sync\":false,\"id\":\"2883449985224591356\",\"value\":[]}}},\"children\":[{\"props\":{\"id\":\"plot-383daf17-7d61-4270-b2e0-f852d17ebd1a\"},\"nodeType\":\"DOM\",\"type\":\"node\",\"instanceArgs\":{\"namespace\":\"html\",\"tag\":\"div\"},\"children\":[]}]},\n",
       "        window,\n",
       "    );\n",
       "    })()\n",
       "    </script>\n",
       "</div>\n"
      ],
      "text/plain": [
       "data: [\n",
       "  \"scatter with fields type, x, and y\",\n",
       "  \"scatter with fields type, x, and y\"\n",
       "]\n",
       "\n",
       "layout: \"layout with fields margin and template\"\n",
       "\n"
      ]
     },
     "execution_count": 6,
     "metadata": {},
     "output_type": "execute_result"
    }
   ],
   "source": [
    "f5(x)=x_result[4][1]+x*x_result[4][2]+x^2*x_result[4][3]+x^3*x_result[4][4]+x^4*x_result[4][5]+x^5*x_result[4][6]\n",
    "plot(dataBitcoin.Date[1:10],[reverse(f5.(Array((m+1:378)))) (dataBitcoin.PriceFloat[1:10])])"
   ]
  },
  {
   "cell_type": "code",
   "execution_count": 7,
   "id": "573dff90",
   "metadata": {},
   "outputs": [
    {
     "data": {
      "text/plain": [
       "11581.479955679839"
      ]
     },
     "execution_count": 7,
     "metadata": {},
     "output_type": "execute_result"
    }
   ],
   "source": [
    "#diferencia de la predicción y promedio de diferencia\n",
    "diferencia=reverse(f5.(Array((m+1:378))))-dataBitcoin.PriceFloat[1:10]\n",
    "promedio=sum(diferencia)/10"
   ]
  },
  {
   "cell_type": "markdown",
   "id": "bcc66baa",
   "metadata": {},
   "source": [
    "En promedio se tiene que la diferencia entre la predicción y el precio real es de 11581 dolares, con lo cual este modelo no muestra una buena precisión en su predicción"
   ]
  },
  {
   "cell_type": "markdown",
   "id": "ad718caf",
   "metadata": {},
   "source": [
    "##### Condiciones en el modelo\n",
    "Ejecute el siguiente notebook:\n",
    "[condiciones_del_modelo.ipynb](./condiciones_del_modelo.ipynb)\n",
    "\n",
    "#### Bitcoin y su relación con algunas commodities\n",
    "Ejecuta el siguiente notebook:\n",
    "[commodities.ipynb](./Commodities.ipynb)"
   ]
  }
 ],
 "metadata": {
  "@webio": {
   "lastCommId": "076b9e1420474aaa87564a8b2565a7e8",
   "lastKernelId": "eaef9b1f-3e2d-48a9-96fd-d68cbd86d2f1"
  },
  "kernelspec": {
   "display_name": "Julia 1.7.2",
   "language": "julia",
   "name": "julia-1.7"
  },
  "language_info": {
   "file_extension": ".jl",
   "mimetype": "application/julia",
   "name": "julia",
   "version": "1.7.2"
  }
 },
 "nbformat": 4,
 "nbformat_minor": 5
}
