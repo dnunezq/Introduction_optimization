{
 "cells": [
  {
   "cell_type": "markdown",
   "id": "ad19102e",
   "metadata": {},
   "source": [
    "## 2. Modelo no lineal para la predicción del precio del bitcoin\n",
    "\n",
    "Acontinuación se plantea un modelo no lineal para predecir el precio del bitcoin mediante el ajuste con mínimos cuadrados.\n",
    "\n",
    "---"
   ]
  },
  {
   "cell_type": "markdown",
   "id": "8067ec98",
   "metadata": {},
   "source": [
    "#### Creación del data set\n",
    "Acontinuación se crea el data set, tomando los precios del bitcoin durante el último año"
   ]
  },
  {
   "cell_type": "code",
   "execution_count": null,
   "id": "f98b9b86",
   "metadata": {},
   "outputs": [],
   "source": [
    "using CSV\n",
    "using DataFrames\n",
    "\n",
    "\n",
    "#Data set precio del bitcoin durante el último año\n",
    "dataBitcoin = CSV.read(\"actualBitcoin.csv\",DataFrame);\n",
    "dataBitcoin.date = dataBitcoin.Date;\n",
    "dataBitcoin.Price .= replace.(dataBitcoin.Price, \",\" => \"\");\n",
    "dataBitcoin.PriceFloat = parse.(Float64, dataBitcoin.Price);"
   ]
  },
  {
   "cell_type": "markdown",
   "id": "f5618f36",
   "metadata": {},
   "source": [
    "#### Modelo\n",
    "Utilizaremos distintos modelos basados en polinomios que van a relacionar los dias con el precio del bitcoin.\n",
    "- La función a minimizar es $f_0(x)=\\|Ax-b\\|$ donde $A \\in \\mathbb{R}^{368\\times n+1}$ donde 368 hace referencia al número de datos de entrada, que en este caso son los últimos 368 dias, y $n$ es el grado del polinomio con el que queremos modelar. La $i+1-esima $ columna de $A$ está dada por $ a_1^i,a_2^i,\\dots a_{376}^i$, para $i=0,1,2\\dots n$, es decir $A$ tendría la siguiente forma:\n",
    "$$A=\\begin{matrix}\n",
    "1 & a_1 & a_1^2 & \\dots & a_1^n\\\\\n",
    "1 & a_2 & a_2^2 & \\dots & a_2^n \\\\\n",
    "\\vdots & \\vdots  & \\vdots& \\vdots\\\\\n",
    "1 & a_{368} & a_{368}^2 & \\dots & a_{368}^n \\\\\n",
    "\\end{matrix}$$\n",
    "y x sería un vector que pertenece a $\\mathbb{R}^{n+1\\times 1}$ y sería el vector $x=(\\beta_0,\\beta_1,\\beta_2,\\dots,\\beta_n)$ de variables de optimización, por último $b\\in \\mathbb{R}^{m\\times 1}$ y cada $b_i$ corresponde al precio del bitcoin en el día $i$ para $i=1,\\dots 368$.De esta manera nuestros modelos son de la forma $\\beta_0+\\beta_1x+\\beta_2x^2+\\dots+\\beta_nx^n=b$ oara $n\\geq 2$.\n",
    "Acontinuación probaremos el modelo para $n=2,3,4 \\ y \\ 5$"
   ]
  },
  {
   "cell_type": "markdown",
   "id": "110df7df",
   "metadata": {},
   "source": [
    "Gráfico del precio del bitcoin desde el 11 de marzo de 2021 al 13 de marzo de 2022:"
   ]
  },
  {
   "cell_type": "code",
   "execution_count": null,
   "id": "a372c0a0",
   "metadata": {},
   "outputs": [],
   "source": [
    "using PlotlyJS, DataFrames, Dates\n",
    "#convert string databitcoin.Date to type Date\n",
    "dataBitcoin[!, :Date] = Date.(dataBitcoin.Date, dateformat\"uuu d, yyyy\");"
   ]
  },
  {
   "cell_type": "code",
   "execution_count": null,
   "id": "a879c25c",
   "metadata": {},
   "outputs": [],
   "source": [
    "plot(dataBitcoin.Date[11:378],dataBitcoin.PriceFloat[11:378],Layout(title=\"Precio del bitcoin\",xaxis_rangeslider_visible=true,layout=(2,2)))"
   ]
  },
  {
   "cell_type": "markdown",
   "id": "329d191a",
   "metadata": {},
   "source": [
    "Creación de los modelos"
   ]
  },
  {
   "cell_type": "code",
   "execution_count": null,
   "id": "dc9e3504",
   "metadata": {},
   "outputs": [],
   "source": [
    "#Creación de los modelos\n",
    "m=368\n",
    "a=dataBitcoin.PriceFloat[11:378]\n",
    "#start matrix\n",
    "A=[ones(m,1) Array((1:m))]\n",
    "b=reverse(dataBitcoin.PriceFloat[11:378])\n",
    "#arreglo que guarda la prediccion para n=2,3,4,5 \n",
    "predictions=ones(368,1)\n",
    "#arreglo que guarda los x de cada modelo \n",
    "x_result=[]\n",
    "\n",
    "pred=0\n",
    "for n in 2:5\n",
    "    A=[A Array((1:m)).^n]\n",
    "    x=A\\b\n",
    "    print(x)\n",
    "    push!(x_result,x)\n",
    "    pred=A*x\n",
    "    predictions=[predictions reverse(pred)]\n",
    "    #push!(finalPlot,plot(dataBitcoin.Date[11:378],[pred dataBitcoin.Price[11:378]]));\n",
    "    \n",
    "end\n"
   ]
  },
  {
   "cell_type": "code",
   "execution_count": null,
   "id": "17dbd5e4",
   "metadata": {},
   "outputs": [],
   "source": [
    "print(size(predictions))\n",
    "print(size(dataBitcoin.Price[11:378]))\n",
    "#finalplott=[finalPlot[1];finalPlot[2];finalPlot[3];finalPlot[4]]\n",
    "#relayout!(finalplott, height=1400, width=800,margin=2)\n",
    "models=plot(dataBitcoin.Date[11:378],[predictions[:,2:5] dataBitcoin.Price[11:378]])\n",
    "restyle!(models, name=[\"n=2\",\"n=3\",\"n=4\",\"n=5\",\"precio Bitcoin\"])\n",
    "models"
   ]
  },
  {
   "cell_type": "markdown",
   "id": "250d0a12",
   "metadata": {},
   "source": [
    "de acuerdo a la gráfica los modelos con polinomios de grado 3 y 4 tenderán a decrecer de manera muy rapida y el de grado 2 no va a tener mucha variación, por lo que haremos las predicciones de los precios de la semana únicamente con el modelo del polinomio de grado  5."
   ]
  },
  {
   "cell_type": "code",
   "execution_count": null,
   "id": "eb743038",
   "metadata": {},
   "outputs": [],
   "source": [
    "f5(x)=x_result[4][1]+x*x_result[4][2]+x^2*x_result[4][3]+x^3*x_result[4][4]+x^4*x_result[4][5]+x^5*x_result[4][6]\n",
    "plot(dataBitcoin.Date[1:10],[reverse(f5.(Array((m+1:378)))) (dataBitcoin.PriceFloat[1:10])])"
   ]
  },
  {
   "cell_type": "code",
   "execution_count": null,
   "id": "573dff90",
   "metadata": {},
   "outputs": [],
   "source": [
    "#diferencia de la predicción y promedio de diferencia\n",
    "diferencia=reverse(f5.(Array((m+1:378))))-dataBitcoin.PriceFloat[1:10]\n",
    "promedio=sum(diferencia)/10"
   ]
  },
  {
   "cell_type": "markdown",
   "id": "bcc66baa",
   "metadata": {},
   "source": [
    "En promedio se tiene que la diferencia entre la predicción y el precio real es de 11581 dolares, con lo cual este modelo no demuestra una buena precisión en su predicción"
   ]
  },
  {
   "cell_type": "code",
   "execution_count": null,
   "id": "4aecb302",
   "metadata": {},
   "outputs": [],
   "source": [
    "plot1=plot(dataBitcoin.Date,dataBitcoin.PriceFloat,Layout(title=\"Precio del bitcoin\",xaxis_rangeslider_visible=true,layout=(2,2)))\n",
    "plott=[plot1;plot1]\n",
    "relayout!(plott, height=600, width=600, title_text=\"Stacked Subplots\",margin=2)\n",
    "plott"
   ]
  },
  {
   "cell_type": "code",
   "execution_count": null,
   "id": "7d043b7e",
   "metadata": {},
   "outputs": [],
   "source": [
    "make_plot() = plot(scatter(x=1:4, y=rand(4)))\n",
    "p = [make_plot(); make_plot(); make_plot()]\n",
    "relayout!(p, height=600, width=600, title_text=\"Stacked Subplots\")\n",
    "p"
   ]
  }
 ],
 "metadata": {
  "@webio": {
   "lastCommId": null,
   "lastKernelId": null
  },
  "kernelspec": {
   "display_name": "Julia 1.7.2",
   "language": "julia",
   "name": "julia-1.7"
  },
  "language_info": {
   "file_extension": ".jl",
   "mimetype": "application/julia",
   "name": "julia",
   "version": "1.7.2"
  }
 },
 "nbformat": 4,
 "nbformat_minor": 5
}
